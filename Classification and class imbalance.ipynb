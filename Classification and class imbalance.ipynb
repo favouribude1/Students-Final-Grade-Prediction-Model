{
 "cells": [
  {
   "cell_type": "markdown",
   "id": "0ee074ac",
   "metadata": {},
   "source": [
    "# STUDENT PERFORMANCE ANALYSIS\n",
    "## CLASSIFICATION and CLASS IMBALANCE"
   ]
  },
  {
   "cell_type": "markdown",
   "id": "f484394f",
   "metadata": {},
   "source": [
    "#### TABLE of CONTENTS\n",
    "\n",
    "1. Import Packages\n",
    "2. Load Dataset\n",
    "3. Data Preparation\n",
    "4. Investigate Class Imbalance\n",
    "     - Final Grade Classification\n",
    "     - Final Grade Class Distribution\n",
    "     \n",
    "   MACHINE LEARNING PREPROCESSING\n",
    "   \n",
    "5. Data Preprocessing for Maching Learning\n",
    "     - Encoding(One Hot Encoding and Label Encoding)\n",
    "     - Data Formating(Seperating Features and Target Variables\n",
    "     \n",
    "6. Split Data into Traing and Testing Set\n",
    "\n",
    "   BUILDING MACHING LEARNING MODELS on IMBALANCE DATASET\n",
    "7. Random Forest Classifier\n",
    "     - Fitting Random Forest Classifier on Imbalance Dataset\n",
    "     - Model Prediction\n",
    "     - Model Evaluation\n",
    "8. Support Vector Machine\n",
    "     - Fitting Support Vector Machine on Imbalance Dataset\n",
    "     - Model Prediction\n",
    "     - Model Evaluation\n",
    "9. Multi-Layer Preceptron Neural Network\n",
    "     - Fitting Multi-Layer Preceptron Neural Network on Imbalance Dataset\n",
    "     - Model Prediction\n",
    "     - Model Evaluation\n",
    "  \n",
    "10. SOLVE CLASS IMBALANCE\n",
    "     - Synthentic Minority Oversampling Technique(SMOTE)\n",
    "     - Adaptive Synthentic Sampling Technique (ADASYN)\n",
    "     <BR>\n",
    "<P> BUILDING MACHING LEARNING MODELS on a BALANCE DATASET</P>\n",
    "<P> Refitting with SMOTE and ADASYN</P>\n",
    "11.  Random Forest Classifier\n",
    "     - Fitting Random Forest Classifier on a balance Dataset\n",
    "     - Model Prediction\n",
    "     - Model Evaluation\n",
    "     - Hyperparameter Tuning with Grid Search\n",
    "12.  Support Vector Machine\n",
    "     - Fitting Support Vector Machine on Imbalance Dataset\n",
    "     - Model Prediction\n",
    "     - Model Evaluation  \n",
    "     - Hyperparameter Tuning with Grid Search\n",
    "13.  Multi-Layer Preceptron Neural Network\n",
    "     - Fitting Multi-Layer Preceptron Neural Network on Imbalance Dataset\n",
    "     - Model Prediction\n",
    "     - Model Evaluation\n",
    "     - Hyperparameter Tuning with Grid Search\n",
    "\n",
    "    MODEL SELECTION\n",
    "14. Summary"
   ]
  },
  {
   "cell_type": "markdown",
   "id": "fccf2862",
   "metadata": {},
   "source": [
    "### 1. Import Packages"
   ]
  },
  {
   "cell_type": "code",
   "execution_count": 1,
   "id": "366aa299",
   "metadata": {},
   "outputs": [],
   "source": [
    "import numpy as np\n",
    "import pandas as pd\n",
    "import matplotlib.pyplot as plt\n",
    "import matplotlib.colors as colors\n",
    "%matplotlib inline\n",
    "import seaborn as sns\n",
    "sns.set_style('whitegrid')\n",
    "import statsmodels.api as sm\n",
    "\n",
    "from sklearn.svm import SVC\n",
    "from sklearn.decomposition import PCA\n",
    "from sklearn.metrics import plot_confusion_matrix\n",
    "from sklearn.model_selection import GridSearchCV #this will do cross validation\n",
    "\n",
    "from sklearn.metrics import confusion_matrix, classification_report\n",
    "from sklearn.metrics import confusion_matrix, ConfusionMatrixDisplay\n",
    "\n",
    "from sklearn.model_selection import cross_val_score\n",
    "\n"
   ]
  },
  {
   "cell_type": "markdown",
   "id": "85c5f483",
   "metadata": {},
   "source": [
    "### 2. Load Dataset"
   ]
  },
  {
   "cell_type": "code",
   "execution_count": 2,
   "id": "8e563c0f",
   "metadata": {},
   "outputs": [],
   "source": [
    "# load datasets for two subjects, Math and Portuguese\n",
    "mat = pd.read_csv(\"student-mat.csv\", sep=';')\n",
    "por = pd.read_csv(\"student-por.csv\", sep=';')\n"
   ]
  },
  {
   "cell_type": "markdown",
   "id": "0a7e5f6f",
   "metadata": {},
   "source": [
    "### 3. Data Preparation"
   ]
  },
  {
   "cell_type": "code",
   "execution_count": 71,
   "id": "00ae82eb",
   "metadata": {},
   "outputs": [],
   "source": [
    "# merge datasets\n",
    "student = pd.concat([mat,por], ignore_index = True)"
   ]
  },
  {
   "cell_type": "code",
   "execution_count": 72,
   "id": "b4df1c54",
   "metadata": {},
   "outputs": [
    {
     "data": {
      "text/html": [
       "<div>\n",
       "<style scoped>\n",
       "    .dataframe tbody tr th:only-of-type {\n",
       "        vertical-align: middle;\n",
       "    }\n",
       "\n",
       "    .dataframe tbody tr th {\n",
       "        vertical-align: top;\n",
       "    }\n",
       "\n",
       "    .dataframe thead th {\n",
       "        text-align: right;\n",
       "    }\n",
       "</style>\n",
       "<table border=\"1\" class=\"dataframe\">\n",
       "  <thead>\n",
       "    <tr style=\"text-align: right;\">\n",
       "      <th></th>\n",
       "      <th>School</th>\n",
       "      <th>Sex</th>\n",
       "      <th>Age</th>\n",
       "      <th>Address</th>\n",
       "      <th>Family Size</th>\n",
       "      <th>parent's cohabitation status</th>\n",
       "      <th>Mother's Education</th>\n",
       "      <th>Father's Education</th>\n",
       "      <th>Mother's Job</th>\n",
       "      <th>Father's Job</th>\n",
       "      <th>...</th>\n",
       "      <th>Family Relationship</th>\n",
       "      <th>Free Time</th>\n",
       "      <th>Going Out</th>\n",
       "      <th>Workday Alcohol Consumption</th>\n",
       "      <th>Weekend Alcohol Consumption</th>\n",
       "      <th>Health Status</th>\n",
       "      <th>Absences</th>\n",
       "      <th>period1_score</th>\n",
       "      <th>period2_score</th>\n",
       "      <th>final_score</th>\n",
       "    </tr>\n",
       "  </thead>\n",
       "  <tbody>\n",
       "    <tr>\n",
       "      <th>0</th>\n",
       "      <td>GP</td>\n",
       "      <td>F</td>\n",
       "      <td>18</td>\n",
       "      <td>U</td>\n",
       "      <td>GT3</td>\n",
       "      <td>A</td>\n",
       "      <td>4</td>\n",
       "      <td>4</td>\n",
       "      <td>at_home</td>\n",
       "      <td>teacher</td>\n",
       "      <td>...</td>\n",
       "      <td>4</td>\n",
       "      <td>3</td>\n",
       "      <td>4</td>\n",
       "      <td>1</td>\n",
       "      <td>1</td>\n",
       "      <td>3</td>\n",
       "      <td>6</td>\n",
       "      <td>5</td>\n",
       "      <td>6</td>\n",
       "      <td>6</td>\n",
       "    </tr>\n",
       "  </tbody>\n",
       "</table>\n",
       "<p>1 rows × 33 columns</p>\n",
       "</div>"
      ],
      "text/plain": [
       "  School Sex  Age Address Family Size parent's cohabitation status  \\\n",
       "0     GP   F   18       U         GT3                            A   \n",
       "\n",
       "   Mother's Education  Father's Education Mother's Job Father's Job  ...  \\\n",
       "0                   4                   4      at_home      teacher  ...   \n",
       "\n",
       "  Family Relationship Free Time  Going Out  Workday Alcohol Consumption  \\\n",
       "0                   4         3          4                            1   \n",
       "\n",
       "   Weekend Alcohol Consumption Health Status Absences period1_score  \\\n",
       "0                            1             3        6             5   \n",
       "\n",
       "  period2_score final_score  \n",
       "0             6           6  \n",
       "\n",
       "[1 rows x 33 columns]"
      ]
     },
     "execution_count": 72,
     "metadata": {},
     "output_type": "execute_result"
    }
   ],
   "source": [
    "# rename column labels\n",
    "student.columns = [\"School\", \"Sex\", \"Age\", \"Address\", \"Family Size\", \"parent's cohabitation status\", \"Mother's Education\", \n",
    "                   \"Father's Education\", \"Mother's Job\", \"Father's Job\", \"Reason\",\"Guardian\", \"Travel Time\", \"Study Time\", \n",
    "                   \"Failures\", \"School Support\", \"Famly Support\", \"Paid Classes\", \"Activities\", \"Nursery\", \n",
    "                   \"Higher Education\", \"Internet\",\"Romantic\", \"Family Relationship\", \"Free Time\", \"Going Out\",\n",
    "                   \"Workday Alcohol Consumption\", \"Weekend Alcohol Consumption\", \"Health Status\", \"Absences\",\"period1_score\",\"period2_score\",\"final_score\"]\n",
    "student.head(1)"
   ]
  },
  {
   "cell_type": "code",
   "execution_count": null,
   "id": "6154035a",
   "metadata": {},
   "outputs": [],
   "source": []
  },
  {
   "cell_type": "markdown",
   "id": "dee3590c",
   "metadata": {},
   "source": [
    "### 4. Investigate Class Imbalance"
   ]
  },
  {
   "cell_type": "markdown",
   "id": "9fba9a99",
   "metadata": {},
   "source": [
    "####  Classifying Students into Categories"
   ]
  },
  {
   "cell_type": "code",
   "execution_count": 73,
   "id": "e9615153",
   "metadata": {},
   "outputs": [
    {
     "data": {
      "text/html": [
       "<div>\n",
       "<style scoped>\n",
       "    .dataframe tbody tr th:only-of-type {\n",
       "        vertical-align: middle;\n",
       "    }\n",
       "\n",
       "    .dataframe tbody tr th {\n",
       "        vertical-align: top;\n",
       "    }\n",
       "\n",
       "    .dataframe thead th {\n",
       "        text-align: right;\n",
       "    }\n",
       "</style>\n",
       "<table border=\"1\" class=\"dataframe\">\n",
       "  <thead>\n",
       "    <tr style=\"text-align: right;\">\n",
       "      <th></th>\n",
       "      <th>School</th>\n",
       "      <th>Sex</th>\n",
       "      <th>Age</th>\n",
       "      <th>Address</th>\n",
       "      <th>Family Size</th>\n",
       "      <th>parent's cohabitation status</th>\n",
       "      <th>Mother's Education</th>\n",
       "      <th>Father's Education</th>\n",
       "      <th>Mother's Job</th>\n",
       "      <th>Father's Job</th>\n",
       "      <th>...</th>\n",
       "      <th>Free Time</th>\n",
       "      <th>Going Out</th>\n",
       "      <th>Workday Alcohol Consumption</th>\n",
       "      <th>Weekend Alcohol Consumption</th>\n",
       "      <th>Health Status</th>\n",
       "      <th>Absences</th>\n",
       "      <th>period1_score</th>\n",
       "      <th>period2_score</th>\n",
       "      <th>final_score</th>\n",
       "      <th>final_grade</th>\n",
       "    </tr>\n",
       "  </thead>\n",
       "  <tbody>\n",
       "    <tr>\n",
       "      <th>0</th>\n",
       "      <td>GP</td>\n",
       "      <td>F</td>\n",
       "      <td>18</td>\n",
       "      <td>U</td>\n",
       "      <td>GT3</td>\n",
       "      <td>A</td>\n",
       "      <td>4</td>\n",
       "      <td>4</td>\n",
       "      <td>at_home</td>\n",
       "      <td>teacher</td>\n",
       "      <td>...</td>\n",
       "      <td>3</td>\n",
       "      <td>4</td>\n",
       "      <td>1</td>\n",
       "      <td>1</td>\n",
       "      <td>3</td>\n",
       "      <td>6</td>\n",
       "      <td>5</td>\n",
       "      <td>6</td>\n",
       "      <td>6</td>\n",
       "      <td>Poor</td>\n",
       "    </tr>\n",
       "    <tr>\n",
       "      <th>1</th>\n",
       "      <td>GP</td>\n",
       "      <td>F</td>\n",
       "      <td>17</td>\n",
       "      <td>U</td>\n",
       "      <td>GT3</td>\n",
       "      <td>T</td>\n",
       "      <td>1</td>\n",
       "      <td>1</td>\n",
       "      <td>at_home</td>\n",
       "      <td>other</td>\n",
       "      <td>...</td>\n",
       "      <td>3</td>\n",
       "      <td>3</td>\n",
       "      <td>1</td>\n",
       "      <td>1</td>\n",
       "      <td>3</td>\n",
       "      <td>4</td>\n",
       "      <td>5</td>\n",
       "      <td>5</td>\n",
       "      <td>6</td>\n",
       "      <td>Poor</td>\n",
       "    </tr>\n",
       "    <tr>\n",
       "      <th>2</th>\n",
       "      <td>GP</td>\n",
       "      <td>F</td>\n",
       "      <td>15</td>\n",
       "      <td>U</td>\n",
       "      <td>LE3</td>\n",
       "      <td>T</td>\n",
       "      <td>1</td>\n",
       "      <td>1</td>\n",
       "      <td>at_home</td>\n",
       "      <td>other</td>\n",
       "      <td>...</td>\n",
       "      <td>3</td>\n",
       "      <td>2</td>\n",
       "      <td>2</td>\n",
       "      <td>3</td>\n",
       "      <td>3</td>\n",
       "      <td>10</td>\n",
       "      <td>7</td>\n",
       "      <td>8</td>\n",
       "      <td>10</td>\n",
       "      <td>Average</td>\n",
       "    </tr>\n",
       "    <tr>\n",
       "      <th>3</th>\n",
       "      <td>GP</td>\n",
       "      <td>F</td>\n",
       "      <td>15</td>\n",
       "      <td>U</td>\n",
       "      <td>GT3</td>\n",
       "      <td>T</td>\n",
       "      <td>4</td>\n",
       "      <td>2</td>\n",
       "      <td>health</td>\n",
       "      <td>services</td>\n",
       "      <td>...</td>\n",
       "      <td>2</td>\n",
       "      <td>2</td>\n",
       "      <td>1</td>\n",
       "      <td>1</td>\n",
       "      <td>5</td>\n",
       "      <td>2</td>\n",
       "      <td>15</td>\n",
       "      <td>14</td>\n",
       "      <td>15</td>\n",
       "      <td>Excellent</td>\n",
       "    </tr>\n",
       "    <tr>\n",
       "      <th>4</th>\n",
       "      <td>GP</td>\n",
       "      <td>F</td>\n",
       "      <td>16</td>\n",
       "      <td>U</td>\n",
       "      <td>GT3</td>\n",
       "      <td>T</td>\n",
       "      <td>3</td>\n",
       "      <td>3</td>\n",
       "      <td>other</td>\n",
       "      <td>other</td>\n",
       "      <td>...</td>\n",
       "      <td>3</td>\n",
       "      <td>2</td>\n",
       "      <td>1</td>\n",
       "      <td>2</td>\n",
       "      <td>5</td>\n",
       "      <td>4</td>\n",
       "      <td>6</td>\n",
       "      <td>10</td>\n",
       "      <td>10</td>\n",
       "      <td>Average</td>\n",
       "    </tr>\n",
       "    <tr>\n",
       "      <th>5</th>\n",
       "      <td>GP</td>\n",
       "      <td>M</td>\n",
       "      <td>16</td>\n",
       "      <td>U</td>\n",
       "      <td>LE3</td>\n",
       "      <td>T</td>\n",
       "      <td>4</td>\n",
       "      <td>3</td>\n",
       "      <td>services</td>\n",
       "      <td>other</td>\n",
       "      <td>...</td>\n",
       "      <td>4</td>\n",
       "      <td>2</td>\n",
       "      <td>1</td>\n",
       "      <td>2</td>\n",
       "      <td>5</td>\n",
       "      <td>10</td>\n",
       "      <td>15</td>\n",
       "      <td>15</td>\n",
       "      <td>15</td>\n",
       "      <td>Excellent</td>\n",
       "    </tr>\n",
       "    <tr>\n",
       "      <th>6</th>\n",
       "      <td>GP</td>\n",
       "      <td>M</td>\n",
       "      <td>16</td>\n",
       "      <td>U</td>\n",
       "      <td>LE3</td>\n",
       "      <td>T</td>\n",
       "      <td>2</td>\n",
       "      <td>2</td>\n",
       "      <td>other</td>\n",
       "      <td>other</td>\n",
       "      <td>...</td>\n",
       "      <td>4</td>\n",
       "      <td>4</td>\n",
       "      <td>1</td>\n",
       "      <td>1</td>\n",
       "      <td>3</td>\n",
       "      <td>0</td>\n",
       "      <td>12</td>\n",
       "      <td>12</td>\n",
       "      <td>11</td>\n",
       "      <td>Average</td>\n",
       "    </tr>\n",
       "    <tr>\n",
       "      <th>7</th>\n",
       "      <td>GP</td>\n",
       "      <td>F</td>\n",
       "      <td>17</td>\n",
       "      <td>U</td>\n",
       "      <td>GT3</td>\n",
       "      <td>A</td>\n",
       "      <td>4</td>\n",
       "      <td>4</td>\n",
       "      <td>other</td>\n",
       "      <td>teacher</td>\n",
       "      <td>...</td>\n",
       "      <td>1</td>\n",
       "      <td>4</td>\n",
       "      <td>1</td>\n",
       "      <td>1</td>\n",
       "      <td>1</td>\n",
       "      <td>6</td>\n",
       "      <td>6</td>\n",
       "      <td>5</td>\n",
       "      <td>6</td>\n",
       "      <td>Poor</td>\n",
       "    </tr>\n",
       "    <tr>\n",
       "      <th>8</th>\n",
       "      <td>GP</td>\n",
       "      <td>M</td>\n",
       "      <td>15</td>\n",
       "      <td>U</td>\n",
       "      <td>LE3</td>\n",
       "      <td>A</td>\n",
       "      <td>3</td>\n",
       "      <td>2</td>\n",
       "      <td>services</td>\n",
       "      <td>other</td>\n",
       "      <td>...</td>\n",
       "      <td>2</td>\n",
       "      <td>2</td>\n",
       "      <td>1</td>\n",
       "      <td>1</td>\n",
       "      <td>1</td>\n",
       "      <td>0</td>\n",
       "      <td>16</td>\n",
       "      <td>18</td>\n",
       "      <td>19</td>\n",
       "      <td>Excellent</td>\n",
       "    </tr>\n",
       "    <tr>\n",
       "      <th>9</th>\n",
       "      <td>GP</td>\n",
       "      <td>M</td>\n",
       "      <td>15</td>\n",
       "      <td>U</td>\n",
       "      <td>GT3</td>\n",
       "      <td>T</td>\n",
       "      <td>3</td>\n",
       "      <td>4</td>\n",
       "      <td>other</td>\n",
       "      <td>other</td>\n",
       "      <td>...</td>\n",
       "      <td>5</td>\n",
       "      <td>1</td>\n",
       "      <td>1</td>\n",
       "      <td>1</td>\n",
       "      <td>5</td>\n",
       "      <td>0</td>\n",
       "      <td>14</td>\n",
       "      <td>15</td>\n",
       "      <td>15</td>\n",
       "      <td>Excellent</td>\n",
       "    </tr>\n",
       "    <tr>\n",
       "      <th>10</th>\n",
       "      <td>GP</td>\n",
       "      <td>F</td>\n",
       "      <td>15</td>\n",
       "      <td>U</td>\n",
       "      <td>GT3</td>\n",
       "      <td>T</td>\n",
       "      <td>4</td>\n",
       "      <td>4</td>\n",
       "      <td>teacher</td>\n",
       "      <td>health</td>\n",
       "      <td>...</td>\n",
       "      <td>3</td>\n",
       "      <td>3</td>\n",
       "      <td>1</td>\n",
       "      <td>2</td>\n",
       "      <td>2</td>\n",
       "      <td>0</td>\n",
       "      <td>10</td>\n",
       "      <td>8</td>\n",
       "      <td>9</td>\n",
       "      <td>Poor</td>\n",
       "    </tr>\n",
       "    <tr>\n",
       "      <th>11</th>\n",
       "      <td>GP</td>\n",
       "      <td>F</td>\n",
       "      <td>15</td>\n",
       "      <td>U</td>\n",
       "      <td>GT3</td>\n",
       "      <td>T</td>\n",
       "      <td>2</td>\n",
       "      <td>1</td>\n",
       "      <td>services</td>\n",
       "      <td>other</td>\n",
       "      <td>...</td>\n",
       "      <td>2</td>\n",
       "      <td>2</td>\n",
       "      <td>1</td>\n",
       "      <td>1</td>\n",
       "      <td>4</td>\n",
       "      <td>4</td>\n",
       "      <td>10</td>\n",
       "      <td>12</td>\n",
       "      <td>12</td>\n",
       "      <td>Average</td>\n",
       "    </tr>\n",
       "    <tr>\n",
       "      <th>12</th>\n",
       "      <td>GP</td>\n",
       "      <td>M</td>\n",
       "      <td>15</td>\n",
       "      <td>U</td>\n",
       "      <td>LE3</td>\n",
       "      <td>T</td>\n",
       "      <td>4</td>\n",
       "      <td>4</td>\n",
       "      <td>health</td>\n",
       "      <td>services</td>\n",
       "      <td>...</td>\n",
       "      <td>3</td>\n",
       "      <td>3</td>\n",
       "      <td>1</td>\n",
       "      <td>3</td>\n",
       "      <td>5</td>\n",
       "      <td>2</td>\n",
       "      <td>14</td>\n",
       "      <td>14</td>\n",
       "      <td>14</td>\n",
       "      <td>Average</td>\n",
       "    </tr>\n",
       "    <tr>\n",
       "      <th>13</th>\n",
       "      <td>GP</td>\n",
       "      <td>M</td>\n",
       "      <td>15</td>\n",
       "      <td>U</td>\n",
       "      <td>GT3</td>\n",
       "      <td>T</td>\n",
       "      <td>4</td>\n",
       "      <td>3</td>\n",
       "      <td>teacher</td>\n",
       "      <td>other</td>\n",
       "      <td>...</td>\n",
       "      <td>4</td>\n",
       "      <td>3</td>\n",
       "      <td>1</td>\n",
       "      <td>2</td>\n",
       "      <td>3</td>\n",
       "      <td>2</td>\n",
       "      <td>10</td>\n",
       "      <td>10</td>\n",
       "      <td>11</td>\n",
       "      <td>Average</td>\n",
       "    </tr>\n",
       "    <tr>\n",
       "      <th>14</th>\n",
       "      <td>GP</td>\n",
       "      <td>M</td>\n",
       "      <td>15</td>\n",
       "      <td>U</td>\n",
       "      <td>GT3</td>\n",
       "      <td>A</td>\n",
       "      <td>2</td>\n",
       "      <td>2</td>\n",
       "      <td>other</td>\n",
       "      <td>other</td>\n",
       "      <td>...</td>\n",
       "      <td>5</td>\n",
       "      <td>2</td>\n",
       "      <td>1</td>\n",
       "      <td>1</td>\n",
       "      <td>3</td>\n",
       "      <td>0</td>\n",
       "      <td>14</td>\n",
       "      <td>16</td>\n",
       "      <td>16</td>\n",
       "      <td>Excellent</td>\n",
       "    </tr>\n",
       "  </tbody>\n",
       "</table>\n",
       "<p>15 rows × 34 columns</p>\n",
       "</div>"
      ],
      "text/plain": [
       "   School Sex  Age Address Family Size parent's cohabitation status  \\\n",
       "0      GP   F   18       U         GT3                            A   \n",
       "1      GP   F   17       U         GT3                            T   \n",
       "2      GP   F   15       U         LE3                            T   \n",
       "3      GP   F   15       U         GT3                            T   \n",
       "4      GP   F   16       U         GT3                            T   \n",
       "5      GP   M   16       U         LE3                            T   \n",
       "6      GP   M   16       U         LE3                            T   \n",
       "7      GP   F   17       U         GT3                            A   \n",
       "8      GP   M   15       U         LE3                            A   \n",
       "9      GP   M   15       U         GT3                            T   \n",
       "10     GP   F   15       U         GT3                            T   \n",
       "11     GP   F   15       U         GT3                            T   \n",
       "12     GP   M   15       U         LE3                            T   \n",
       "13     GP   M   15       U         GT3                            T   \n",
       "14     GP   M   15       U         GT3                            A   \n",
       "\n",
       "    Mother's Education  Father's Education Mother's Job Father's Job  ...  \\\n",
       "0                    4                   4      at_home      teacher  ...   \n",
       "1                    1                   1      at_home        other  ...   \n",
       "2                    1                   1      at_home        other  ...   \n",
       "3                    4                   2       health     services  ...   \n",
       "4                    3                   3        other        other  ...   \n",
       "5                    4                   3     services        other  ...   \n",
       "6                    2                   2        other        other  ...   \n",
       "7                    4                   4        other      teacher  ...   \n",
       "8                    3                   2     services        other  ...   \n",
       "9                    3                   4        other        other  ...   \n",
       "10                   4                   4      teacher       health  ...   \n",
       "11                   2                   1     services        other  ...   \n",
       "12                   4                   4       health     services  ...   \n",
       "13                   4                   3      teacher        other  ...   \n",
       "14                   2                   2        other        other  ...   \n",
       "\n",
       "   Free Time Going Out  Workday Alcohol Consumption  \\\n",
       "0          3         4                            1   \n",
       "1          3         3                            1   \n",
       "2          3         2                            2   \n",
       "3          2         2                            1   \n",
       "4          3         2                            1   \n",
       "5          4         2                            1   \n",
       "6          4         4                            1   \n",
       "7          1         4                            1   \n",
       "8          2         2                            1   \n",
       "9          5         1                            1   \n",
       "10         3         3                            1   \n",
       "11         2         2                            1   \n",
       "12         3         3                            1   \n",
       "13         4         3                            1   \n",
       "14         5         2                            1   \n",
       "\n",
       "    Weekend Alcohol Consumption  Health Status Absences period1_score  \\\n",
       "0                             1              3        6             5   \n",
       "1                             1              3        4             5   \n",
       "2                             3              3       10             7   \n",
       "3                             1              5        2            15   \n",
       "4                             2              5        4             6   \n",
       "5                             2              5       10            15   \n",
       "6                             1              3        0            12   \n",
       "7                             1              1        6             6   \n",
       "8                             1              1        0            16   \n",
       "9                             1              5        0            14   \n",
       "10                            2              2        0            10   \n",
       "11                            1              4        4            10   \n",
       "12                            3              5        2            14   \n",
       "13                            2              3        2            10   \n",
       "14                            1              3        0            14   \n",
       "\n",
       "   period2_score final_score final_grade  \n",
       "0              6           6        Poor  \n",
       "1              5           6        Poor  \n",
       "2              8          10     Average  \n",
       "3             14          15   Excellent  \n",
       "4             10          10     Average  \n",
       "5             15          15   Excellent  \n",
       "6             12          11     Average  \n",
       "7              5           6        Poor  \n",
       "8             18          19   Excellent  \n",
       "9             15          15   Excellent  \n",
       "10             8           9        Poor  \n",
       "11            12          12     Average  \n",
       "12            14          14     Average  \n",
       "13            10          11     Average  \n",
       "14            16          16   Excellent  \n",
       "\n",
       "[15 rows x 34 columns]"
      ]
     },
     "execution_count": 73,
     "metadata": {},
     "output_type": "execute_result"
    }
   ],
   "source": [
    "# convert final_score to categorical variable # Good:15~20 Fair:10~14 Poor:0~9\n",
    "student['final_grade'] = 'na'\n",
    "student.loc[(student.final_score >= 0) & (student.final_score <= 9), 'final_grade'] = 'Poor'\n",
    "student.loc[(student.final_score >= 10) & (student.final_score <= 14), 'final_grade'] = 'Average'\n",
    "student.loc[(student.final_score >= 15) & (student.final_score <= 20), 'final_grade'] = 'Excellent' \n",
    "\n",
    "student.head(15)"
   ]
  },
  {
   "cell_type": "code",
   "execution_count": 74,
   "id": "3c6054dc",
   "metadata": {},
   "outputs": [
    {
     "data": {
      "text/plain": [
       "Average      610\n",
       "Poor         230\n",
       "Excellent    204\n",
       "Name: final_grade, dtype: int64"
      ]
     },
     "execution_count": 74,
     "metadata": {},
     "output_type": "execute_result"
    }
   ],
   "source": [
    "student['final_grade'].value_counts()"
   ]
  },
  {
   "cell_type": "code",
   "execution_count": 75,
   "id": "75d614bd",
   "metadata": {},
   "outputs": [
    {
     "data": {
      "text/plain": [
       "0         Poor\n",
       "1         Poor\n",
       "2      Average\n",
       "3    Excellent\n",
       "4      Average\n",
       "5    Excellent\n",
       "6      Average\n",
       "7         Poor\n",
       "8    Excellent\n",
       "9    Excellent\n",
       "Name: final_grade, dtype: object"
      ]
     },
     "execution_count": 75,
     "metadata": {},
     "output_type": "execute_result"
    }
   ],
   "source": [
    "student['final_grade'][:10]"
   ]
  },
  {
   "cell_type": "code",
   "execution_count": 76,
   "id": "720a83b2",
   "metadata": {},
   "outputs": [
    {
     "data": {
      "text/plain": [
       "0"
      ]
     },
     "execution_count": 76,
     "metadata": {},
     "output_type": "execute_result"
    }
   ],
   "source": [
    "student['final_grade'].isnull().sum()"
   ]
  },
  {
   "cell_type": "code",
   "execution_count": 77,
   "id": "7381487d",
   "metadata": {},
   "outputs": [
    {
     "data": {
      "text/plain": [
       "array(['Poor', 'Average', 'Excellent'], dtype=object)"
      ]
     },
     "execution_count": 77,
     "metadata": {},
     "output_type": "execute_result"
    }
   ],
   "source": [
    "student['final_grade'].unique()"
   ]
  },
  {
   "cell_type": "code",
   "execution_count": 78,
   "id": "73988931",
   "metadata": {},
   "outputs": [],
   "source": [
    "#droping the original column of finalscore\n",
    "#student.drop([final_score], axis = 1, inplace = True)\n",
    "#student[\"final_score\"]\n",
    "del student[\"final_score\"]"
   ]
  },
  {
   "cell_type": "code",
   "execution_count": 79,
   "id": "6dec6224",
   "metadata": {},
   "outputs": [
    {
     "data": {
      "text/html": [
       "<div>\n",
       "<style scoped>\n",
       "    .dataframe tbody tr th:only-of-type {\n",
       "        vertical-align: middle;\n",
       "    }\n",
       "\n",
       "    .dataframe tbody tr th {\n",
       "        vertical-align: top;\n",
       "    }\n",
       "\n",
       "    .dataframe thead th {\n",
       "        text-align: right;\n",
       "    }\n",
       "</style>\n",
       "<table border=\"1\" class=\"dataframe\">\n",
       "  <thead>\n",
       "    <tr style=\"text-align: right;\">\n",
       "      <th></th>\n",
       "      <th>School</th>\n",
       "      <th>Sex</th>\n",
       "      <th>Age</th>\n",
       "      <th>Address</th>\n",
       "      <th>Family Size</th>\n",
       "      <th>parent's cohabitation status</th>\n",
       "      <th>Mother's Education</th>\n",
       "      <th>Father's Education</th>\n",
       "      <th>Mother's Job</th>\n",
       "      <th>Father's Job</th>\n",
       "      <th>...</th>\n",
       "      <th>Family Relationship</th>\n",
       "      <th>Free Time</th>\n",
       "      <th>Going Out</th>\n",
       "      <th>Workday Alcohol Consumption</th>\n",
       "      <th>Weekend Alcohol Consumption</th>\n",
       "      <th>Health Status</th>\n",
       "      <th>Absences</th>\n",
       "      <th>period1_score</th>\n",
       "      <th>period2_score</th>\n",
       "      <th>final_grade</th>\n",
       "    </tr>\n",
       "  </thead>\n",
       "  <tbody>\n",
       "    <tr>\n",
       "      <th>0</th>\n",
       "      <td>GP</td>\n",
       "      <td>F</td>\n",
       "      <td>18</td>\n",
       "      <td>U</td>\n",
       "      <td>GT3</td>\n",
       "      <td>A</td>\n",
       "      <td>4</td>\n",
       "      <td>4</td>\n",
       "      <td>at_home</td>\n",
       "      <td>teacher</td>\n",
       "      <td>...</td>\n",
       "      <td>4</td>\n",
       "      <td>3</td>\n",
       "      <td>4</td>\n",
       "      <td>1</td>\n",
       "      <td>1</td>\n",
       "      <td>3</td>\n",
       "      <td>6</td>\n",
       "      <td>5</td>\n",
       "      <td>6</td>\n",
       "      <td>Poor</td>\n",
       "    </tr>\n",
       "  </tbody>\n",
       "</table>\n",
       "<p>1 rows × 33 columns</p>\n",
       "</div>"
      ],
      "text/plain": [
       "  School Sex  Age Address Family Size parent's cohabitation status  \\\n",
       "0     GP   F   18       U         GT3                            A   \n",
       "\n",
       "   Mother's Education  Father's Education Mother's Job Father's Job  ...  \\\n",
       "0                   4                   4      at_home      teacher  ...   \n",
       "\n",
       "  Family Relationship Free Time  Going Out  Workday Alcohol Consumption  \\\n",
       "0                   4         3          4                            1   \n",
       "\n",
       "   Weekend Alcohol Consumption Health Status Absences period1_score  \\\n",
       "0                            1             3        6             5   \n",
       "\n",
       "  period2_score final_grade  \n",
       "0             6        Poor  \n",
       "\n",
       "[1 rows x 33 columns]"
      ]
     },
     "execution_count": 79,
     "metadata": {},
     "output_type": "execute_result"
    }
   ],
   "source": [
    "student.head(1)"
   ]
  },
  {
   "cell_type": "markdown",
   "id": "158d9144",
   "metadata": {},
   "source": [
    "### Final Grade Class Distribution"
   ]
  },
  {
   "cell_type": "code",
   "execution_count": 80,
   "id": "ed748b02",
   "metadata": {},
   "outputs": [
    {
     "data": {
      "text/plain": [
       "Text(0, 0.5, 'Number of Student')"
      ]
     },
     "execution_count": 80,
     "metadata": {},
     "output_type": "execute_result"
    },
    {
     "data": {
      "image/png": "[encoded data removed]",
      "text/plain": [
       "<Figure size 720x432 with 1 Axes>"
      ]
     },
     "metadata": {},
     "output_type": "display_data"
    }
   ],
   "source": [
    "# Final Grade Countplot\n",
    "plt.figure(figsize=(10,6))\n",
    "sns.set_theme(style=\"darkgrid\")\n",
    "\n",
    "\n",
    "sns.countplot(x = student.final_grade, order =[\"Poor\",\"Average\",\"Excellent\"], palette='Set1')\n",
    "plt.title('Final Grade Class Distribution',fontsize=20)\n",
    "plt.xlabel('Final Grade', fontsize=16)\n",
    "plt.ylabel('Number of Student', fontsize=16)"
   ]
  },
  {
   "cell_type": "code",
   "execution_count": 81,
   "id": "fe8cd47e",
   "metadata": {},
   "outputs": [
    {
     "data": {
      "text/plain": [
       "<AxesSubplot:xlabel='final_grade', ylabel='count'>"
      ]
     },
     "execution_count": 81,
     "metadata": {},
     "output_type": "execute_result"
    },
    {
     "data": {
      "image/png": "[encoded data removed]",
      "text/plain": [
       "<Figure size 432x288 with 1 Axes>"
      ]
     },
     "metadata": {},
     "output_type": "display_data"
    }
   ],
   "source": [
    "sns.countplot(x = student['final_grade'])"
   ]
  },
  {
   "cell_type": "code",
   "execution_count": 82,
   "id": "3785b544",
   "metadata": {},
   "outputs": [
    {
     "data": {
      "text/plain": [
       "Average      610\n",
       "Poor         230\n",
       "Excellent    204\n",
       "Name: final_grade, dtype: int64"
      ]
     },
     "execution_count": 82,
     "metadata": {},
     "output_type": "execute_result"
    }
   ],
   "source": [
    "student.final_grade.value_counts()"
   ]
  },
  {
   "cell_type": "code",
   "execution_count": 83,
   "id": "e3a468df",
   "metadata": {},
   "outputs": [
    {
     "data": {
      "text/plain": [
       "Average      610\n",
       "Poor         230\n",
       "Excellent    204\n",
       "Name: final_grade, dtype: int64"
      ]
     },
     "execution_count": 83,
     "metadata": {},
     "output_type": "execute_result"
    }
   ],
   "source": [
    "student[\"final_grade\"].value_counts()"
   ]
  },
  {
   "cell_type": "markdown",
   "id": "4cb621c1",
   "metadata": {},
   "source": [
    "## Machine Learning Preprocessing"
   ]
  },
  {
   "cell_type": "markdown",
   "id": "b967ca00",
   "metadata": {},
   "source": [
    "### 5. Data Preprocessing for Machine Learning"
   ]
  },
  {
   "cell_type": "markdown",
   "id": "b4b81bcf",
   "metadata": {},
   "source": [
    "### Encoding - One Hot Encoding"
   ]
  },
  {
   "cell_type": "code",
   "execution_count": 84,
   "id": "8b006d2e",
   "metadata": {
    "scrolled": true
   },
   "outputs": [
    {
     "data": {
      "text/plain": [
       "School                          object\n",
       "Sex                             object\n",
       "Age                              int64\n",
       "Address                         object\n",
       "Family Size                     object\n",
       "parent's cohabitation status    object\n",
       "Mother's Education               int64\n",
       "Father's Education               int64\n",
       "Mother's Job                    object\n",
       "Father's Job                    object\n",
       "Reason                          object\n",
       "Guardian                        object\n",
       "Travel Time                      int64\n",
       "Study Time                       int64\n",
       "Failures                         int64\n",
       "School Support                  object\n",
       "Famly Support                   object\n",
       "Paid Classes                    object\n",
       "Activities                      object\n",
       "Nursery                         object\n",
       "Higher Education                object\n",
       "Internet                        object\n",
       "Romantic                        object\n",
       "Family Relationship              int64\n",
       "Free Time                        int64\n",
       "Going Out                        int64\n",
       "Workday Alcohol Consumption      int64\n",
       "Weekend Alcohol Consumption      int64\n",
       "Health Status                    int64\n",
       "Absences                         int64\n",
       "period1_score                    int64\n",
       "period2_score                    int64\n",
       "final_grade                     object\n",
       "dtype: object"
      ]
     },
     "execution_count": 84,
     "metadata": {},
     "output_type": "execute_result"
    }
   ],
   "source": [
    "student.dtypes\n",
    "#we have some objects which means string"
   ]
  },
  {
   "cell_type": "code",
   "execution_count": 85,
   "id": "e950fb0a",
   "metadata": {},
   "outputs": [
    {
     "data": {
      "text/plain": [
       "['School',\n",
       " 'Sex',\n",
       " 'Address',\n",
       " 'Family Size',\n",
       " \"parent's cohabitation status\",\n",
       " \"Mother's Job\",\n",
       " \"Father's Job\",\n",
       " 'Reason',\n",
       " 'Guardian',\n",
       " 'School Support',\n",
       " 'Famly Support',\n",
       " 'Paid Classes',\n",
       " 'Activities',\n",
       " 'Nursery',\n",
       " 'Higher Education',\n",
       " 'Internet',\n",
       " 'Romantic',\n",
       " 'final_grade']"
      ]
     },
     "execution_count": 85,
     "metadata": {},
     "output_type": "execute_result"
    }
   ],
   "source": [
    "#making a list of non numeric columns using list comprehension\n",
    "\n",
    "nonnumericcolumns = [student.columns[index] for index, dtype in enumerate(student.dtypes) if dtype =='object']\n",
    "nonnumericcolumns"
   ]
  },
  {
   "cell_type": "code",
   "execution_count": 86,
   "id": "86ee2d2a",
   "metadata": {},
   "outputs": [
    {
     "name": "stdout",
     "output_type": "stream",
     "text": [
      "School:['GP' 'MS']\n",
      "Sex:['F' 'M']\n",
      "Address:['U' 'R']\n",
      "Family Size:['GT3' 'LE3']\n",
      "parent's cohabitation status:['A' 'T']\n",
      "Mother's Job:['at_home' 'health' 'other' 'services' 'teacher']\n",
      "Father's Job:['teacher' 'other' 'services' 'health' 'at_home']\n",
      "Reason:['course' 'other' 'home' 'reputation']\n",
      "Guardian:['mother' 'father' 'other']\n",
      "School Support:['yes' 'no']\n",
      "Famly Support:['no' 'yes']\n",
      "Paid Classes:['no' 'yes']\n",
      "Activities:['no' 'yes']\n",
      "Nursery:['yes' 'no']\n",
      "Higher Education:['yes' 'no']\n",
      "Internet:['no' 'yes']\n",
      "Romantic:['no' 'yes']\n",
      "final_grade:['Poor' 'Average' 'Excellent']\n"
     ]
    }
   ],
   "source": [
    "for column in nonnumericcolumns:\n",
    "    print(f\"{column}:{student[column].unique()}\")"
   ]
  },
  {
   "cell_type": "code",
   "execution_count": 87,
   "id": "1a8da0c1",
   "metadata": {},
   "outputs": [],
   "source": [
    "#lots of these features are binary variables\n",
    "#so for the two values i will use label encoder becasuse it does not really matter how we order two values\n",
    "\n",
    "#i will use one hot encording for the features with non binanry values\n",
    "#more that 2 values because there are some sort of order among the values\n",
    "\n",
    "# for mothers job.fathers job reason and guardian we that the values \"other\" in them\n",
    "#which will be difficult because with one hot encoding i will make new columns\n",
    "#that take the name of the values in each of the features\n",
    "#which means i will have four duplicates columns called other which is not advisable\n",
    "\n",
    "#to resolve this i will append an indicator at the beginning of each columns to indicate which column it is coming from\n",
    "\n",
    "#so for mother's job, i will use apply to apply a lambda function, it takes in a value of the column and it will output that same value \n",
    "#but with a appended to the front for fater job i appended f at the begining, so it would show m-other, f-other, etc, this will eradicate duplicates when we are using one hot encoding\n",
    "\n",
    "student[\"Mother's Job\" ] = student[\"Mother's Job\" ].apply(lambda x: \"m_\" + x )\n",
    "        \n",
    "student[\"Father's Job\"] = student[\"Father's Job\"].apply(lambda x: \"f_\" + x)\n",
    "\n",
    "student[ \"Reason\" ] = student[ \"Reason\" ].apply(lambda x: \"r_\" + x)\n",
    "\n",
    "student[ \"Guardian\" ] = student[ \"Guardian\" ].apply(lambda x: \"g_\" + x)\n"
   ]
  },
  {
   "cell_type": "code",
   "execution_count": 88,
   "id": "eed41994",
   "metadata": {},
   "outputs": [],
   "source": [
    "# checking what dummines matrix look like for mother job\n",
    "# I am using one hot encoding bcos if i should N-gram:- n=1 Unigram,    n=2 Bigram ..... \n",
    "# pandas will see a value assigned to 4 as an high value\n",
    "\n",
    "# CONCATENATING ALL DUMMIES COLUMNS TOGETHER\n",
    "\n",
    "dummies = pd.concat([pd.get_dummies(student[\"Mother's Job\"]),\n",
    "                    pd.get_dummies(student[\"Father's Job\"]),\n",
    "                    pd.get_dummies(student[\"Reason\"]),\n",
    "                    pd.get_dummies(student[\"Guardian\"])], \n",
    "                    axis =1)\n"
   ]
  },
  {
   "cell_type": "code",
   "execution_count": 89,
   "id": "3e2b4739",
   "metadata": {},
   "outputs": [
    {
     "data": {
      "text/html": [
       "<div>\n",
       "<style scoped>\n",
       "    .dataframe tbody tr th:only-of-type {\n",
       "        vertical-align: middle;\n",
       "    }\n",
       "\n",
       "    .dataframe tbody tr th {\n",
       "        vertical-align: top;\n",
       "    }\n",
       "\n",
       "    .dataframe thead th {\n",
       "        text-align: right;\n",
       "    }\n",
       "</style>\n",
       "<table border=\"1\" class=\"dataframe\">\n",
       "  <thead>\n",
       "    <tr style=\"text-align: right;\">\n",
       "      <th></th>\n",
       "      <th>m_at_home</th>\n",
       "      <th>m_health</th>\n",
       "      <th>m_other</th>\n",
       "      <th>m_services</th>\n",
       "      <th>m_teacher</th>\n",
       "      <th>f_at_home</th>\n",
       "      <th>f_health</th>\n",
       "      <th>f_other</th>\n",
       "      <th>f_services</th>\n",
       "      <th>f_teacher</th>\n",
       "      <th>r_course</th>\n",
       "      <th>r_home</th>\n",
       "      <th>r_other</th>\n",
       "      <th>r_reputation</th>\n",
       "      <th>g_father</th>\n",
       "      <th>g_mother</th>\n",
       "      <th>g_other</th>\n",
       "    </tr>\n",
       "  </thead>\n",
       "  <tbody>\n",
       "    <tr>\n",
       "      <th>0</th>\n",
       "      <td>1</td>\n",
       "      <td>0</td>\n",
       "      <td>0</td>\n",
       "      <td>0</td>\n",
       "      <td>0</td>\n",
       "      <td>0</td>\n",
       "      <td>0</td>\n",
       "      <td>0</td>\n",
       "      <td>0</td>\n",
       "      <td>1</td>\n",
       "      <td>1</td>\n",
       "      <td>0</td>\n",
       "      <td>0</td>\n",
       "      <td>0</td>\n",
       "      <td>0</td>\n",
       "      <td>1</td>\n",
       "      <td>0</td>\n",
       "    </tr>\n",
       "    <tr>\n",
       "      <th>1</th>\n",
       "      <td>1</td>\n",
       "      <td>0</td>\n",
       "      <td>0</td>\n",
       "      <td>0</td>\n",
       "      <td>0</td>\n",
       "      <td>0</td>\n",
       "      <td>0</td>\n",
       "      <td>1</td>\n",
       "      <td>0</td>\n",
       "      <td>0</td>\n",
       "      <td>1</td>\n",
       "      <td>0</td>\n",
       "      <td>0</td>\n",
       "      <td>0</td>\n",
       "      <td>1</td>\n",
       "      <td>0</td>\n",
       "      <td>0</td>\n",
       "    </tr>\n",
       "    <tr>\n",
       "      <th>2</th>\n",
       "      <td>1</td>\n",
       "      <td>0</td>\n",
       "      <td>0</td>\n",
       "      <td>0</td>\n",
       "      <td>0</td>\n",
       "      <td>0</td>\n",
       "      <td>0</td>\n",
       "      <td>1</td>\n",
       "      <td>0</td>\n",
       "      <td>0</td>\n",
       "      <td>0</td>\n",
       "      <td>0</td>\n",
       "      <td>1</td>\n",
       "      <td>0</td>\n",
       "      <td>0</td>\n",
       "      <td>1</td>\n",
       "      <td>0</td>\n",
       "    </tr>\n",
       "    <tr>\n",
       "      <th>3</th>\n",
       "      <td>0</td>\n",
       "      <td>1</td>\n",
       "      <td>0</td>\n",
       "      <td>0</td>\n",
       "      <td>0</td>\n",
       "      <td>0</td>\n",
       "      <td>0</td>\n",
       "      <td>0</td>\n",
       "      <td>1</td>\n",
       "      <td>0</td>\n",
       "      <td>0</td>\n",
       "      <td>1</td>\n",
       "      <td>0</td>\n",
       "      <td>0</td>\n",
       "      <td>0</td>\n",
       "      <td>1</td>\n",
       "      <td>0</td>\n",
       "    </tr>\n",
       "    <tr>\n",
       "      <th>4</th>\n",
       "      <td>0</td>\n",
       "      <td>0</td>\n",
       "      <td>1</td>\n",
       "      <td>0</td>\n",
       "      <td>0</td>\n",
       "      <td>0</td>\n",
       "      <td>0</td>\n",
       "      <td>1</td>\n",
       "      <td>0</td>\n",
       "      <td>0</td>\n",
       "      <td>0</td>\n",
       "      <td>1</td>\n",
       "      <td>0</td>\n",
       "      <td>0</td>\n",
       "      <td>1</td>\n",
       "      <td>0</td>\n",
       "      <td>0</td>\n",
       "    </tr>\n",
       "    <tr>\n",
       "      <th>...</th>\n",
       "      <td>...</td>\n",
       "      <td>...</td>\n",
       "      <td>...</td>\n",
       "      <td>...</td>\n",
       "      <td>...</td>\n",
       "      <td>...</td>\n",
       "      <td>...</td>\n",
       "      <td>...</td>\n",
       "      <td>...</td>\n",
       "      <td>...</td>\n",
       "      <td>...</td>\n",
       "      <td>...</td>\n",
       "      <td>...</td>\n",
       "      <td>...</td>\n",
       "      <td>...</td>\n",
       "      <td>...</td>\n",
       "      <td>...</td>\n",
       "    </tr>\n",
       "    <tr>\n",
       "      <th>1039</th>\n",
       "      <td>0</td>\n",
       "      <td>0</td>\n",
       "      <td>0</td>\n",
       "      <td>1</td>\n",
       "      <td>0</td>\n",
       "      <td>0</td>\n",
       "      <td>0</td>\n",
       "      <td>1</td>\n",
       "      <td>0</td>\n",
       "      <td>0</td>\n",
       "      <td>1</td>\n",
       "      <td>0</td>\n",
       "      <td>0</td>\n",
       "      <td>0</td>\n",
       "      <td>0</td>\n",
       "      <td>1</td>\n",
       "      <td>0</td>\n",
       "    </tr>\n",
       "    <tr>\n",
       "      <th>1040</th>\n",
       "      <td>0</td>\n",
       "      <td>0</td>\n",
       "      <td>0</td>\n",
       "      <td>0</td>\n",
       "      <td>1</td>\n",
       "      <td>0</td>\n",
       "      <td>0</td>\n",
       "      <td>0</td>\n",
       "      <td>1</td>\n",
       "      <td>0</td>\n",
       "      <td>1</td>\n",
       "      <td>0</td>\n",
       "      <td>0</td>\n",
       "      <td>0</td>\n",
       "      <td>0</td>\n",
       "      <td>1</td>\n",
       "      <td>0</td>\n",
       "    </tr>\n",
       "    <tr>\n",
       "      <th>1041</th>\n",
       "      <td>0</td>\n",
       "      <td>0</td>\n",
       "      <td>1</td>\n",
       "      <td>0</td>\n",
       "      <td>0</td>\n",
       "      <td>0</td>\n",
       "      <td>0</td>\n",
       "      <td>1</td>\n",
       "      <td>0</td>\n",
       "      <td>0</td>\n",
       "      <td>1</td>\n",
       "      <td>0</td>\n",
       "      <td>0</td>\n",
       "      <td>0</td>\n",
       "      <td>0</td>\n",
       "      <td>1</td>\n",
       "      <td>0</td>\n",
       "    </tr>\n",
       "    <tr>\n",
       "      <th>1042</th>\n",
       "      <td>0</td>\n",
       "      <td>0</td>\n",
       "      <td>0</td>\n",
       "      <td>1</td>\n",
       "      <td>0</td>\n",
       "      <td>0</td>\n",
       "      <td>0</td>\n",
       "      <td>0</td>\n",
       "      <td>1</td>\n",
       "      <td>0</td>\n",
       "      <td>1</td>\n",
       "      <td>0</td>\n",
       "      <td>0</td>\n",
       "      <td>0</td>\n",
       "      <td>0</td>\n",
       "      <td>1</td>\n",
       "      <td>0</td>\n",
       "    </tr>\n",
       "    <tr>\n",
       "      <th>1043</th>\n",
       "      <td>0</td>\n",
       "      <td>0</td>\n",
       "      <td>0</td>\n",
       "      <td>1</td>\n",
       "      <td>0</td>\n",
       "      <td>0</td>\n",
       "      <td>0</td>\n",
       "      <td>1</td>\n",
       "      <td>0</td>\n",
       "      <td>0</td>\n",
       "      <td>1</td>\n",
       "      <td>0</td>\n",
       "      <td>0</td>\n",
       "      <td>0</td>\n",
       "      <td>0</td>\n",
       "      <td>1</td>\n",
       "      <td>0</td>\n",
       "    </tr>\n",
       "  </tbody>\n",
       "</table>\n",
       "<p>1044 rows × 17 columns</p>\n",
       "</div>"
      ],
      "text/plain": [
       "      m_at_home  m_health  m_other  m_services  m_teacher  f_at_home  \\\n",
       "0             1         0        0           0          0          0   \n",
       "1             1         0        0           0          0          0   \n",
       "2             1         0        0           0          0          0   \n",
       "3             0         1        0           0          0          0   \n",
       "4             0         0        1           0          0          0   \n",
       "...         ...       ...      ...         ...        ...        ...   \n",
       "1039          0         0        0           1          0          0   \n",
       "1040          0         0        0           0          1          0   \n",
       "1041          0         0        1           0          0          0   \n",
       "1042          0         0        0           1          0          0   \n",
       "1043          0         0        0           1          0          0   \n",
       "\n",
       "      f_health  f_other  f_services  f_teacher  r_course  r_home  r_other  \\\n",
       "0            0        0           0          1         1       0        0   \n",
       "1            0        1           0          0         1       0        0   \n",
       "2            0        1           0          0         0       0        1   \n",
       "3            0        0           1          0         0       1        0   \n",
       "4            0        1           0          0         0       1        0   \n",
       "...        ...      ...         ...        ...       ...     ...      ...   \n",
       "1039         0        1           0          0         1       0        0   \n",
       "1040         0        0           1          0         1       0        0   \n",
       "1041         0        1           0          0         1       0        0   \n",
       "1042         0        0           1          0         1       0        0   \n",
       "1043         0        1           0          0         1       0        0   \n",
       "\n",
       "      r_reputation  g_father  g_mother  g_other  \n",
       "0                0         0         1        0  \n",
       "1                0         1         0        0  \n",
       "2                0         0         1        0  \n",
       "3                0         0         1        0  \n",
       "4                0         1         0        0  \n",
       "...            ...       ...       ...      ...  \n",
       "1039             0         0         1        0  \n",
       "1040             0         0         1        0  \n",
       "1041             0         0         1        0  \n",
       "1042             0         0         1        0  \n",
       "1043             0         0         1        0  \n",
       "\n",
       "[1044 rows x 17 columns]"
      ]
     },
     "execution_count": 89,
     "metadata": {},
     "output_type": "execute_result"
    }
   ],
   "source": [
    "dummies"
   ]
  },
  {
   "cell_type": "code",
   "execution_count": 90,
   "id": "7674b64f",
   "metadata": {},
   "outputs": [],
   "source": [
    "# concatinating the dummy variable to our dataset and droping the original columns\n",
    "\n",
    "student = pd.concat([student, dummies], axis = 1)\n",
    "\n",
    "#droping the original columns\n",
    "student.drop([\"Mother's Job\", \"Father's Job\", \"Reason\",\"Guardian\"], axis = 1, inplace = True)\n"
   ]
  },
  {
   "cell_type": "code",
   "execution_count": 91,
   "id": "b12988f7",
   "metadata": {},
   "outputs": [
    {
     "data": {
      "text/html": [
       "<div>\n",
       "<style scoped>\n",
       "    .dataframe tbody tr th:only-of-type {\n",
       "        vertical-align: middle;\n",
       "    }\n",
       "\n",
       "    .dataframe tbody tr th {\n",
       "        vertical-align: top;\n",
       "    }\n",
       "\n",
       "    .dataframe thead th {\n",
       "        text-align: right;\n",
       "    }\n",
       "</style>\n",
       "<table border=\"1\" class=\"dataframe\">\n",
       "  <thead>\n",
       "    <tr style=\"text-align: right;\">\n",
       "      <th></th>\n",
       "      <th>School</th>\n",
       "      <th>Sex</th>\n",
       "      <th>Age</th>\n",
       "      <th>Address</th>\n",
       "      <th>Family Size</th>\n",
       "      <th>parent's cohabitation status</th>\n",
       "      <th>Mother's Education</th>\n",
       "      <th>Father's Education</th>\n",
       "      <th>Travel Time</th>\n",
       "      <th>Study Time</th>\n",
       "      <th>...</th>\n",
       "      <th>f_other</th>\n",
       "      <th>f_services</th>\n",
       "      <th>f_teacher</th>\n",
       "      <th>r_course</th>\n",
       "      <th>r_home</th>\n",
       "      <th>r_other</th>\n",
       "      <th>r_reputation</th>\n",
       "      <th>g_father</th>\n",
       "      <th>g_mother</th>\n",
       "      <th>g_other</th>\n",
       "    </tr>\n",
       "  </thead>\n",
       "  <tbody>\n",
       "    <tr>\n",
       "      <th>0</th>\n",
       "      <td>GP</td>\n",
       "      <td>F</td>\n",
       "      <td>18</td>\n",
       "      <td>U</td>\n",
       "      <td>GT3</td>\n",
       "      <td>A</td>\n",
       "      <td>4</td>\n",
       "      <td>4</td>\n",
       "      <td>2</td>\n",
       "      <td>2</td>\n",
       "      <td>...</td>\n",
       "      <td>0</td>\n",
       "      <td>0</td>\n",
       "      <td>1</td>\n",
       "      <td>1</td>\n",
       "      <td>0</td>\n",
       "      <td>0</td>\n",
       "      <td>0</td>\n",
       "      <td>0</td>\n",
       "      <td>1</td>\n",
       "      <td>0</td>\n",
       "    </tr>\n",
       "    <tr>\n",
       "      <th>1</th>\n",
       "      <td>GP</td>\n",
       "      <td>F</td>\n",
       "      <td>17</td>\n",
       "      <td>U</td>\n",
       "      <td>GT3</td>\n",
       "      <td>T</td>\n",
       "      <td>1</td>\n",
       "      <td>1</td>\n",
       "      <td>1</td>\n",
       "      <td>2</td>\n",
       "      <td>...</td>\n",
       "      <td>1</td>\n",
       "      <td>0</td>\n",
       "      <td>0</td>\n",
       "      <td>1</td>\n",
       "      <td>0</td>\n",
       "      <td>0</td>\n",
       "      <td>0</td>\n",
       "      <td>1</td>\n",
       "      <td>0</td>\n",
       "      <td>0</td>\n",
       "    </tr>\n",
       "    <tr>\n",
       "      <th>2</th>\n",
       "      <td>GP</td>\n",
       "      <td>F</td>\n",
       "      <td>15</td>\n",
       "      <td>U</td>\n",
       "      <td>LE3</td>\n",
       "      <td>T</td>\n",
       "      <td>1</td>\n",
       "      <td>1</td>\n",
       "      <td>1</td>\n",
       "      <td>2</td>\n",
       "      <td>...</td>\n",
       "      <td>1</td>\n",
       "      <td>0</td>\n",
       "      <td>0</td>\n",
       "      <td>0</td>\n",
       "      <td>0</td>\n",
       "      <td>1</td>\n",
       "      <td>0</td>\n",
       "      <td>0</td>\n",
       "      <td>1</td>\n",
       "      <td>0</td>\n",
       "    </tr>\n",
       "    <tr>\n",
       "      <th>3</th>\n",
       "      <td>GP</td>\n",
       "      <td>F</td>\n",
       "      <td>15</td>\n",
       "      <td>U</td>\n",
       "      <td>GT3</td>\n",
       "      <td>T</td>\n",
       "      <td>4</td>\n",
       "      <td>2</td>\n",
       "      <td>1</td>\n",
       "      <td>3</td>\n",
       "      <td>...</td>\n",
       "      <td>0</td>\n",
       "      <td>1</td>\n",
       "      <td>0</td>\n",
       "      <td>0</td>\n",
       "      <td>1</td>\n",
       "      <td>0</td>\n",
       "      <td>0</td>\n",
       "      <td>0</td>\n",
       "      <td>1</td>\n",
       "      <td>0</td>\n",
       "    </tr>\n",
       "    <tr>\n",
       "      <th>4</th>\n",
       "      <td>GP</td>\n",
       "      <td>F</td>\n",
       "      <td>16</td>\n",
       "      <td>U</td>\n",
       "      <td>GT3</td>\n",
       "      <td>T</td>\n",
       "      <td>3</td>\n",
       "      <td>3</td>\n",
       "      <td>1</td>\n",
       "      <td>2</td>\n",
       "      <td>...</td>\n",
       "      <td>1</td>\n",
       "      <td>0</td>\n",
       "      <td>0</td>\n",
       "      <td>0</td>\n",
       "      <td>1</td>\n",
       "      <td>0</td>\n",
       "      <td>0</td>\n",
       "      <td>1</td>\n",
       "      <td>0</td>\n",
       "      <td>0</td>\n",
       "    </tr>\n",
       "    <tr>\n",
       "      <th>...</th>\n",
       "      <td>...</td>\n",
       "      <td>...</td>\n",
       "      <td>...</td>\n",
       "      <td>...</td>\n",
       "      <td>...</td>\n",
       "      <td>...</td>\n",
       "      <td>...</td>\n",
       "      <td>...</td>\n",
       "      <td>...</td>\n",
       "      <td>...</td>\n",
       "      <td>...</td>\n",
       "      <td>...</td>\n",
       "      <td>...</td>\n",
       "      <td>...</td>\n",
       "      <td>...</td>\n",
       "      <td>...</td>\n",
       "      <td>...</td>\n",
       "      <td>...</td>\n",
       "      <td>...</td>\n",
       "      <td>...</td>\n",
       "      <td>...</td>\n",
       "    </tr>\n",
       "    <tr>\n",
       "      <th>1039</th>\n",
       "      <td>MS</td>\n",
       "      <td>F</td>\n",
       "      <td>19</td>\n",
       "      <td>R</td>\n",
       "      <td>GT3</td>\n",
       "      <td>T</td>\n",
       "      <td>2</td>\n",
       "      <td>3</td>\n",
       "      <td>1</td>\n",
       "      <td>3</td>\n",
       "      <td>...</td>\n",
       "      <td>1</td>\n",
       "      <td>0</td>\n",
       "      <td>0</td>\n",
       "      <td>1</td>\n",
       "      <td>0</td>\n",
       "      <td>0</td>\n",
       "      <td>0</td>\n",
       "      <td>0</td>\n",
       "      <td>1</td>\n",
       "      <td>0</td>\n",
       "    </tr>\n",
       "    <tr>\n",
       "      <th>1040</th>\n",
       "      <td>MS</td>\n",
       "      <td>F</td>\n",
       "      <td>18</td>\n",
       "      <td>U</td>\n",
       "      <td>LE3</td>\n",
       "      <td>T</td>\n",
       "      <td>3</td>\n",
       "      <td>1</td>\n",
       "      <td>1</td>\n",
       "      <td>2</td>\n",
       "      <td>...</td>\n",
       "      <td>0</td>\n",
       "      <td>1</td>\n",
       "      <td>0</td>\n",
       "      <td>1</td>\n",
       "      <td>0</td>\n",
       "      <td>0</td>\n",
       "      <td>0</td>\n",
       "      <td>0</td>\n",
       "      <td>1</td>\n",
       "      <td>0</td>\n",
       "    </tr>\n",
       "    <tr>\n",
       "      <th>1041</th>\n",
       "      <td>MS</td>\n",
       "      <td>F</td>\n",
       "      <td>18</td>\n",
       "      <td>U</td>\n",
       "      <td>GT3</td>\n",
       "      <td>T</td>\n",
       "      <td>1</td>\n",
       "      <td>1</td>\n",
       "      <td>2</td>\n",
       "      <td>2</td>\n",
       "      <td>...</td>\n",
       "      <td>1</td>\n",
       "      <td>0</td>\n",
       "      <td>0</td>\n",
       "      <td>1</td>\n",
       "      <td>0</td>\n",
       "      <td>0</td>\n",
       "      <td>0</td>\n",
       "      <td>0</td>\n",
       "      <td>1</td>\n",
       "      <td>0</td>\n",
       "    </tr>\n",
       "    <tr>\n",
       "      <th>1042</th>\n",
       "      <td>MS</td>\n",
       "      <td>M</td>\n",
       "      <td>17</td>\n",
       "      <td>U</td>\n",
       "      <td>LE3</td>\n",
       "      <td>T</td>\n",
       "      <td>3</td>\n",
       "      <td>1</td>\n",
       "      <td>2</td>\n",
       "      <td>1</td>\n",
       "      <td>...</td>\n",
       "      <td>0</td>\n",
       "      <td>1</td>\n",
       "      <td>0</td>\n",
       "      <td>1</td>\n",
       "      <td>0</td>\n",
       "      <td>0</td>\n",
       "      <td>0</td>\n",
       "      <td>0</td>\n",
       "      <td>1</td>\n",
       "      <td>0</td>\n",
       "    </tr>\n",
       "    <tr>\n",
       "      <th>1043</th>\n",
       "      <td>MS</td>\n",
       "      <td>M</td>\n",
       "      <td>18</td>\n",
       "      <td>R</td>\n",
       "      <td>LE3</td>\n",
       "      <td>T</td>\n",
       "      <td>3</td>\n",
       "      <td>2</td>\n",
       "      <td>3</td>\n",
       "      <td>1</td>\n",
       "      <td>...</td>\n",
       "      <td>1</td>\n",
       "      <td>0</td>\n",
       "      <td>0</td>\n",
       "      <td>1</td>\n",
       "      <td>0</td>\n",
       "      <td>0</td>\n",
       "      <td>0</td>\n",
       "      <td>0</td>\n",
       "      <td>1</td>\n",
       "      <td>0</td>\n",
       "    </tr>\n",
       "  </tbody>\n",
       "</table>\n",
       "<p>1044 rows × 46 columns</p>\n",
       "</div>"
      ],
      "text/plain": [
       "     School Sex  Age Address Family Size parent's cohabitation status  \\\n",
       "0        GP   F   18       U         GT3                            A   \n",
       "1        GP   F   17       U         GT3                            T   \n",
       "2        GP   F   15       U         LE3                            T   \n",
       "3        GP   F   15       U         GT3                            T   \n",
       "4        GP   F   16       U         GT3                            T   \n",
       "...     ...  ..  ...     ...         ...                          ...   \n",
       "1039     MS   F   19       R         GT3                            T   \n",
       "1040     MS   F   18       U         LE3                            T   \n",
       "1041     MS   F   18       U         GT3                            T   \n",
       "1042     MS   M   17       U         LE3                            T   \n",
       "1043     MS   M   18       R         LE3                            T   \n",
       "\n",
       "      Mother's Education  Father's Education  Travel Time  Study Time  ...  \\\n",
       "0                      4                   4            2           2  ...   \n",
       "1                      1                   1            1           2  ...   \n",
       "2                      1                   1            1           2  ...   \n",
       "3                      4                   2            1           3  ...   \n",
       "4                      3                   3            1           2  ...   \n",
       "...                  ...                 ...          ...         ...  ...   \n",
       "1039                   2                   3            1           3  ...   \n",
       "1040                   3                   1            1           2  ...   \n",
       "1041                   1                   1            2           2  ...   \n",
       "1042                   3                   1            2           1  ...   \n",
       "1043                   3                   2            3           1  ...   \n",
       "\n",
       "      f_other f_services f_teacher r_course r_home r_other r_reputation  \\\n",
       "0           0          0         1        1      0       0            0   \n",
       "1           1          0         0        1      0       0            0   \n",
       "2           1          0         0        0      0       1            0   \n",
       "3           0          1         0        0      1       0            0   \n",
       "4           1          0         0        0      1       0            0   \n",
       "...       ...        ...       ...      ...    ...     ...          ...   \n",
       "1039        1          0         0        1      0       0            0   \n",
       "1040        0          1         0        1      0       0            0   \n",
       "1041        1          0         0        1      0       0            0   \n",
       "1042        0          1         0        1      0       0            0   \n",
       "1043        1          0         0        1      0       0            0   \n",
       "\n",
       "     g_father g_mother  g_other  \n",
       "0           0        1        0  \n",
       "1           1        0        0  \n",
       "2           0        1        0  \n",
       "3           0        1        0  \n",
       "4           1        0        0  \n",
       "...       ...      ...      ...  \n",
       "1039        0        1        0  \n",
       "1040        0        1        0  \n",
       "1041        0        1        0  \n",
       "1042        0        1        0  \n",
       "1043        0        1        0  \n",
       "\n",
       "[1044 rows x 46 columns]"
      ]
     },
     "execution_count": 91,
     "metadata": {},
     "output_type": "execute_result"
    }
   ],
   "source": [
    "student"
   ]
  },
  {
   "cell_type": "code",
   "execution_count": 92,
   "id": "4706a981",
   "metadata": {},
   "outputs": [],
   "source": [
    "from sklearn.preprocessing import StandardScaler, LabelEncoder"
   ]
  },
  {
   "cell_type": "markdown",
   "id": "f823a17b",
   "metadata": {},
   "source": [
    "### Label Encoding "
   ]
  },
  {
   "cell_type": "code",
   "execution_count": 93,
   "id": "14bbcf9d",
   "metadata": {},
   "outputs": [
    {
     "data": {
      "text/plain": [
       "['School',\n",
       " 'Sex',\n",
       " 'Address',\n",
       " 'Family Size',\n",
       " \"parent's cohabitation status\",\n",
       " 'School Support',\n",
       " 'Famly Support',\n",
       " 'Paid Classes',\n",
       " 'Activities',\n",
       " 'Nursery',\n",
       " 'Higher Education',\n",
       " 'Internet',\n",
       " 'Romantic',\n",
       " 'final_grade']"
      ]
     },
     "execution_count": 93,
     "metadata": {},
     "output_type": "execute_result"
    }
   ],
   "source": [
    "nonnumericcolumns = [student.columns[index] for index, dtype in enumerate(student.dtypes) if dtype =='object']\n",
    "nonnumericcolumns"
   ]
  },
  {
   "cell_type": "code",
   "execution_count": 94,
   "id": "11bf16aa",
   "metadata": {},
   "outputs": [
    {
     "name": "stdout",
     "output_type": "stream",
     "text": [
      "School:['GP' 'MS']\n",
      "Sex:['F' 'M']\n",
      "Address:['U' 'R']\n",
      "Family Size:['GT3' 'LE3']\n",
      "parent's cohabitation status:['A' 'T']\n",
      "School Support:['yes' 'no']\n",
      "Famly Support:['no' 'yes']\n",
      "Paid Classes:['no' 'yes']\n",
      "Activities:['no' 'yes']\n",
      "Nursery:['yes' 'no']\n",
      "Higher Education:['yes' 'no']\n",
      "Internet:['no' 'yes']\n",
      "Romantic:['no' 'yes']\n",
      "final_grade:['Poor' 'Average' 'Excellent']\n"
     ]
    }
   ],
   "source": [
    "#label enconder\n",
    "#so right now all we have is just binanry values, so i would used lable encoding for every one\n",
    "\n",
    "for column in nonnumericcolumns:\n",
    "    print(f\"{column}:{student[column].unique()}\")"
   ]
  },
  {
   "cell_type": "code",
   "execution_count": 95,
   "id": "80a95168",
   "metadata": {},
   "outputs": [],
   "source": [
    "encoder = LabelEncoder()\n",
    "for column in nonnumericcolumns:\n",
    "    student[column] = encoder.fit_transform(student[column])"
   ]
  },
  {
   "cell_type": "code",
   "execution_count": 96,
   "id": "98c0bc3a",
   "metadata": {},
   "outputs": [
    {
     "name": "stdout",
     "output_type": "stream",
     "text": [
      "int32\n",
      "int32\n",
      "int64\n",
      "int32\n",
      "int32\n",
      "int32\n",
      "int64\n",
      "int64\n",
      "int64\n",
      "int64\n",
      "int64\n",
      "int32\n",
      "int32\n",
      "int32\n",
      "int32\n",
      "int32\n",
      "int32\n",
      "int32\n",
      "int32\n",
      "int64\n",
      "int64\n",
      "int64\n",
      "int64\n",
      "int64\n",
      "int64\n",
      "int64\n",
      "int64\n",
      "int64\n",
      "int32\n",
      "uint8\n",
      "uint8\n",
      "uint8\n",
      "uint8\n",
      "uint8\n",
      "uint8\n",
      "uint8\n",
      "uint8\n",
      "uint8\n",
      "uint8\n",
      "uint8\n",
      "uint8\n",
      "uint8\n",
      "uint8\n",
      "uint8\n",
      "uint8\n",
      "uint8\n"
     ]
    }
   ],
   "source": [
    "student.dtypes\n",
    "#or\n",
    "for dtype in student.dtypes:\n",
    "    print(dtype)"
   ]
  },
  {
   "cell_type": "code",
   "execution_count": 97,
   "id": "ce74fb31",
   "metadata": {},
   "outputs": [
    {
     "data": {
      "text/plain": [
       "3"
      ]
     },
     "execution_count": 97,
     "metadata": {},
     "output_type": "execute_result"
    }
   ],
   "source": [
    "student[\"final_grade\"].value_counts().nunique()"
   ]
  },
  {
   "cell_type": "code",
   "execution_count": 98,
   "id": "7157507e",
   "metadata": {},
   "outputs": [
    {
     "data": {
      "text/plain": [
       "0    2\n",
       "1    2\n",
       "2    0\n",
       "3    1\n",
       "4    0\n",
       "5    1\n",
       "6    0\n",
       "7    2\n",
       "8    1\n",
       "9    1\n",
       "Name: final_grade, dtype: int32"
      ]
     },
     "execution_count": 98,
     "metadata": {},
     "output_type": "execute_result"
    }
   ],
   "source": [
    "student[\"final_grade\"][:10]"
   ]
  },
  {
   "cell_type": "code",
   "execution_count": 99,
   "id": "02a5d4bd",
   "metadata": {},
   "outputs": [
    {
     "data": {
      "text/plain": [
       "<AxesSubplot:xlabel='final_grade', ylabel='count'>"
      ]
     },
     "execution_count": 99,
     "metadata": {},
     "output_type": "execute_result"
    },
    {
     "data": {
      "image/png": "[encoded data removed]",
      "text/plain": [
       "<Figure size 432x288 with 1 Axes>"
      ]
     },
     "metadata": {},
     "output_type": "display_data"
    }
   ],
   "source": [
    "sns.countplot(x = student[\"final_grade\"])"
   ]
  },
  {
   "cell_type": "code",
   "execution_count": 100,
   "id": "ff135752",
   "metadata": {},
   "outputs": [
    {
     "data": {
      "text/plain": [
       "0    610\n",
       "2    230\n",
       "1    204\n",
       "Name: final_grade, dtype: int64"
      ]
     },
     "execution_count": 100,
     "metadata": {},
     "output_type": "execute_result"
    }
   ],
   "source": [
    "student[\"final_grade\"].value_counts()"
   ]
  },
  {
   "cell_type": "markdown",
   "id": "a721b85b",
   "metadata": {},
   "source": [
    "### Data Formating\n",
    "### Separating the Features and the Target variable"
   ]
  },
  {
   "cell_type": "code",
   "execution_count": 101,
   "id": "56424749",
   "metadata": {},
   "outputs": [],
   "source": [
    "y = student[\"final_grade\"]\n",
    "x = student.drop('final_grade', axis = 1)"
   ]
  },
  {
   "cell_type": "code",
   "execution_count": 102,
   "id": "0539e489",
   "metadata": {},
   "outputs": [
    {
     "data": {
      "text/plain": [
       "array([2, 0, 1])"
      ]
     },
     "execution_count": 102,
     "metadata": {},
     "output_type": "execute_result"
    }
   ],
   "source": [
    "y.unique()"
   ]
  },
  {
   "cell_type": "code",
   "execution_count": 103,
   "id": "3ab159cc",
   "metadata": {},
   "outputs": [
    {
     "data": {
      "text/plain": [
       "0    610\n",
       "2    230\n",
       "1    204\n",
       "Name: final_grade, dtype: int64"
      ]
     },
     "execution_count": 103,
     "metadata": {},
     "output_type": "execute_result"
    }
   ],
   "source": [
    "y.value_counts()"
   ]
  },
  {
   "cell_type": "code",
   "execution_count": 104,
   "id": "1887e5d6",
   "metadata": {},
   "outputs": [
    {
     "data": {
      "image/png": "[encoded data removed]",
      "text/plain": [
       "<Figure size 1080x432 with 1 Axes>"
      ]
     },
     "metadata": {},
     "output_type": "display_data"
    }
   ],
   "source": [
    "plt.rcParams[\"figure.figsize\"] = (15,6)\n",
    "unique_elements, counts_elements = np.unique(y,return_counts = True)\n",
    "fig1, ax1 = plt.subplots()\n",
    "ax1.pie(counts_elements, labels = unique_elements, autopct='%.1f%%', shadow =True, startangle=90, textprops = {'fontsize': 18})\n",
    "plt.show()"
   ]
  },
  {
   "cell_type": "code",
   "execution_count": 105,
   "id": "57ae46ad",
   "metadata": {},
   "outputs": [],
   "source": [
    "# scaling x using sk learns standard scaler which gives every feature unique variance\n",
    "\n",
    "#scaler = StandardScaler()\n",
    "#x = pd.DataFrame(scaler.fit_transform(x), columns = x.columns)"
   ]
  },
  {
   "cell_type": "code",
   "execution_count": 106,
   "id": "6b9761cc",
   "metadata": {},
   "outputs": [],
   "source": [
    "x\n",
    "\n",
    "output = None"
   ]
  },
  {
   "cell_type": "markdown",
   "id": "a2cb02d3",
   "metadata": {},
   "source": [
    "### 6. Split dataset into Training and Testing set"
   ]
  },
  {
   "cell_type": "code",
   "execution_count": 107,
   "id": "86979835",
   "metadata": {},
   "outputs": [],
   "source": [
    "from sklearn.model_selection import train_test_split\n",
    "\n",
    "# Splitting the dataset into training and testing set (80/20)\n",
    "\n",
    "x_train, x_test, y_train, y_test = \\\n",
    "train_test_split(x, y, test_size = 0.20, random_state = 42)"
   ]
  },
  {
   "cell_type": "code",
   "execution_count": 108,
   "id": "7ee232eb",
   "metadata": {},
   "outputs": [],
   "source": [
    "# FEATURES SCALING\n",
    "\n",
    "scaler = StandardScaler()\n",
    "x_train = scaler.fit_transform(x_train)\n",
    "x_test = scaler.fit_transform(x_test)"
   ]
  },
  {
   "cell_type": "code",
   "execution_count": 109,
   "id": "8f090588",
   "metadata": {},
   "outputs": [
    {
     "data": {
      "text/plain": [
       "array([[-0.59071983,  1.11833531, -0.58511174,  0.62212795, -0.63325091,\n",
       "         0.36675724, -0.56825442, -1.28210135,  3.31007524, -1.14639316,\n",
       "        -0.37848294, -0.35188399, -1.24015883, -0.50373977, -1.00359929,\n",
       "         0.49437974,  0.30249507, -1.97054331, -0.74493948, -1.02038272,\n",
       "        -1.17958973, -1.88202685, -0.55574789, -1.02310781, -1.07389358,\n",
       "        -0.07091948, -0.75032788, -0.70243992,  2.13697606, -0.31183405,\n",
       "        -0.79426656, -0.53534546, -0.37303373, -0.24145734, -0.19962605,\n",
       "         0.8941862 , -0.62954036, -0.26811758,  1.21260637, -0.58149895,\n",
       "        -0.33665016, -0.56305835, -0.56674733,  0.66119383, -0.25505102],\n",
       "       [-0.59071983, -0.8941862 ,  0.23463373,  0.62212795,  1.57915289,\n",
       "         0.36675724,  1.22566785, -0.37485167, -0.71504052,  2.41652851,\n",
       "        -0.37848294, -0.35188399,  0.80634833,  1.98515198,  0.99641362,\n",
       "         0.49437974,  0.30249507,  0.50747426, -0.74493948,  0.0567596 ,\n",
       "        -1.17958973, -0.15035476, -0.55574789, -1.02310781,  0.32066496,\n",
       "         0.24490861,  0.92397404,  0.21211933, -0.46795096, -0.31183405,\n",
       "        -0.79426656, -0.53534546,  2.68072276, -0.24145734, -0.19962605,\n",
       "        -1.11833531,  1.5884605 , -0.26811758, -0.82466992, -0.58149895,\n",
       "        -0.33665016,  1.77601488, -0.56674733,  0.66119383, -0.25505102],\n",
       "       [ 1.69284989,  1.11833531,  1.87412469, -1.60738638, -0.63325091,\n",
       "         0.36675724, -1.46521555, -1.28210135,  1.96836998,  0.0412474 ,\n",
       "         4.31508023, -0.35188399, -1.24015883, -0.50373977, -1.00359929,\n",
       "         0.49437974,  0.30249507,  0.50747426, -0.74493948,  1.13390191,\n",
       "         0.76696645,  0.71548128,  1.65928546,  0.54728745, -1.07389358,\n",
       "         0.56073671, -1.08518826, -1.31214609, -0.46795096, -0.31183405,\n",
       "         1.25902316, -0.53534546, -0.37303373, -0.24145734, -0.19962605,\n",
       "        -1.11833531,  1.5884605 , -0.26811758, -0.82466992,  1.71969357,\n",
       "        -0.33665016, -0.56305835, -0.56674733, -1.51241581,  3.92078424],\n",
       "       [-0.59071983, -0.8941862 , -0.58511174, -1.60738638, -0.63325091,\n",
       "         0.36675724,  1.22566785,  1.4396477 , -0.71504052,  0.0412474 ,\n",
       "        -0.37848294, -0.35188399,  0.80634833, -0.50373977,  0.99641362,\n",
       "         0.49437974,  0.30249507, -1.97054331, -0.74493948, -2.09752503,\n",
       "         0.76696645,  0.71548128,  0.55176878,  0.54728745,  0.32066496,\n",
       "         0.24490861, -0.41546749, -0.09273375, -0.46795096,  3.20683392,\n",
       "        -0.79426656, -0.53534546, -0.37303373, -0.24145734, -0.19962605,\n",
       "        -1.11833531, -0.62954036,  3.729707  , -0.82466992, -0.58149895,\n",
       "         2.97044263, -0.56305835, -0.56674733,  0.66119383, -0.25505102],\n",
       "       [ 1.69284989,  1.11833531, -1.40485722, -1.60738638, -0.63325091,\n",
       "         0.36675724, -1.46521555, -0.37485167,  1.96836998,  0.0412474 ,\n",
       "        -0.37848294, -0.35188399,  0.80634833, -0.50373977,  0.99641362,\n",
       "         0.49437974,  0.30249507, -1.97054331, -0.74493948,  1.13390191,\n",
       "         1.74024454,  1.58131733, -0.55574789,  0.54728745,  1.01794422,\n",
       "         1.03447885, -0.75032788, -0.09273375, -0.46795096, -0.31183405,\n",
       "         1.25902316, -0.53534546, -0.37303373, -0.24145734, -0.19962605,\n",
       "        -1.11833531,  1.5884605 , -0.26811758,  1.21260637, -0.58149895,\n",
       "        -0.33665016, -0.56305835, -0.56674733,  0.66119383, -0.25505102]])"
      ]
     },
     "execution_count": 109,
     "metadata": {},
     "output_type": "execute_result"
    }
   ],
   "source": [
    "x_train[:5]"
   ]
  },
  {
   "cell_type": "markdown",
   "id": "5c203480",
   "metadata": {},
   "source": [
    "## Building Machine Learing Models on Imbalance Dataset"
   ]
  },
  {
   "cell_type": "markdown",
   "id": "6ba1e5a7",
   "metadata": {},
   "source": [
    "### Fitting a RandomForestClassifier on an Imbalance dataset"
   ]
  },
  {
   "cell_type": "code",
   "execution_count": 110,
   "id": "0dd8ea3a",
   "metadata": {},
   "outputs": [],
   "source": [
    "#Import Random Forest Model\n",
    "from sklearn.ensemble import RandomForestClassifier\n",
    "\n",
    "# Initializing the Random Forest  model \n",
    "rf_model = RandomForestClassifier(random_state = 42)\n"
   ]
  },
  {
   "cell_type": "code",
   "execution_count": 111,
   "id": "047e2227",
   "metadata": {},
   "outputs": [
    {
     "name": "stdout",
     "output_type": "stream",
     "text": [
      "Training Features Shape: (835, 45)\n",
      "Training Labels Shape: (835,)\n",
      "Testing Features Shape: (209, 45)\n",
      "Testing Labels Shape: (209,)\n"
     ]
    }
   ],
   "source": [
    "# looking at the shape\n",
    "\n",
    "print('Training Features Shape:', x_train.shape)\n",
    "print('Training Labels Shape:', y_train.shape)\n",
    "print('Testing Features Shape:', x_test.shape)\n",
    "print('Testing Labels Shape:', y_test.shape)"
   ]
  },
  {
   "cell_type": "code",
   "execution_count": 112,
   "id": "36b76883",
   "metadata": {},
   "outputs": [],
   "source": [
    "# Fitting the Random Forest Classifier model to the training data\n",
    "rf_model.fit(x_train, y_train)\n",
    "# Model prediction\n",
    "rf_pred = rf_model.predict(x_test)"
   ]
  },
  {
   "cell_type": "markdown",
   "id": "840e5f33",
   "metadata": {},
   "source": [
    "### Accuracy of the RandomForestClassifier Model on an Imbalance dataset"
   ]
  },
  {
   "cell_type": "code",
   "execution_count": 113,
   "id": "3bc8297b",
   "metadata": {},
   "outputs": [],
   "source": [
    "from sklearn.metrics import accuracy_score"
   ]
  },
  {
   "cell_type": "code",
   "execution_count": 114,
   "id": "46c351b8",
   "metadata": {},
   "outputs": [
    {
     "name": "stdout",
     "output_type": "stream",
     "text": [
      "Accuracy: 0.8181818181818182\n"
     ]
    },
    {
     "data": {
      "text/html": [
       "<div>\n",
       "<style scoped>\n",
       "    .dataframe tbody tr th:only-of-type {\n",
       "        vertical-align: middle;\n",
       "    }\n",
       "\n",
       "    .dataframe tbody tr th {\n",
       "        vertical-align: top;\n",
       "    }\n",
       "\n",
       "    .dataframe thead th {\n",
       "        text-align: right;\n",
       "    }\n",
       "</style>\n",
       "<table border=\"1\" class=\"dataframe\">\n",
       "  <thead>\n",
       "    <tr style=\"text-align: right;\">\n",
       "      <th>col_0</th>\n",
       "      <th>0</th>\n",
       "      <th>1</th>\n",
       "      <th>2</th>\n",
       "    </tr>\n",
       "    <tr>\n",
       "      <th>final_grade</th>\n",
       "      <th></th>\n",
       "      <th></th>\n",
       "      <th></th>\n",
       "    </tr>\n",
       "  </thead>\n",
       "  <tbody>\n",
       "    <tr>\n",
       "      <th>0</th>\n",
       "      <td>102</td>\n",
       "      <td>0</td>\n",
       "      <td>4</td>\n",
       "    </tr>\n",
       "    <tr>\n",
       "      <th>1</th>\n",
       "      <td>9</td>\n",
       "      <td>34</td>\n",
       "      <td>0</td>\n",
       "    </tr>\n",
       "    <tr>\n",
       "      <th>2</th>\n",
       "      <td>25</td>\n",
       "      <td>0</td>\n",
       "      <td>35</td>\n",
       "    </tr>\n",
       "  </tbody>\n",
       "</table>\n",
       "</div>"
      ],
      "text/plain": [
       "col_0          0   1   2\n",
       "final_grade             \n",
       "0            102   0   4\n",
       "1              9  34   0\n",
       "2             25   0  35"
      ]
     },
     "execution_count": 114,
     "metadata": {},
     "output_type": "execute_result"
    }
   ],
   "source": [
    "print(\"Accuracy:\",accuracy_score(y_test, rf_pred))\n",
    "pd.crosstab(y_test,rf_pred)"
   ]
  },
  {
   "cell_type": "code",
   "execution_count": 115,
   "id": "834dbf5c",
   "metadata": {},
   "outputs": [
    {
     "data": {
      "text/plain": [
       "array([0, 2, 0, 0, 0, 0, 2, 0, 0, 0])"
      ]
     },
     "execution_count": 115,
     "metadata": {},
     "output_type": "execute_result"
    }
   ],
   "source": [
    "rf_pred[:10]"
   ]
  },
  {
   "cell_type": "code",
   "execution_count": 116,
   "id": "c8ee9e88",
   "metadata": {},
   "outputs": [
    {
     "data": {
      "text/plain": [
       "971    0\n",
       "280    2\n",
       "536    0\n",
       "824    0\n",
       "644    0\n",
       "777    0\n",
       "978    2\n",
       "231    0\n",
       "660    1\n",
       "548    0\n",
       "Name: final_grade, dtype: int32"
      ]
     },
     "execution_count": 116,
     "metadata": {},
     "output_type": "execute_result"
    }
   ],
   "source": [
    "y_test[:10]"
   ]
  },
  {
   "cell_type": "code",
   "execution_count": 117,
   "id": "1734bfb0",
   "metadata": {},
   "outputs": [
    {
     "data": {
      "text/html": [
       "<div>\n",
       "<style scoped>\n",
       "    .dataframe tbody tr th:only-of-type {\n",
       "        vertical-align: middle;\n",
       "    }\n",
       "\n",
       "    .dataframe tbody tr th {\n",
       "        vertical-align: top;\n",
       "    }\n",
       "\n",
       "    .dataframe thead th {\n",
       "        text-align: right;\n",
       "    }\n",
       "</style>\n",
       "<table border=\"1\" class=\"dataframe\">\n",
       "  <thead>\n",
       "    <tr style=\"text-align: right;\">\n",
       "      <th></th>\n",
       "      <th>Actual</th>\n",
       "      <th>Predicted</th>\n",
       "    </tr>\n",
       "  </thead>\n",
       "  <tbody>\n",
       "    <tr>\n",
       "      <th>971</th>\n",
       "      <td>0</td>\n",
       "      <td>0</td>\n",
       "    </tr>\n",
       "    <tr>\n",
       "      <th>280</th>\n",
       "      <td>2</td>\n",
       "      <td>2</td>\n",
       "    </tr>\n",
       "    <tr>\n",
       "      <th>536</th>\n",
       "      <td>0</td>\n",
       "      <td>0</td>\n",
       "    </tr>\n",
       "    <tr>\n",
       "      <th>824</th>\n",
       "      <td>0</td>\n",
       "      <td>0</td>\n",
       "    </tr>\n",
       "    <tr>\n",
       "      <th>644</th>\n",
       "      <td>0</td>\n",
       "      <td>0</td>\n",
       "    </tr>\n",
       "    <tr>\n",
       "      <th>777</th>\n",
       "      <td>0</td>\n",
       "      <td>0</td>\n",
       "    </tr>\n",
       "    <tr>\n",
       "      <th>978</th>\n",
       "      <td>2</td>\n",
       "      <td>2</td>\n",
       "    </tr>\n",
       "    <tr>\n",
       "      <th>231</th>\n",
       "      <td>0</td>\n",
       "      <td>0</td>\n",
       "    </tr>\n",
       "    <tr>\n",
       "      <th>660</th>\n",
       "      <td>1</td>\n",
       "      <td>0</td>\n",
       "    </tr>\n",
       "    <tr>\n",
       "      <th>548</th>\n",
       "      <td>0</td>\n",
       "      <td>0</td>\n",
       "    </tr>\n",
       "  </tbody>\n",
       "</table>\n",
       "</div>"
      ],
      "text/plain": [
       "     Actual  Predicted\n",
       "971       0          0\n",
       "280       2          2\n",
       "536       0          0\n",
       "824       0          0\n",
       "644       0          0\n",
       "777       0          0\n",
       "978       2          2\n",
       "231       0          0\n",
       "660       1          0\n",
       "548       0          0"
      ]
     },
     "execution_count": 117,
     "metadata": {},
     "output_type": "execute_result"
    }
   ],
   "source": [
    "df=pd.DataFrame({'Actual':y_test, 'Predicted':rf_pred})[:10]\n",
    "df"
   ]
  },
  {
   "cell_type": "markdown",
   "id": "a756a1ca",
   "metadata": {},
   "source": [
    "### Random Forest Classifier Model Evaluation on an Imbalance dataset"
   ]
  },
  {
   "cell_type": "code",
   "execution_count": 118,
   "id": "dab03d41",
   "metadata": {},
   "outputs": [],
   "source": [
    "from sklearn.metrics import confusion_matrix, classification_report"
   ]
  },
  {
   "cell_type": "code",
   "execution_count": 119,
   "id": "bd9813e3",
   "metadata": {},
   "outputs": [
    {
     "data": {
      "text/plain": [
       "array([[102,   0,   4],\n",
       "       [  9,  34,   0],\n",
       "       [ 25,   0,  35]], dtype=int64)"
      ]
     },
     "execution_count": 119,
     "metadata": {},
     "output_type": "execute_result"
    }
   ],
   "source": [
    "rf_cm = confusion_matrix(y_test,rf_pred)\n",
    "rf_cm"
   ]
  },
  {
   "cell_type": "code",
   "execution_count": 120,
   "id": "72c5932c",
   "metadata": {},
   "outputs": [],
   "source": [
    "# Creating a dataframe for a array-formatted Confusion matrix,so it will be easy for plotting.\n",
    "cm_df = pd.DataFrame(rf_cm,\n",
    "                     index = ['AVERAGE','EXCELLENT','POOR'], \n",
    "                     columns = ['AVERAGE','EXCELLENT','POOR'])"
   ]
  },
  {
   "cell_type": "code",
   "execution_count": 121,
   "id": "0093a037",
   "metadata": {},
   "outputs": [
    {
     "data": {
      "image/png": "[encoded data removed]",
      "text/plain": [
       "<Figure size 360x288 with 2 Axes>"
      ]
     },
     "metadata": {},
     "output_type": "display_data"
    }
   ],
   "source": [
    "#Plotting the confusion matrix\n",
    "plt.figure(figsize=(5,4))\n",
    "sns.heatmap(cm_df, annot=True)\n",
    "plt.title('Confusion Matrix')\n",
    "plt.xlabel('Predicted Values')\n",
    "plt.ylabel('Actal Values')\n",
    "\n",
    "plt.show()\n"
   ]
  },
  {
   "cell_type": "code",
   "execution_count": 122,
   "id": "6a5eeda2",
   "metadata": {},
   "outputs": [
    {
     "name": "stdout",
     "output_type": "stream",
     "text": [
      "[0 1 2] [106  43  60]\n"
     ]
    }
   ],
   "source": [
    "unique_element, counts_elements = np.unique(y_test, return_counts = True)\n",
    "print(unique_elements, counts_elements)\n",
    "\n",
    "#in the test dataset we have 43(9+34+0) and 60(25+0+35) samples in the minority class\n",
    "# and we have 106 (102+0+4) samples in the majority class\n"
   ]
  },
  {
   "cell_type": "code",
   "execution_count": 123,
   "id": "aef706de",
   "metadata": {},
   "outputs": [
    {
     "data": {
      "image/png": "[encoded data removed]",
      "text/plain": [
       "<Figure size 1080x432 with 2 Axes>"
      ]
     },
     "metadata": {},
     "output_type": "display_data"
    }
   ],
   "source": [
    "from sklearn.metrics import confusion_matrix, ConfusionMatrixDisplay\n",
    "\n",
    "cm = confusion_matrix(y_test, rf_pred, labels=rf_model.classes_)\n",
    "disp = ConfusionMatrixDisplay(confusion_matrix=cm, display_labels=rf_model.classes_)\n",
    "disp.plot()\n",
    "\n",
    "plt.show()"
   ]
  },
  {
   "cell_type": "code",
   "execution_count": 124,
   "id": "0e1d5b37",
   "metadata": {},
   "outputs": [
    {
     "name": "stdout",
     "output_type": "stream",
     "text": [
      "              precision    recall  f1-score   support\n",
      "\n",
      "           0       0.75      0.96      0.84       106\n",
      "           1       1.00      0.79      0.88        43\n",
      "           2       0.90      0.58      0.71        60\n",
      "\n",
      "    accuracy                           0.82       209\n",
      "   macro avg       0.88      0.78      0.81       209\n",
      "weighted avg       0.84      0.82      0.81       209\n",
      "\n"
     ]
    }
   ],
   "source": [
    "print(classification_report(y_test, rf_pred))\n",
    "#recall is the accuracy of each metrics of 0,1,2"
   ]
  },
  {
   "cell_type": "code",
   "execution_count": null,
   "id": "f1319533",
   "metadata": {},
   "outputs": [],
   "source": []
  },
  {
   "cell_type": "markdown",
   "id": "fdc35d64",
   "metadata": {},
   "source": [
    "### 8. Fitting a Support Vector Machine on an Imbalance dataset"
   ]
  },
  {
   "cell_type": "code",
   "execution_count": 125,
   "id": "26e917d6",
   "metadata": {},
   "outputs": [],
   "source": [
    "svm_model = SVC(kernel='rbf', C=1, gamma='auto',random_state = 42)\n",
    "svm_model.fit(x_train, y_train)\n",
    "svm_pred = svm_model.predict(x_test)"
   ]
  },
  {
   "cell_type": "code",
   "execution_count": 126,
   "id": "0b0dc054",
   "metadata": {},
   "outputs": [
    {
     "data": {
      "text/html": [
       "<div>\n",
       "<style scoped>\n",
       "    .dataframe tbody tr th:only-of-type {\n",
       "        vertical-align: middle;\n",
       "    }\n",
       "\n",
       "    .dataframe tbody tr th {\n",
       "        vertical-align: top;\n",
       "    }\n",
       "\n",
       "    .dataframe thead th {\n",
       "        text-align: right;\n",
       "    }\n",
       "</style>\n",
       "<table border=\"1\" class=\"dataframe\">\n",
       "  <thead>\n",
       "    <tr style=\"text-align: right;\">\n",
       "      <th></th>\n",
       "      <th>Actual</th>\n",
       "      <th>Predicted</th>\n",
       "    </tr>\n",
       "  </thead>\n",
       "  <tbody>\n",
       "    <tr>\n",
       "      <th>971</th>\n",
       "      <td>0</td>\n",
       "      <td>0</td>\n",
       "    </tr>\n",
       "    <tr>\n",
       "      <th>280</th>\n",
       "      <td>2</td>\n",
       "      <td>0</td>\n",
       "    </tr>\n",
       "    <tr>\n",
       "      <th>536</th>\n",
       "      <td>0</td>\n",
       "      <td>0</td>\n",
       "    </tr>\n",
       "    <tr>\n",
       "      <th>824</th>\n",
       "      <td>0</td>\n",
       "      <td>0</td>\n",
       "    </tr>\n",
       "    <tr>\n",
       "      <th>644</th>\n",
       "      <td>0</td>\n",
       "      <td>0</td>\n",
       "    </tr>\n",
       "    <tr>\n",
       "      <th>777</th>\n",
       "      <td>0</td>\n",
       "      <td>0</td>\n",
       "    </tr>\n",
       "    <tr>\n",
       "      <th>978</th>\n",
       "      <td>2</td>\n",
       "      <td>2</td>\n",
       "    </tr>\n",
       "    <tr>\n",
       "      <th>231</th>\n",
       "      <td>0</td>\n",
       "      <td>0</td>\n",
       "    </tr>\n",
       "    <tr>\n",
       "      <th>660</th>\n",
       "      <td>1</td>\n",
       "      <td>1</td>\n",
       "    </tr>\n",
       "    <tr>\n",
       "      <th>548</th>\n",
       "      <td>0</td>\n",
       "      <td>0</td>\n",
       "    </tr>\n",
       "    <tr>\n",
       "      <th>346</th>\n",
       "      <td>1</td>\n",
       "      <td>1</td>\n",
       "    </tr>\n",
       "    <tr>\n",
       "      <th>168</th>\n",
       "      <td>2</td>\n",
       "      <td>2</td>\n",
       "    </tr>\n",
       "    <tr>\n",
       "      <th>650</th>\n",
       "      <td>2</td>\n",
       "      <td>2</td>\n",
       "    </tr>\n",
       "    <tr>\n",
       "      <th>774</th>\n",
       "      <td>0</td>\n",
       "      <td>0</td>\n",
       "    </tr>\n",
       "    <tr>\n",
       "      <th>261</th>\n",
       "      <td>2</td>\n",
       "      <td>0</td>\n",
       "    </tr>\n",
       "  </tbody>\n",
       "</table>\n",
       "</div>"
      ],
      "text/plain": [
       "     Actual  Predicted\n",
       "971       0          0\n",
       "280       2          0\n",
       "536       0          0\n",
       "824       0          0\n",
       "644       0          0\n",
       "777       0          0\n",
       "978       2          2\n",
       "231       0          0\n",
       "660       1          1\n",
       "548       0          0\n",
       "346       1          1\n",
       "168       2          2\n",
       "650       2          2\n",
       "774       0          0\n",
       "261       2          0"
      ]
     },
     "execution_count": 126,
     "metadata": {},
     "output_type": "execute_result"
    }
   ],
   "source": [
    "df=pd.DataFrame({'Actual':y_test, 'Predicted':svm_pred})[:15]\n",
    "df"
   ]
  },
  {
   "cell_type": "code",
   "execution_count": 127,
   "id": "72207c38",
   "metadata": {},
   "outputs": [
    {
     "data": {
      "image/png": "[encoded data removed]",
      "text/plain": [
       "<Figure size 1080x432 with 2 Axes>"
      ]
     },
     "metadata": {},
     "output_type": "display_data"
    }
   ],
   "source": [
    "svm_cm = confusion_matrix(y_test, svm_pred, labels= svm_model.classes_)\n",
    "svm_disp = ConfusionMatrixDisplay(confusion_matrix=svm_cm, display_labels=svm_model.classes_)\n",
    "svm_disp.plot()\n",
    "\n",
    "plt.show()"
   ]
  },
  {
   "cell_type": "code",
   "execution_count": 128,
   "id": "68b875c3",
   "metadata": {},
   "outputs": [
    {
     "name": "stdout",
     "output_type": "stream",
     "text": [
      "Accuracy: 0.7368421052631579\n"
     ]
    },
    {
     "data": {
      "text/plain": [
       "array([[98,  3,  5],\n",
       "       [12, 31,  0],\n",
       "       [35,  0, 25]], dtype=int64)"
      ]
     },
     "execution_count": 128,
     "metadata": {},
     "output_type": "execute_result"
    }
   ],
   "source": [
    "from sklearn.metrics import accuracy_score\n",
    "print(\"Accuracy:\",accuracy_score(y_test, svm_pred))\n",
    "pd.crosstab(y_test,svm_pred)\n",
    "\n",
    "svm_cm= confusion_matrix(y_test,svm_pred)\n",
    "\n",
    "svm_cm\n"
   ]
  },
  {
   "cell_type": "code",
   "execution_count": 129,
   "id": "dd49c8f3",
   "metadata": {},
   "outputs": [
    {
     "name": "stdout",
     "output_type": "stream",
     "text": [
      "              precision    recall  f1-score   support\n",
      "\n",
      "           0       0.68      0.92      0.78       106\n",
      "           1       0.91      0.72      0.81        43\n",
      "           2       0.83      0.42      0.56        60\n",
      "\n",
      "    accuracy                           0.74       209\n",
      "   macro avg       0.81      0.69      0.71       209\n",
      "weighted avg       0.77      0.74      0.72       209\n",
      "\n"
     ]
    }
   ],
   "source": [
    "print(classification_report(y_test, svm_pred))\n",
    "#recall is the accuracy of each metrics of 0,1,2"
   ]
  },
  {
   "cell_type": "code",
   "execution_count": null,
   "id": "ac025da5",
   "metadata": {},
   "outputs": [],
   "source": []
  },
  {
   "cell_type": "markdown",
   "id": "0cb81861",
   "metadata": {},
   "source": [
    "### 9. Fitting a Multi-Layer-Preceptron Neural Networks on an Imbalance dataset"
   ]
  },
  {
   "cell_type": "code",
   "execution_count": 130,
   "id": "cf238b9c",
   "metadata": {},
   "outputs": [
    {
     "name": "stdout",
     "output_type": "stream",
     "text": [
      "0.7894736842105263\n"
     ]
    }
   ],
   "source": [
    "from sklearn.neural_network import MLPClassifier\n",
    "\n",
    "\n",
    "mlp_model = MLPClassifier(random_state = 42, hidden_layer_sizes=(150,100,50), activation='relu', solver='adam', max_iter=500)\n",
    "\n",
    "mlp_model.fit(x_train,y_train)\n",
    "\n",
    "mlp_pred = mlp_model.predict(x_test)\n",
    "\n",
    "print(mlp_model.score(x_test, y_test))"
   ]
  },
  {
   "cell_type": "code",
   "execution_count": 131,
   "id": "5ea63da0",
   "metadata": {},
   "outputs": [
    {
     "data": {
      "text/html": [
       "<div>\n",
       "<style scoped>\n",
       "    .dataframe tbody tr th:only-of-type {\n",
       "        vertical-align: middle;\n",
       "    }\n",
       "\n",
       "    .dataframe tbody tr th {\n",
       "        vertical-align: top;\n",
       "    }\n",
       "\n",
       "    .dataframe thead th {\n",
       "        text-align: right;\n",
       "    }\n",
       "</style>\n",
       "<table border=\"1\" class=\"dataframe\">\n",
       "  <thead>\n",
       "    <tr style=\"text-align: right;\">\n",
       "      <th></th>\n",
       "      <th>Actual</th>\n",
       "      <th>Predicted</th>\n",
       "    </tr>\n",
       "  </thead>\n",
       "  <tbody>\n",
       "    <tr>\n",
       "      <th>971</th>\n",
       "      <td>0</td>\n",
       "      <td>0</td>\n",
       "    </tr>\n",
       "    <tr>\n",
       "      <th>280</th>\n",
       "      <td>2</td>\n",
       "      <td>0</td>\n",
       "    </tr>\n",
       "    <tr>\n",
       "      <th>536</th>\n",
       "      <td>0</td>\n",
       "      <td>0</td>\n",
       "    </tr>\n",
       "    <tr>\n",
       "      <th>824</th>\n",
       "      <td>0</td>\n",
       "      <td>0</td>\n",
       "    </tr>\n",
       "    <tr>\n",
       "      <th>644</th>\n",
       "      <td>0</td>\n",
       "      <td>0</td>\n",
       "    </tr>\n",
       "    <tr>\n",
       "      <th>777</th>\n",
       "      <td>0</td>\n",
       "      <td>0</td>\n",
       "    </tr>\n",
       "    <tr>\n",
       "      <th>978</th>\n",
       "      <td>2</td>\n",
       "      <td>2</td>\n",
       "    </tr>\n",
       "    <tr>\n",
       "      <th>231</th>\n",
       "      <td>0</td>\n",
       "      <td>0</td>\n",
       "    </tr>\n",
       "    <tr>\n",
       "      <th>660</th>\n",
       "      <td>1</td>\n",
       "      <td>0</td>\n",
       "    </tr>\n",
       "    <tr>\n",
       "      <th>548</th>\n",
       "      <td>0</td>\n",
       "      <td>0</td>\n",
       "    </tr>\n",
       "    <tr>\n",
       "      <th>346</th>\n",
       "      <td>1</td>\n",
       "      <td>1</td>\n",
       "    </tr>\n",
       "    <tr>\n",
       "      <th>168</th>\n",
       "      <td>2</td>\n",
       "      <td>2</td>\n",
       "    </tr>\n",
       "    <tr>\n",
       "      <th>650</th>\n",
       "      <td>2</td>\n",
       "      <td>2</td>\n",
       "    </tr>\n",
       "    <tr>\n",
       "      <th>774</th>\n",
       "      <td>0</td>\n",
       "      <td>0</td>\n",
       "    </tr>\n",
       "    <tr>\n",
       "      <th>261</th>\n",
       "      <td>2</td>\n",
       "      <td>2</td>\n",
       "    </tr>\n",
       "  </tbody>\n",
       "</table>\n",
       "</div>"
      ],
      "text/plain": [
       "     Actual  Predicted\n",
       "971       0          0\n",
       "280       2          0\n",
       "536       0          0\n",
       "824       0          0\n",
       "644       0          0\n",
       "777       0          0\n",
       "978       2          2\n",
       "231       0          0\n",
       "660       1          0\n",
       "548       0          0\n",
       "346       1          1\n",
       "168       2          2\n",
       "650       2          2\n",
       "774       0          0\n",
       "261       2          2"
      ]
     },
     "execution_count": 131,
     "metadata": {},
     "output_type": "execute_result"
    }
   ],
   "source": [
    "df=pd.DataFrame({'Actual':y_test, 'Predicted':mlp_pred})[:15]\n",
    "df"
   ]
  },
  {
   "cell_type": "code",
   "execution_count": 132,
   "id": "6a0eb3f3",
   "metadata": {},
   "outputs": [
    {
     "name": "stdout",
     "output_type": "stream",
     "text": [
      "[[98  4  4]\n",
      " [10 33  0]\n",
      " [26  0 34]]\n",
      "              precision    recall  f1-score   support\n",
      "\n",
      "           0       0.73      0.92      0.82       106\n",
      "           1       0.89      0.77      0.82        43\n",
      "           2       0.89      0.57      0.69        60\n",
      "\n",
      "    accuracy                           0.79       209\n",
      "   macro avg       0.84      0.75      0.78       209\n",
      "weighted avg       0.81      0.79      0.78       209\n",
      "\n"
     ]
    }
   ],
   "source": [
    "from sklearn.metrics import classification_report,confusion_matrix\n",
    "\n",
    "print(confusion_matrix(y_test,mlp_pred))\n",
    "\n",
    "print(classification_report(y_test,mlp_pred))"
   ]
  },
  {
   "cell_type": "code",
   "execution_count": 133,
   "id": "44bd9300",
   "metadata": {},
   "outputs": [
    {
     "data": {
      "image/png": "[encoded data removed]",
      "text/plain": [
       "<Figure size 1080x432 with 2 Axes>"
      ]
     },
     "metadata": {},
     "output_type": "display_data"
    }
   ],
   "source": [
    "from sklearn.metrics import confusion_matrix, ConfusionMatrixDisplay\n",
    "\n",
    "cm = confusion_matrix(y_test, mlp_pred, labels=mlp_model.classes_)\n",
    "disp = ConfusionMatrixDisplay(confusion_matrix=cm, display_labels=mlp_model.classes_)\n",
    "disp.plot()\n",
    "\n",
    "plt.show()"
   ]
  },
  {
   "cell_type": "markdown",
   "id": "2aac4c6a",
   "metadata": {},
   "source": [
    "## 10. Solve Imbalance Dataset "
   ]
  },
  {
   "cell_type": "markdown",
   "id": "f9298427",
   "metadata": {},
   "source": [
    "### Using SMOTE - Synthetic Minority Oversampling Technique"
   ]
  },
  {
   "cell_type": "code",
   "execution_count": 134,
   "id": "6eb58447",
   "metadata": {
    "collapsed": true
   },
   "outputs": [
    {
     "name": "stdout",
     "output_type": "stream",
     "text": [
      "Requirement already satisfied: imblearn in c:\\users\\d.b.i\\anaconda3\\lib\\site-packages (0.0)\n",
      "Requirement already satisfied: imbalanced-learn in c:\\users\\d.b.i\\anaconda3\\lib\\site-packages (from imblearn) (0.9.0)\n",
      "Requirement already satisfied: threadpoolctl>=2.0.0 in c:\\users\\d.b.i\\anaconda3\\lib\\site-packages (from imbalanced-learn->imblearn) (2.2.0)\n",
      "Requirement already satisfied: scikit-learn>=1.0.1 in c:\\users\\d.b.i\\anaconda3\\lib\\site-packages (from imbalanced-learn->imblearn) (1.0.2)\n",
      "Requirement already satisfied: numpy>=1.14.6 in c:\\users\\d.b.i\\anaconda3\\lib\\site-packages (from imbalanced-learn->imblearn) (1.20.3)\n",
      "Requirement already satisfied: scipy>=1.1.0 in c:\\users\\d.b.i\\anaconda3\\lib\\site-packages (from imbalanced-learn->imblearn) (1.7.1)\n",
      "Requirement already satisfied: joblib>=0.11 in c:\\users\\d.b.i\\anaconda3\\lib\\site-packages (from imbalanced-learn->imblearn) (1.1.0)\n"
     ]
    },
    {
     "name": "stderr",
     "output_type": "stream",
     "text": [
      "WARNING: You are using pip version 22.0.4; however, version 22.1 is available.\n",
      "You should consider upgrading via the 'C:\\Users\\D.B.I\\anaconda3\\python.exe -m pip install --upgrade pip' command.\n"
     ]
    }
   ],
   "source": [
    "#install the smote package \n",
    "!pip install imblearn --user\n",
    "#or\n",
    "#!pip install imbalanced-learn --user\n",
    "\n",
    "output = None"
   ]
  },
  {
   "cell_type": "code",
   "execution_count": 135,
   "id": "0897666f",
   "metadata": {},
   "outputs": [],
   "source": [
    "#import SMOTE package\n",
    "from imblearn.over_sampling import SMOTE\n",
    "smote = SMOTE(random_state=42)\n",
    "\n",
    "#tranform the traning data only\n",
    "#assigning flaot to x_train bcos we want it as a contineous value\n",
    "\n",
    "x_train_smote, y_train_smote = smote.fit_resample(x_train.astype('float'), y_train)\n"
   ]
  },
  {
   "cell_type": "code",
   "execution_count": 136,
   "id": "ab776e53",
   "metadata": {},
   "outputs": [
    {
     "name": "stdout",
     "output_type": "stream",
     "text": [
      "Before SMOTE: Counter({0: 504, 2: 170, 1: 161})\n",
      "After SMOTE: Counter({0: 504, 2: 504, 1: 504})\n",
      "0    504\n",
      "2    504\n",
      "1    504\n",
      "Name: final_grade, dtype: int64\n"
     ]
    }
   ],
   "source": [
    "#to import class counter\n",
    "from collections import Counter\n",
    "print(\"Before SMOTE:\" ,Counter(y_train) )\n",
    "print(\"After SMOTE:\" ,Counter(y_train_smote) )\n",
    "print(y_train_smote.value_counts())"
   ]
  },
  {
   "cell_type": "code",
   "execution_count": 137,
   "id": "1cd1e993",
   "metadata": {},
   "outputs": [
    {
     "data": {
      "image/png": "[encoded data removed]",
      "text/plain": [
       "<Figure size 720x432 with 1 Axes>"
      ]
     },
     "metadata": {},
     "output_type": "display_data"
    }
   ],
   "source": [
    "plt.rcParams[\"figure.figsize\"] = (10,6)\n",
    "unique_elements, counts_elements = np.unique(y_train_smote,return_counts = True)\n",
    "fig1, ax1 = plt.subplots()\n",
    "ax1.pie(counts_elements, labels = unique_elements, autopct='%.1f%%', shadow =True, startangle=90, textprops = {'fontsize': 18})\n",
    "plt.show()\n"
   ]
  },
  {
   "cell_type": "markdown",
   "id": "873b3f9c",
   "metadata": {},
   "source": [
    "## Solve imbalance dataset using ADASYN - Adaptive Synthetic Sampling"
   ]
  },
  {
   "cell_type": "code",
   "execution_count": 138,
   "id": "40c93949",
   "metadata": {},
   "outputs": [],
   "source": [
    "#import ADASYN package\n",
    "from imblearn.over_sampling import ADASYN \n",
    "adasyn = ADASYN(random_state=42)\n",
    "\n",
    "#tranform the traning data only\n",
    "#assigning flaot to x_train bcos we want it as a contineous value\n",
    "\n",
    "x_train_adasyn, y_train_adasyn = adasyn.fit_resample(x_train.astype('float'), y_train)\n"
   ]
  },
  {
   "cell_type": "code",
   "execution_count": 139,
   "id": "67ff5c30",
   "metadata": {},
   "outputs": [
    {
     "name": "stdout",
     "output_type": "stream",
     "text": [
      "Before ADASYN: Counter({0: 504, 2: 170, 1: 161})\n",
      "After ADASYN: Counter({1: 517, 0: 504, 2: 488})\n"
     ]
    }
   ],
   "source": [
    "#to import class counter\n",
    "from collections import Counter\n",
    "print(\"Before ADASYN:\" ,Counter(y_train) )\n",
    "print(\"After ADASYN:\" ,Counter(y_train_adasyn) )"
   ]
  },
  {
   "cell_type": "code",
   "execution_count": 140,
   "id": "46301d5f",
   "metadata": {},
   "outputs": [
    {
     "data": {
      "image/png": "[encoded data removed]",
      "text/plain": [
       "<Figure size 432x432 with 1 Axes>"
      ]
     },
     "metadata": {},
     "output_type": "display_data"
    }
   ],
   "source": [
    "plt.rcParams[\"figure.figsize\"] = (6,6)\n",
    "unique_elements, counts_elements = np.unique(y_train_adasyn,return_counts = True)\n",
    "fig1, ax1 = plt.subplots()\n",
    "ax1.pie(counts_elements, labels = unique_elements, autopct='%.1f%%', shadow =True, startangle=90, textprops = {'fontsize': 18})\n",
    "plt.show()"
   ]
  },
  {
   "cell_type": "code",
   "execution_count": null,
   "id": "88d381f0",
   "metadata": {},
   "outputs": [],
   "source": []
  },
  {
   "cell_type": "markdown",
   "id": "bbdb74bd",
   "metadata": {},
   "source": [
    "## SMOTE "
   ]
  },
  {
   "cell_type": "markdown",
   "id": "c8b3d1d7",
   "metadata": {},
   "source": [
    "### 11. Refitting Random Forest Classifier With SMOTE "
   ]
  },
  {
   "cell_type": "code",
   "execution_count": 141,
   "id": "cf9827ae",
   "metadata": {},
   "outputs": [
    {
     "name": "stdout",
     "output_type": "stream",
     "text": [
      "0.8325358851674641\n"
     ]
    },
    {
     "data": {
      "text/html": [
       "<div>\n",
       "<style scoped>\n",
       "    .dataframe tbody tr th:only-of-type {\n",
       "        vertical-align: middle;\n",
       "    }\n",
       "\n",
       "    .dataframe tbody tr th {\n",
       "        vertical-align: top;\n",
       "    }\n",
       "\n",
       "    .dataframe thead th {\n",
       "        text-align: right;\n",
       "    }\n",
       "</style>\n",
       "<table border=\"1\" class=\"dataframe\">\n",
       "  <thead>\n",
       "    <tr style=\"text-align: right;\">\n",
       "      <th>col_0</th>\n",
       "      <th>0</th>\n",
       "      <th>1</th>\n",
       "      <th>2</th>\n",
       "    </tr>\n",
       "    <tr>\n",
       "      <th>final_grade</th>\n",
       "      <th></th>\n",
       "      <th></th>\n",
       "      <th></th>\n",
       "    </tr>\n",
       "  </thead>\n",
       "  <tbody>\n",
       "    <tr>\n",
       "      <th>0</th>\n",
       "      <td>85</td>\n",
       "      <td>6</td>\n",
       "      <td>15</td>\n",
       "    </tr>\n",
       "    <tr>\n",
       "      <th>1</th>\n",
       "      <td>1</td>\n",
       "      <td>42</td>\n",
       "      <td>0</td>\n",
       "    </tr>\n",
       "    <tr>\n",
       "      <th>2</th>\n",
       "      <td>13</td>\n",
       "      <td>0</td>\n",
       "      <td>47</td>\n",
       "    </tr>\n",
       "  </tbody>\n",
       "</table>\n",
       "</div>"
      ],
      "text/plain": [
       "col_0         0   1   2\n",
       "final_grade            \n",
       "0            85   6  15\n",
       "1             1  42   0\n",
       "2            13   0  47"
      ]
     },
     "execution_count": 141,
     "metadata": {},
     "output_type": "execute_result"
    }
   ],
   "source": [
    "#Refitting the balance SMOTE on the random forest classifier \n",
    "\n",
    "rf_model.fit(x_train_smote, y_train_smote)\n",
    "rf_pred = rf_model.predict(x_test)\n",
    "print(accuracy_score(y_test, rf_pred))\n",
    "pd.crosstab(y_test,rf_pred)"
   ]
  },
  {
   "cell_type": "code",
   "execution_count": 142,
   "id": "a40d0f8f",
   "metadata": {},
   "outputs": [
    {
     "data": {
      "text/plain": [
       "array([0, 2, 0, 0, 0, 0, 2, 0, 1, 0])"
      ]
     },
     "execution_count": 142,
     "metadata": {},
     "output_type": "execute_result"
    }
   ],
   "source": [
    "rf_pred[:10]"
   ]
  },
  {
   "cell_type": "code",
   "execution_count": 143,
   "id": "c5bc1ad4",
   "metadata": {},
   "outputs": [
    {
     "data": {
      "text/plain": [
       "971    0\n",
       "280    2\n",
       "536    0\n",
       "824    0\n",
       "644    0\n",
       "777    0\n",
       "978    2\n",
       "231    0\n",
       "660    1\n",
       "548    0\n",
       "Name: final_grade, dtype: int32"
      ]
     },
     "execution_count": 143,
     "metadata": {},
     "output_type": "execute_result"
    }
   ],
   "source": [
    "y_test[:10]"
   ]
  },
  {
   "cell_type": "code",
   "execution_count": 144,
   "id": "4589cf3e",
   "metadata": {
    "scrolled": true
   },
   "outputs": [
    {
     "data": {
      "text/html": [
       "<div>\n",
       "<style scoped>\n",
       "    .dataframe tbody tr th:only-of-type {\n",
       "        vertical-align: middle;\n",
       "    }\n",
       "\n",
       "    .dataframe tbody tr th {\n",
       "        vertical-align: top;\n",
       "    }\n",
       "\n",
       "    .dataframe thead th {\n",
       "        text-align: right;\n",
       "    }\n",
       "</style>\n",
       "<table border=\"1\" class=\"dataframe\">\n",
       "  <thead>\n",
       "    <tr style=\"text-align: right;\">\n",
       "      <th></th>\n",
       "      <th>Actual</th>\n",
       "      <th>Predicted</th>\n",
       "    </tr>\n",
       "  </thead>\n",
       "  <tbody>\n",
       "    <tr>\n",
       "      <th>971</th>\n",
       "      <td>0</td>\n",
       "      <td>0</td>\n",
       "    </tr>\n",
       "    <tr>\n",
       "      <th>280</th>\n",
       "      <td>2</td>\n",
       "      <td>2</td>\n",
       "    </tr>\n",
       "    <tr>\n",
       "      <th>536</th>\n",
       "      <td>0</td>\n",
       "      <td>0</td>\n",
       "    </tr>\n",
       "    <tr>\n",
       "      <th>824</th>\n",
       "      <td>0</td>\n",
       "      <td>0</td>\n",
       "    </tr>\n",
       "    <tr>\n",
       "      <th>644</th>\n",
       "      <td>0</td>\n",
       "      <td>0</td>\n",
       "    </tr>\n",
       "    <tr>\n",
       "      <th>777</th>\n",
       "      <td>0</td>\n",
       "      <td>0</td>\n",
       "    </tr>\n",
       "    <tr>\n",
       "      <th>978</th>\n",
       "      <td>2</td>\n",
       "      <td>2</td>\n",
       "    </tr>\n",
       "    <tr>\n",
       "      <th>231</th>\n",
       "      <td>0</td>\n",
       "      <td>0</td>\n",
       "    </tr>\n",
       "    <tr>\n",
       "      <th>660</th>\n",
       "      <td>1</td>\n",
       "      <td>1</td>\n",
       "    </tr>\n",
       "    <tr>\n",
       "      <th>548</th>\n",
       "      <td>0</td>\n",
       "      <td>0</td>\n",
       "    </tr>\n",
       "  </tbody>\n",
       "</table>\n",
       "</div>"
      ],
      "text/plain": [
       "     Actual  Predicted\n",
       "971       0          0\n",
       "280       2          2\n",
       "536       0          0\n",
       "824       0          0\n",
       "644       0          0\n",
       "777       0          0\n",
       "978       2          2\n",
       "231       0          0\n",
       "660       1          1\n",
       "548       0          0"
      ]
     },
     "execution_count": 144,
     "metadata": {},
     "output_type": "execute_result"
    }
   ],
   "source": [
    "smoterf=pd.DataFrame({'Actual':y_test, 'Predicted':rf_pred})[:10]\n",
    "smoterf"
   ]
  },
  {
   "cell_type": "markdown",
   "id": "ce9a5a08",
   "metadata": {},
   "source": [
    "### Random Forest Classifier Model Evaluation With SMOTE Technique"
   ]
  },
  {
   "cell_type": "code",
   "execution_count": 145,
   "id": "c70329fe",
   "metadata": {},
   "outputs": [],
   "source": [
    "from sklearn.metrics import confusion_matrix, classification_report"
   ]
  },
  {
   "cell_type": "code",
   "execution_count": 146,
   "id": "8ae9035e",
   "metadata": {},
   "outputs": [
    {
     "name": "stdout",
     "output_type": "stream",
     "text": [
      "[[85  6 15]\n",
      " [ 1 42  0]\n",
      " [13  0 47]]\n"
     ]
    }
   ],
   "source": [
    "#confusion metrics\n",
    "print(confusion_matrix(y_test, rf_pred))"
   ]
  },
  {
   "cell_type": "code",
   "execution_count": 147,
   "id": "e8ea12c5",
   "metadata": {},
   "outputs": [
    {
     "name": "stdout",
     "output_type": "stream",
     "text": [
      "[0 1 2] [106  43  60]\n"
     ]
    }
   ],
   "source": [
    "unique_element, counts_elements = np.unique(y_test, return_counts = True)\n",
    "print(unique_elements, counts_elements)"
   ]
  },
  {
   "cell_type": "code",
   "execution_count": 148,
   "id": "10940e71",
   "metadata": {
    "scrolled": true
   },
   "outputs": [
    {
     "data": {
      "image/png": "[encoded data removed]",
      "text/plain": [
       "<Figure size 432x432 with 2 Axes>"
      ]
     },
     "metadata": {},
     "output_type": "display_data"
    }
   ],
   "source": [
    "from sklearn.metrics import confusion_matrix, ConfusionMatrixDisplay\n",
    "\n",
    "cm = confusion_matrix(y_test, rf_pred, labels=rf_model.classes_)\n",
    "disp = ConfusionMatrixDisplay(confusion_matrix=cm, display_labels=rf_model.classes_)\n",
    "disp.plot()\n",
    "\n",
    "plt.show()"
   ]
  },
  {
   "cell_type": "code",
   "execution_count": 149,
   "id": "36df7665",
   "metadata": {},
   "outputs": [
    {
     "name": "stdout",
     "output_type": "stream",
     "text": [
      "              precision    recall  f1-score   support\n",
      "\n",
      "           0       0.86      0.80      0.83       106\n",
      "           1       0.88      0.98      0.92        43\n",
      "           2       0.76      0.78      0.77        60\n",
      "\n",
      "    accuracy                           0.83       209\n",
      "   macro avg       0.83      0.85      0.84       209\n",
      "weighted avg       0.83      0.83      0.83       209\n",
      "\n"
     ]
    }
   ],
   "source": [
    "print(classification_report(y_test, rf_pred))\n",
    "\n",
    "#recall is the accuracy of each metrics of 0,1,2"
   ]
  },
  {
   "cell_type": "markdown",
   "id": "32877d57",
   "metadata": {},
   "source": [
    "#### Parameter Optimization for Random Forest Classifier with GridSearchCV (SMOTE)"
   ]
  },
  {
   "cell_type": "code",
   "execution_count": 150,
   "id": "af5d90a9",
   "metadata": {},
   "outputs": [],
   "source": [
    "from sklearn.model_selection import GridSearchCV\n",
    "n_estimators_list = [130,160,190]\n",
    "# Number of features to consider at every split\n",
    "max_features = ['auto', 'sqrt']\n",
    "# Maximum number of levels in tree\n",
    "max_depth = [35,55]\n",
    "# Minimum number of samples required to split a node\n",
    "min_samples_split = [0.001, 0.005]\n",
    "# Minimum number of samples required at each leaf node\n",
    "min_samples_leaf = [0.001, 0.005]\n",
    "# Method of selecting samples for training each tree\n",
    "bootstrap = [True, False]"
   ]
  },
  {
   "cell_type": "code",
   "execution_count": 151,
   "id": "0bef07a4",
   "metadata": {},
   "outputs": [
    {
     "name": "stdout",
     "output_type": "stream",
     "text": [
      "{'n_estimators': [130, 160, 190], 'max_features': ['auto', 'sqrt'], 'max_depth': [35, 55], 'min_samples_split': [0.001, 0.005], 'min_samples_leaf': [0.001, 0.005], 'bootstrap': [True, False]}\n"
     ]
    }
   ],
   "source": [
    "param_grid = {'n_estimators': n_estimators_list,\n",
    "               'max_features': max_features,\n",
    "               'max_depth': max_depth,\n",
    "               'min_samples_split': min_samples_split,\n",
    "               'min_samples_leaf': min_samples_leaf,\n",
    "               'bootstrap': bootstrap}\n",
    "\n",
    "print(param_grid)   "
   ]
  },
  {
   "cell_type": "code",
   "execution_count": 152,
   "id": "f2af913d",
   "metadata": {},
   "outputs": [],
   "source": [
    "from sklearn.model_selection import GridSearchCV\n",
    "rf_grid = GridSearchCV(estimator = rf_model, param_grid = param_grid, cv = 5, verbose = 2, n_jobs = 4,return_train_score = True)\n"
   ]
  },
  {
   "cell_type": "code",
   "execution_count": 153,
   "id": "dd352b5f",
   "metadata": {},
   "outputs": [
    {
     "name": "stdout",
     "output_type": "stream",
     "text": [
      "Fitting 5 folds for each of 96 candidates, totalling 480 fits\n"
     ]
    },
    {
     "data": {
      "text/plain": [
       "GridSearchCV(cv=5, estimator=RandomForestClassifier(random_state=42), n_jobs=4,\n",
       "             param_grid={'bootstrap': [True, False], 'max_depth': [35, 55],\n",
       "                         'max_features': ['auto', 'sqrt'],\n",
       "                         'min_samples_leaf': [0.001, 0.005],\n",
       "                         'min_samples_split': [0.001, 0.005],\n",
       "                         'n_estimators': [130, 160, 190]},\n",
       "             return_train_score=True, verbose=2)"
      ]
     },
     "execution_count": 153,
     "metadata": {},
     "output_type": "execute_result"
    }
   ],
   "source": [
    "rf_grid.fit(x_train_smote, y_train_smote)"
   ]
  },
  {
   "cell_type": "code",
   "execution_count": 154,
   "id": "9d5a9448",
   "metadata": {},
   "outputs": [],
   "source": [
    "rf_smote_pred = rf_grid.predict(x_test)"
   ]
  },
  {
   "cell_type": "code",
   "execution_count": 218,
   "id": "d26d7891",
   "metadata": {},
   "outputs": [
    {
     "data": {
      "text/plain": [
       "{'bootstrap': False,\n",
       " 'max_depth': 35,\n",
       " 'max_features': 'auto',\n",
       " 'min_samples_leaf': 0.001,\n",
       " 'min_samples_split': 0.001,\n",
       " 'n_estimators': 160}"
      ]
     },
     "execution_count": 218,
     "metadata": {},
     "output_type": "execute_result"
    }
   ],
   "source": [
    "rf_grid.best_params_"
   ]
  },
  {
   "cell_type": "code",
   "execution_count": 90,
   "id": "39ff9036",
   "metadata": {},
   "outputs": [
    {
     "data": {
      "text/plain": [
       "0.9299543199353048"
      ]
     },
     "execution_count": 90,
     "metadata": {},
     "output_type": "execute_result"
    }
   ],
   "source": [
    "rf_grid.best_score_"
   ]
  },
  {
   "cell_type": "code",
   "execution_count": 219,
   "id": "0c33ca4b",
   "metadata": {},
   "outputs": [
    {
     "data": {
      "image/png": "[encoded data removed]",
      "text/plain": [
       "<Figure size 432x432 with 2 Axes>"
      ]
     },
     "metadata": {},
     "output_type": "display_data"
    },
    {
     "name": "stdout",
     "output_type": "stream",
     "text": [
      "              precision    recall  f1-score   support\n",
      "\n",
      "           0       0.87      0.74      0.80       106\n",
      "           1       0.78      0.98      0.87        43\n",
      "           2       0.75      0.82      0.78        60\n",
      "\n",
      "    accuracy                           0.81       209\n",
      "   macro avg       0.80      0.84      0.82       209\n",
      "weighted avg       0.82      0.81      0.81       209\n",
      "\n"
     ]
    }
   ],
   "source": [
    "\n",
    "cm = confusion_matrix(y_test, rf_smote_pred, labels=rf_model.classes_)\n",
    "disp = ConfusionMatrixDisplay(confusion_matrix=cm, display_labels=rf_model.classes_)\n",
    "disp.plot()\n",
    "\n",
    "plt.show()\n",
    "\n",
    "print(classification_report(y_test, rf_smote_pred))"
   ]
  },
  {
   "cell_type": "code",
   "execution_count": null,
   "id": "ceb58ee2",
   "metadata": {},
   "outputs": [],
   "source": []
  },
  {
   "cell_type": "markdown",
   "id": "b20ab612",
   "metadata": {},
   "source": [
    "### 12. Refitting Support Vector Machine on SMOTE "
   ]
  },
  {
   "cell_type": "code",
   "execution_count": 220,
   "id": "0434e44b",
   "metadata": {},
   "outputs": [
    {
     "name": "stdout",
     "output_type": "stream",
     "text": [
      "0.7942583732057417\n"
     ]
    },
    {
     "data": {
      "text/html": [
       "<div>\n",
       "<style scoped>\n",
       "    .dataframe tbody tr th:only-of-type {\n",
       "        vertical-align: middle;\n",
       "    }\n",
       "\n",
       "    .dataframe tbody tr th {\n",
       "        vertical-align: top;\n",
       "    }\n",
       "\n",
       "    .dataframe thead th {\n",
       "        text-align: right;\n",
       "    }\n",
       "</style>\n",
       "<table border=\"1\" class=\"dataframe\">\n",
       "  <thead>\n",
       "    <tr style=\"text-align: right;\">\n",
       "      <th>col_0</th>\n",
       "      <th>0</th>\n",
       "      <th>1</th>\n",
       "      <th>2</th>\n",
       "    </tr>\n",
       "    <tr>\n",
       "      <th>final_grade</th>\n",
       "      <th></th>\n",
       "      <th></th>\n",
       "      <th></th>\n",
       "    </tr>\n",
       "  </thead>\n",
       "  <tbody>\n",
       "    <tr>\n",
       "      <th>0</th>\n",
       "      <td>92</td>\n",
       "      <td>7</td>\n",
       "      <td>7</td>\n",
       "    </tr>\n",
       "    <tr>\n",
       "      <th>1</th>\n",
       "      <td>8</td>\n",
       "      <td>35</td>\n",
       "      <td>0</td>\n",
       "    </tr>\n",
       "    <tr>\n",
       "      <th>2</th>\n",
       "      <td>21</td>\n",
       "      <td>0</td>\n",
       "      <td>39</td>\n",
       "    </tr>\n",
       "  </tbody>\n",
       "</table>\n",
       "</div>"
      ],
      "text/plain": [
       "col_0         0   1   2\n",
       "final_grade            \n",
       "0            92   7   7\n",
       "1             8  35   0\n",
       "2            21   0  39"
      ]
     },
     "execution_count": 220,
     "metadata": {},
     "output_type": "execute_result"
    }
   ],
   "source": [
    "#Refitting the balance SMOTE on the random forest classifier \n",
    "\n",
    "svm_model.fit(x_train_smote, y_train_smote)\n",
    "svm_pred = svm_model.predict(x_test)\n",
    "print(accuracy_score(y_test, svm_pred))\n",
    "pd.crosstab(y_test,svm_pred)"
   ]
  },
  {
   "cell_type": "code",
   "execution_count": 221,
   "id": "a1f7e2df",
   "metadata": {},
   "outputs": [
    {
     "data": {
      "text/html": [
       "<div>\n",
       "<style scoped>\n",
       "    .dataframe tbody tr th:only-of-type {\n",
       "        vertical-align: middle;\n",
       "    }\n",
       "\n",
       "    .dataframe tbody tr th {\n",
       "        vertical-align: top;\n",
       "    }\n",
       "\n",
       "    .dataframe thead th {\n",
       "        text-align: right;\n",
       "    }\n",
       "</style>\n",
       "<table border=\"1\" class=\"dataframe\">\n",
       "  <thead>\n",
       "    <tr style=\"text-align: right;\">\n",
       "      <th></th>\n",
       "      <th>Actual</th>\n",
       "      <th>Predicted</th>\n",
       "    </tr>\n",
       "  </thead>\n",
       "  <tbody>\n",
       "    <tr>\n",
       "      <th>971</th>\n",
       "      <td>0</td>\n",
       "      <td>0</td>\n",
       "    </tr>\n",
       "    <tr>\n",
       "      <th>280</th>\n",
       "      <td>2</td>\n",
       "      <td>2</td>\n",
       "    </tr>\n",
       "    <tr>\n",
       "      <th>536</th>\n",
       "      <td>0</td>\n",
       "      <td>0</td>\n",
       "    </tr>\n",
       "    <tr>\n",
       "      <th>824</th>\n",
       "      <td>0</td>\n",
       "      <td>0</td>\n",
       "    </tr>\n",
       "    <tr>\n",
       "      <th>644</th>\n",
       "      <td>0</td>\n",
       "      <td>0</td>\n",
       "    </tr>\n",
       "    <tr>\n",
       "      <th>777</th>\n",
       "      <td>0</td>\n",
       "      <td>0</td>\n",
       "    </tr>\n",
       "    <tr>\n",
       "      <th>978</th>\n",
       "      <td>2</td>\n",
       "      <td>2</td>\n",
       "    </tr>\n",
       "    <tr>\n",
       "      <th>231</th>\n",
       "      <td>0</td>\n",
       "      <td>0</td>\n",
       "    </tr>\n",
       "    <tr>\n",
       "      <th>660</th>\n",
       "      <td>1</td>\n",
       "      <td>1</td>\n",
       "    </tr>\n",
       "    <tr>\n",
       "      <th>548</th>\n",
       "      <td>0</td>\n",
       "      <td>0</td>\n",
       "    </tr>\n",
       "  </tbody>\n",
       "</table>\n",
       "</div>"
      ],
      "text/plain": [
       "     Actual  Predicted\n",
       "971       0          0\n",
       "280       2          2\n",
       "536       0          0\n",
       "824       0          0\n",
       "644       0          0\n",
       "777       0          0\n",
       "978       2          2\n",
       "231       0          0\n",
       "660       1          1\n",
       "548       0          0"
      ]
     },
     "execution_count": 221,
     "metadata": {},
     "output_type": "execute_result"
    }
   ],
   "source": [
    "smotesvm=pd.DataFrame({'Actual':y_test, 'Predicted':svm_pred})[:10]\n",
    "smotesvm"
   ]
  },
  {
   "cell_type": "code",
   "execution_count": 222,
   "id": "b3eddd24",
   "metadata": {},
   "outputs": [
    {
     "name": "stdout",
     "output_type": "stream",
     "text": [
      "[[92  7  7]\n",
      " [ 8 35  0]\n",
      " [21  0 39]]\n"
     ]
    },
    {
     "data": {
      "image/png": "[encoded data removed]",
      "text/plain": [
       "<Figure size 432x432 with 2 Axes>"
      ]
     },
     "metadata": {},
     "output_type": "display_data"
    }
   ],
   "source": [
    "print(confusion_matrix(y_test, svm_pred))\n",
    "\n",
    "cm = confusion_matrix(y_test, svm_pred, labels=svm_model.classes_)\n",
    "disp = ConfusionMatrixDisplay(confusion_matrix=cm, display_labels=svm_model.classes_)\n",
    "disp.plot()\n",
    "\n",
    "plt.show()"
   ]
  },
  {
   "cell_type": "code",
   "execution_count": 223,
   "id": "3086d4ec",
   "metadata": {},
   "outputs": [
    {
     "name": "stdout",
     "output_type": "stream",
     "text": [
      "              precision    recall  f1-score   support\n",
      "\n",
      "           0       0.76      0.87      0.81       106\n",
      "           1       0.83      0.81      0.82        43\n",
      "           2       0.85      0.65      0.74        60\n",
      "\n",
      "    accuracy                           0.79       209\n",
      "   macro avg       0.81      0.78      0.79       209\n",
      "weighted avg       0.80      0.79      0.79       209\n",
      "\n"
     ]
    }
   ],
   "source": [
    "print(classification_report(y_test, svm_pred))"
   ]
  },
  {
   "cell_type": "code",
   "execution_count": null,
   "id": "27941f10",
   "metadata": {},
   "outputs": [],
   "source": []
  },
  {
   "cell_type": "markdown",
   "id": "aba8caf8",
   "metadata": {},
   "source": [
    "### Optimization Parameters with Cross Validation and GridSearchCV for SVM (SMOTE)"
   ]
  },
  {
   "cell_type": "code",
   "execution_count": 224,
   "id": "7c0dcf5d",
   "metadata": {},
   "outputs": [
    {
     "name": "stdout",
     "output_type": "stream",
     "text": [
      "{'C': 10, 'gamma': 0.01, 'kernel': 'rbf'}\n",
      "0.7990430622009569\n"
     ]
    }
   ],
   "source": [
    "svm_grid = [{'C':[0.5, 1, 10, 10],\n",
    "            'gamma': ['scale', 1, 0.1, 0.01, 0.001, 0.0001],\n",
    "            'kernel': ['rbf']},]\n",
    "\n",
    "svm_optimal_params = GridSearchCV(SVC(), svm_grid, cv=5, scoring = 'accuracy')\n",
    "\n",
    "svm_optimal_params.fit(x_train_smote, y_train_smote)\n",
    "print(svm_optimal_params.best_params_)\n",
    "print(svm_optimal_params.score(x_test, y_test))"
   ]
  },
  {
   "cell_type": "markdown",
   "id": "0d74a2dd",
   "metadata": {},
   "source": [
    "#### Building, Evaluating, Drawing and Interpreting the Final Support Vector Machine (SMOTE)"
   ]
  },
  {
   "cell_type": "code",
   "execution_count": 225,
   "id": "07605cb0",
   "metadata": {},
   "outputs": [
    {
     "data": {
      "text/plain": [
       "SVC(C=100, gamma=0.001, random_state=42)"
      ]
     },
     "execution_count": 225,
     "metadata": {},
     "output_type": "execute_result"
    }
   ],
   "source": [
    "svm_model = SVC(kernel='rbf',random_state = 42, C= 100, gamma = 0.001)\n",
    "svm_model.fit(x_train_smote, y_train_smote)"
   ]
  },
  {
   "cell_type": "code",
   "execution_count": 226,
   "id": "97cae129",
   "metadata": {},
   "outputs": [],
   "source": [
    "svm_grid_pred  = svm_optimal_params.predict(x_test)"
   ]
  },
  {
   "cell_type": "code",
   "execution_count": 227,
   "id": "6dff12cc",
   "metadata": {},
   "outputs": [
    {
     "data": {
      "image/png": "[encoded data removed]",
      "text/plain": [
       "<Figure size 432x432 with 2 Axes>"
      ]
     },
     "metadata": {},
     "output_type": "display_data"
    },
    {
     "name": "stdout",
     "output_type": "stream",
     "text": [
      "              precision    recall  f1-score   support\n",
      "\n",
      "           0       0.75      0.92      0.82       106\n",
      "           1       0.83      0.81      0.82        43\n",
      "           2       0.95      0.58      0.72        60\n",
      "\n",
      "    accuracy                           0.80       209\n",
      "   macro avg       0.84      0.77      0.79       209\n",
      "weighted avg       0.82      0.80      0.79       209\n",
      "\n"
     ]
    }
   ],
   "source": [
    "\n",
    "cm = confusion_matrix(y_test, svm_pred, labels=svm_model.classes_)\n",
    "disp = ConfusionMatrixDisplay(confusion_matrix=cm, display_labels=svm_model.classes_)\n",
    "disp.plot()\n",
    "\n",
    "plt.show()\n",
    "svm_optimal_params\n",
    "\n",
    "print(classification_report(y_test, svm_grid_pred))\n",
    "\n",
    "#recall is the accuracy of each metrics of 0,1,2"
   ]
  },
  {
   "cell_type": "markdown",
   "id": "c4567f4e",
   "metadata": {},
   "source": [
    "### Optimization Parameters with Cross Validation and RandomSearchCV for SVM (SMOTE)"
   ]
  },
  {
   "cell_type": "code",
   "execution_count": 99,
   "id": "e1a0f4ac",
   "metadata": {},
   "outputs": [],
   "source": [
    "svm_rdgrid = [{'C':[0.1, 1, 10, 100],\n",
    "            'gamma': [ 1, 0.1, 0.01, 0.001, 0.0001],\n",
    "            'kernel': ['rbf']},]\n",
    "\n",
    "svm_model = SVC(gamma = 'auto', random_state = 42)"
   ]
  },
  {
   "cell_type": "code",
   "execution_count": 100,
   "id": "7b393589",
   "metadata": {},
   "outputs": [
    {
     "name": "stdout",
     "output_type": "stream",
     "text": [
      "Fitting 5 folds for each of 10 candidates, totalling 50 fits\n",
      "{'kernel': 'rbf', 'gamma': 0.01, 'C': 100}\n",
      "0.9444408016960637\n"
     ]
    }
   ],
   "source": [
    "from sklearn.model_selection import RandomizedSearchCV\n",
    "\n",
    "svm_optimal_params = RandomizedSearchCV(estimator = svm_model,param_distributions = svm_rdgrid, cv=5, verbose = 2, n_jobs = 4, scoring = 'accuracy', random_state = 42)\n",
    "\n",
    "svm_optimal_params.fit(x_train_smote, y_train_smote)\n",
    "print(svm_optimal_params.best_params_)\n",
    "print(svm_optimal_params.best_score_)"
   ]
  },
  {
   "cell_type": "code",
   "execution_count": 101,
   "id": "78e92e27",
   "metadata": {},
   "outputs": [],
   "source": [
    "svm_ytest_pred  = svm_optimal_params.predict(x_test)"
   ]
  },
  {
   "cell_type": "code",
   "execution_count": 102,
   "id": "234f046a",
   "metadata": {},
   "outputs": [
    {
     "name": "stdout",
     "output_type": "stream",
     "text": [
      "Accuracy -:1.000\n"
     ]
    }
   ],
   "source": [
    "print(f'Accuracy -:{svm_optimal_params.score(x_test,svm_ytest_pred):.3f}')"
   ]
  },
  {
   "cell_type": "code",
   "execution_count": 103,
   "id": "60501dd6",
   "metadata": {},
   "outputs": [
    {
     "name": "stdout",
     "output_type": "stream",
     "text": [
      "              precision    recall  f1-score   support\n",
      "\n",
      "           0       0.77      0.92      0.84       106\n",
      "           1       0.86      0.84      0.85        43\n",
      "           2       0.95      0.63      0.76        60\n",
      "\n",
      "    accuracy                           0.82       209\n",
      "   macro avg       0.86      0.80      0.82       209\n",
      "weighted avg       0.84      0.82      0.82       209\n",
      "\n"
     ]
    }
   ],
   "source": [
    "print(classification_report(y_test, svm_ytest_pred))"
   ]
  },
  {
   "cell_type": "markdown",
   "id": "629e508f",
   "metadata": {},
   "source": [
    "### 13. Refitting Multi-Layer-Preceptron Neural Network on SMOTE  "
   ]
  },
  {
   "cell_type": "code",
   "execution_count": 228,
   "id": "a72c995f",
   "metadata": {},
   "outputs": [
    {
     "name": "stdout",
     "output_type": "stream",
     "text": [
      "0.7894736842105263\n"
     ]
    },
    {
     "data": {
      "text/html": [
       "<div>\n",
       "<style scoped>\n",
       "    .dataframe tbody tr th:only-of-type {\n",
       "        vertical-align: middle;\n",
       "    }\n",
       "\n",
       "    .dataframe tbody tr th {\n",
       "        vertical-align: top;\n",
       "    }\n",
       "\n",
       "    .dataframe thead th {\n",
       "        text-align: right;\n",
       "    }\n",
       "</style>\n",
       "<table border=\"1\" class=\"dataframe\">\n",
       "  <thead>\n",
       "    <tr style=\"text-align: right;\">\n",
       "      <th>col_0</th>\n",
       "      <th>0</th>\n",
       "      <th>1</th>\n",
       "      <th>2</th>\n",
       "    </tr>\n",
       "    <tr>\n",
       "      <th>final_grade</th>\n",
       "      <th></th>\n",
       "      <th></th>\n",
       "      <th></th>\n",
       "    </tr>\n",
       "  </thead>\n",
       "  <tbody>\n",
       "    <tr>\n",
       "      <th>0</th>\n",
       "      <td>94</td>\n",
       "      <td>7</td>\n",
       "      <td>5</td>\n",
       "    </tr>\n",
       "    <tr>\n",
       "      <th>1</th>\n",
       "      <td>8</td>\n",
       "      <td>35</td>\n",
       "      <td>0</td>\n",
       "    </tr>\n",
       "    <tr>\n",
       "      <th>2</th>\n",
       "      <td>24</td>\n",
       "      <td>0</td>\n",
       "      <td>36</td>\n",
       "    </tr>\n",
       "  </tbody>\n",
       "</table>\n",
       "</div>"
      ],
      "text/plain": [
       "col_0         0   1   2\n",
       "final_grade            \n",
       "0            94   7   5\n",
       "1             8  35   0\n",
       "2            24   0  36"
      ]
     },
     "execution_count": 228,
     "metadata": {},
     "output_type": "execute_result"
    }
   ],
   "source": [
    "\n",
    "mlp_model.fit(x_train_smote, y_train_smote)\n",
    "mlp_pred = mlp_model.predict(x_test)\n",
    "print(accuracy_score(y_test, mlp_pred))\n",
    "pd.crosstab(y_test,mlp_pred)"
   ]
  },
  {
   "cell_type": "code",
   "execution_count": 229,
   "id": "0edb5a23",
   "metadata": {},
   "outputs": [
    {
     "data": {
      "text/html": [
       "<div>\n",
       "<style scoped>\n",
       "    .dataframe tbody tr th:only-of-type {\n",
       "        vertical-align: middle;\n",
       "    }\n",
       "\n",
       "    .dataframe tbody tr th {\n",
       "        vertical-align: top;\n",
       "    }\n",
       "\n",
       "    .dataframe thead th {\n",
       "        text-align: right;\n",
       "    }\n",
       "</style>\n",
       "<table border=\"1\" class=\"dataframe\">\n",
       "  <thead>\n",
       "    <tr style=\"text-align: right;\">\n",
       "      <th></th>\n",
       "      <th>Actual</th>\n",
       "      <th>Predicted</th>\n",
       "    </tr>\n",
       "  </thead>\n",
       "  <tbody>\n",
       "    <tr>\n",
       "      <th>971</th>\n",
       "      <td>0</td>\n",
       "      <td>0</td>\n",
       "    </tr>\n",
       "    <tr>\n",
       "      <th>280</th>\n",
       "      <td>2</td>\n",
       "      <td>2</td>\n",
       "    </tr>\n",
       "    <tr>\n",
       "      <th>536</th>\n",
       "      <td>0</td>\n",
       "      <td>0</td>\n",
       "    </tr>\n",
       "    <tr>\n",
       "      <th>824</th>\n",
       "      <td>0</td>\n",
       "      <td>0</td>\n",
       "    </tr>\n",
       "    <tr>\n",
       "      <th>644</th>\n",
       "      <td>0</td>\n",
       "      <td>0</td>\n",
       "    </tr>\n",
       "    <tr>\n",
       "      <th>777</th>\n",
       "      <td>0</td>\n",
       "      <td>0</td>\n",
       "    </tr>\n",
       "    <tr>\n",
       "      <th>978</th>\n",
       "      <td>2</td>\n",
       "      <td>2</td>\n",
       "    </tr>\n",
       "    <tr>\n",
       "      <th>231</th>\n",
       "      <td>0</td>\n",
       "      <td>0</td>\n",
       "    </tr>\n",
       "    <tr>\n",
       "      <th>660</th>\n",
       "      <td>1</td>\n",
       "      <td>0</td>\n",
       "    </tr>\n",
       "    <tr>\n",
       "      <th>548</th>\n",
       "      <td>0</td>\n",
       "      <td>0</td>\n",
       "    </tr>\n",
       "  </tbody>\n",
       "</table>\n",
       "</div>"
      ],
      "text/plain": [
       "     Actual  Predicted\n",
       "971       0          0\n",
       "280       2          2\n",
       "536       0          0\n",
       "824       0          0\n",
       "644       0          0\n",
       "777       0          0\n",
       "978       2          2\n",
       "231       0          0\n",
       "660       1          0\n",
       "548       0          0"
      ]
     },
     "execution_count": 229,
     "metadata": {},
     "output_type": "execute_result"
    }
   ],
   "source": [
    "smotemlp=pd.DataFrame({'Actual':y_test, 'Predicted':mlp_pred})[:10]\n",
    "smotemlp"
   ]
  },
  {
   "cell_type": "code",
   "execution_count": 230,
   "id": "d1f39549",
   "metadata": {},
   "outputs": [
    {
     "name": "stdout",
     "output_type": "stream",
     "text": [
      "[[94  7  5]\n",
      " [ 8 35  0]\n",
      " [24  0 36]]\n"
     ]
    },
    {
     "data": {
      "image/png": "[encoded data removed]",
      "text/plain": [
       "<Figure size 432x432 with 2 Axes>"
      ]
     },
     "metadata": {},
     "output_type": "display_data"
    }
   ],
   "source": [
    "print(confusion_matrix(y_test, mlp_pred))\n",
    "\n",
    "cm = confusion_matrix(y_test, mlp_pred, labels=mlp_model.classes_)\n",
    "disp = ConfusionMatrixDisplay(confusion_matrix=cm, display_labels=mlp_model.classes_)\n",
    "disp.plot()\n",
    "\n",
    "plt.show()"
   ]
  },
  {
   "cell_type": "code",
   "execution_count": 107,
   "id": "9a053a2a",
   "metadata": {},
   "outputs": [
    {
     "name": "stdout",
     "output_type": "stream",
     "text": [
      "              precision    recall  f1-score   support\n",
      "\n",
      "           0       0.75      0.89      0.81       106\n",
      "           1       0.83      0.81      0.82        43\n",
      "           2       0.88      0.60      0.71        60\n",
      "\n",
      "    accuracy                           0.79       209\n",
      "   macro avg       0.82      0.77      0.78       209\n",
      "weighted avg       0.80      0.79      0.79       209\n",
      "\n"
     ]
    }
   ],
   "source": [
    "print(classification_report(y_test, mlp_pred))"
   ]
  },
  {
   "cell_type": "markdown",
   "id": "c7666df5",
   "metadata": {},
   "source": [
    "### Parameter Optimization for neural network  with Grid Search (SMOTE)"
   ]
  },
  {
   "cell_type": "code",
   "execution_count": 231,
   "id": "16c1d6fb",
   "metadata": {},
   "outputs": [],
   "source": [
    "from sklearn.model_selection import GridSearchCV\n",
    "from sklearn.neural_network import MLPClassifier\n",
    "\n",
    "mlp_model = MLPClassifier(random_state = 42)\n",
    "mlp_grid_value = {'max_iter' :[500, 1000, 2000], 'hidden_layer_sizes':[(2,), (3,), (10,), (20,)]}\n",
    "mlp_grid = GridSearchCV(mlp_model, param_grid = mlp_grid_value, scoring = 'accuracy', cv = 5)\n",
    "\n"
   ]
  },
  {
   "cell_type": "code",
   "execution_count": 232,
   "id": "204aa1b3",
   "metadata": {
    "scrolled": true
   },
   "outputs": [
    {
     "name": "stderr",
     "output_type": "stream",
     "text": [
      "C:\\Users\\D.B.I\\anaconda3\\lib\\site-packages\\sklearn\\neural_network\\_multilayer_perceptron.py:692: ConvergenceWarning: Stochastic Optimizer: Maximum iterations (500) reached and the optimization hasn't converged yet.\n",
      "  warnings.warn(\n",
      "C:\\Users\\D.B.I\\anaconda3\\lib\\site-packages\\sklearn\\neural_network\\_multilayer_perceptron.py:692: ConvergenceWarning: Stochastic Optimizer: Maximum iterations (500) reached and the optimization hasn't converged yet.\n",
      "  warnings.warn(\n",
      "C:\\Users\\D.B.I\\anaconda3\\lib\\site-packages\\sklearn\\neural_network\\_multilayer_perceptron.py:692: ConvergenceWarning: Stochastic Optimizer: Maximum iterations (500) reached and the optimization hasn't converged yet.\n",
      "  warnings.warn(\n",
      "C:\\Users\\D.B.I\\anaconda3\\lib\\site-packages\\sklearn\\neural_network\\_multilayer_perceptron.py:692: ConvergenceWarning: Stochastic Optimizer: Maximum iterations (500) reached and the optimization hasn't converged yet.\n",
      "  warnings.warn(\n",
      "C:\\Users\\D.B.I\\anaconda3\\lib\\site-packages\\sklearn\\neural_network\\_multilayer_perceptron.py:692: ConvergenceWarning: Stochastic Optimizer: Maximum iterations (500) reached and the optimization hasn't converged yet.\n",
      "  warnings.warn(\n",
      "C:\\Users\\D.B.I\\anaconda3\\lib\\site-packages\\sklearn\\neural_network\\_multilayer_perceptron.py:692: ConvergenceWarning: Stochastic Optimizer: Maximum iterations (500) reached and the optimization hasn't converged yet.\n",
      "  warnings.warn(\n",
      "C:\\Users\\D.B.I\\anaconda3\\lib\\site-packages\\sklearn\\neural_network\\_multilayer_perceptron.py:692: ConvergenceWarning: Stochastic Optimizer: Maximum iterations (500) reached and the optimization hasn't converged yet.\n",
      "  warnings.warn(\n",
      "C:\\Users\\D.B.I\\anaconda3\\lib\\site-packages\\sklearn\\neural_network\\_multilayer_perceptron.py:692: ConvergenceWarning: Stochastic Optimizer: Maximum iterations (500) reached and the optimization hasn't converged yet.\n",
      "  warnings.warn(\n",
      "C:\\Users\\D.B.I\\anaconda3\\lib\\site-packages\\sklearn\\neural_network\\_multilayer_perceptron.py:692: ConvergenceWarning: Stochastic Optimizer: Maximum iterations (500) reached and the optimization hasn't converged yet.\n",
      "  warnings.warn(\n",
      "C:\\Users\\D.B.I\\anaconda3\\lib\\site-packages\\sklearn\\neural_network\\_multilayer_perceptron.py:692: ConvergenceWarning: Stochastic Optimizer: Maximum iterations (500) reached and the optimization hasn't converged yet.\n",
      "  warnings.warn(\n",
      "C:\\Users\\D.B.I\\anaconda3\\lib\\site-packages\\sklearn\\neural_network\\_multilayer_perceptron.py:692: ConvergenceWarning: Stochastic Optimizer: Maximum iterations (500) reached and the optimization hasn't converged yet.\n",
      "  warnings.warn(\n",
      "C:\\Users\\D.B.I\\anaconda3\\lib\\site-packages\\sklearn\\neural_network\\_multilayer_perceptron.py:692: ConvergenceWarning: Stochastic Optimizer: Maximum iterations (500) reached and the optimization hasn't converged yet.\n",
      "  warnings.warn(\n",
      "C:\\Users\\D.B.I\\anaconda3\\lib\\site-packages\\sklearn\\neural_network\\_multilayer_perceptron.py:692: ConvergenceWarning: Stochastic Optimizer: Maximum iterations (500) reached and the optimization hasn't converged yet.\n",
      "  warnings.warn(\n",
      "C:\\Users\\D.B.I\\anaconda3\\lib\\site-packages\\sklearn\\neural_network\\_multilayer_perceptron.py:692: ConvergenceWarning: Stochastic Optimizer: Maximum iterations (500) reached and the optimization hasn't converged yet.\n",
      "  warnings.warn(\n",
      "C:\\Users\\D.B.I\\anaconda3\\lib\\site-packages\\sklearn\\neural_network\\_multilayer_perceptron.py:692: ConvergenceWarning: Stochastic Optimizer: Maximum iterations (500) reached and the optimization hasn't converged yet.\n",
      "  warnings.warn(\n",
      "C:\\Users\\D.B.I\\anaconda3\\lib\\site-packages\\sklearn\\neural_network\\_multilayer_perceptron.py:692: ConvergenceWarning: Stochastic Optimizer: Maximum iterations (500) reached and the optimization hasn't converged yet.\n",
      "  warnings.warn(\n",
      "C:\\Users\\D.B.I\\anaconda3\\lib\\site-packages\\sklearn\\neural_network\\_multilayer_perceptron.py:692: ConvergenceWarning: Stochastic Optimizer: Maximum iterations (500) reached and the optimization hasn't converged yet.\n",
      "  warnings.warn(\n",
      "C:\\Users\\D.B.I\\anaconda3\\lib\\site-packages\\sklearn\\neural_network\\_multilayer_perceptron.py:692: ConvergenceWarning: Stochastic Optimizer: Maximum iterations (500) reached and the optimization hasn't converged yet.\n",
      "  warnings.warn(\n",
      "C:\\Users\\D.B.I\\anaconda3\\lib\\site-packages\\sklearn\\neural_network\\_multilayer_perceptron.py:692: ConvergenceWarning: Stochastic Optimizer: Maximum iterations (500) reached and the optimization hasn't converged yet.\n",
      "  warnings.warn(\n"
     ]
    },
    {
     "data": {
      "text/plain": [
       "GridSearchCV(cv=5, estimator=MLPClassifier(random_state=42),\n",
       "             param_grid={'hidden_layer_sizes': [(2,), (3,), (10,), (20,)],\n",
       "                         'max_iter': [500, 1000, 2000]},\n",
       "             scoring='accuracy')"
      ]
     },
     "execution_count": 232,
     "metadata": {},
     "output_type": "execute_result"
    }
   ],
   "source": [
    "mlp_grid.fit(x_train_smote, y_train_smote)"
   ]
  },
  {
   "cell_type": "code",
   "execution_count": 233,
   "id": "aeef7706",
   "metadata": {},
   "outputs": [
    {
     "data": {
      "text/plain": [
       "{'hidden_layer_sizes': (20,), 'max_iter': 1000}"
      ]
     },
     "execution_count": 233,
     "metadata": {},
     "output_type": "execute_result"
    }
   ],
   "source": [
    "mlp_grid.best_params_"
   ]
  },
  {
   "cell_type": "code",
   "execution_count": 234,
   "id": "df0abb8d",
   "metadata": {},
   "outputs": [
    {
     "data": {
      "text/plain": [
       "0.9338600747491969"
      ]
     },
     "execution_count": 234,
     "metadata": {},
     "output_type": "execute_result"
    }
   ],
   "source": [
    "#accuracy of the best score\n",
    "mlp_grid.best_score_"
   ]
  },
  {
   "cell_type": "code",
   "execution_count": 235,
   "id": "21490cb0",
   "metadata": {},
   "outputs": [],
   "source": [
    "mlp_ytest_pred = mlp_grid.predict(x_test)"
   ]
  },
  {
   "cell_type": "code",
   "execution_count": 236,
   "id": "5e8e8317",
   "metadata": {},
   "outputs": [
    {
     "name": "stdout",
     "output_type": "stream",
     "text": [
      "confusion_matris:\n",
      "[[91  7  8]\n",
      " [ 6 37  0]\n",
      " [24  0 36]]\n",
      "accuracy:\n",
      "0.784688995215311\n"
     ]
    }
   ],
   "source": [
    "# Evaluation of the tuned parameter\n",
    "print('confusion_matris:')\n",
    "print(confusion_matrix(y_test, mlp_ytest_pred))\n",
    "print('accuracy:')\n",
    "print(accuracy_score(y_test, mlp_ytest_pred))"
   ]
  },
  {
   "cell_type": "code",
   "execution_count": 237,
   "id": "565eb28b",
   "metadata": {},
   "outputs": [
    {
     "name": "stdout",
     "output_type": "stream",
     "text": [
      "              precision    recall  f1-score   support\n",
      "\n",
      "           0       0.75      0.86      0.80       106\n",
      "           1       0.84      0.86      0.85        43\n",
      "           2       0.82      0.60      0.69        60\n",
      "\n",
      "    accuracy                           0.78       209\n",
      "   macro avg       0.80      0.77      0.78       209\n",
      "weighted avg       0.79      0.78      0.78       209\n",
      "\n"
     ]
    }
   ],
   "source": [
    "print(classification_report(y_test, mlp_ytest_pred))"
   ]
  },
  {
   "cell_type": "markdown",
   "id": "acd18109",
   "metadata": {},
   "source": [
    "## ADASYN"
   ]
  },
  {
   "cell_type": "markdown",
   "id": "80bfc89c",
   "metadata": {},
   "source": [
    "### 14.  Refitting Random Forest Classifier on ADASYN"
   ]
  },
  {
   "cell_type": "code",
   "execution_count": 238,
   "id": "5fbe4678",
   "metadata": {},
   "outputs": [
    {
     "name": "stdout",
     "output_type": "stream",
     "text": [
      "0.8325358851674641\n"
     ]
    },
    {
     "data": {
      "text/html": [
       "<div>\n",
       "<style scoped>\n",
       "    .dataframe tbody tr th:only-of-type {\n",
       "        vertical-align: middle;\n",
       "    }\n",
       "\n",
       "    .dataframe tbody tr th {\n",
       "        vertical-align: top;\n",
       "    }\n",
       "\n",
       "    .dataframe thead th {\n",
       "        text-align: right;\n",
       "    }\n",
       "</style>\n",
       "<table border=\"1\" class=\"dataframe\">\n",
       "  <thead>\n",
       "    <tr style=\"text-align: right;\">\n",
       "      <th>col_0</th>\n",
       "      <th>0</th>\n",
       "      <th>1</th>\n",
       "      <th>2</th>\n",
       "    </tr>\n",
       "    <tr>\n",
       "      <th>final_grade</th>\n",
       "      <th></th>\n",
       "      <th></th>\n",
       "      <th></th>\n",
       "    </tr>\n",
       "  </thead>\n",
       "  <tbody>\n",
       "    <tr>\n",
       "      <th>0</th>\n",
       "      <td>84</td>\n",
       "      <td>6</td>\n",
       "      <td>16</td>\n",
       "    </tr>\n",
       "    <tr>\n",
       "      <th>1</th>\n",
       "      <td>1</td>\n",
       "      <td>42</td>\n",
       "      <td>0</td>\n",
       "    </tr>\n",
       "    <tr>\n",
       "      <th>2</th>\n",
       "      <td>12</td>\n",
       "      <td>0</td>\n",
       "      <td>48</td>\n",
       "    </tr>\n",
       "  </tbody>\n",
       "</table>\n",
       "</div>"
      ],
      "text/plain": [
       "col_0         0   1   2\n",
       "final_grade            \n",
       "0            84   6  16\n",
       "1             1  42   0\n",
       "2            12   0  48"
      ]
     },
     "execution_count": 238,
     "metadata": {},
     "output_type": "execute_result"
    }
   ],
   "source": [
    "#Refitting the balance SMOTE on the random forest classifier \n",
    "rf_model.fit(x_train_adasyn, y_train_adasyn)\n",
    "y_pred = rf_model.predict(x_test)\n",
    "print(accuracy_score(y_test, y_pred))\n",
    "pd.crosstab(y_test,y_pred)"
   ]
  },
  {
   "cell_type": "code",
   "execution_count": 239,
   "id": "b00c27dd",
   "metadata": {},
   "outputs": [
    {
     "data": {
      "text/html": [
       "<div>\n",
       "<style scoped>\n",
       "    .dataframe tbody tr th:only-of-type {\n",
       "        vertical-align: middle;\n",
       "    }\n",
       "\n",
       "    .dataframe tbody tr th {\n",
       "        vertical-align: top;\n",
       "    }\n",
       "\n",
       "    .dataframe thead th {\n",
       "        text-align: right;\n",
       "    }\n",
       "</style>\n",
       "<table border=\"1\" class=\"dataframe\">\n",
       "  <thead>\n",
       "    <tr style=\"text-align: right;\">\n",
       "      <th></th>\n",
       "      <th>Actual</th>\n",
       "      <th>Predicted</th>\n",
       "    </tr>\n",
       "  </thead>\n",
       "  <tbody>\n",
       "    <tr>\n",
       "      <th>971</th>\n",
       "      <td>0</td>\n",
       "      <td>0</td>\n",
       "    </tr>\n",
       "    <tr>\n",
       "      <th>280</th>\n",
       "      <td>2</td>\n",
       "      <td>2</td>\n",
       "    </tr>\n",
       "    <tr>\n",
       "      <th>536</th>\n",
       "      <td>0</td>\n",
       "      <td>0</td>\n",
       "    </tr>\n",
       "    <tr>\n",
       "      <th>824</th>\n",
       "      <td>0</td>\n",
       "      <td>0</td>\n",
       "    </tr>\n",
       "    <tr>\n",
       "      <th>644</th>\n",
       "      <td>0</td>\n",
       "      <td>0</td>\n",
       "    </tr>\n",
       "    <tr>\n",
       "      <th>777</th>\n",
       "      <td>0</td>\n",
       "      <td>0</td>\n",
       "    </tr>\n",
       "    <tr>\n",
       "      <th>978</th>\n",
       "      <td>2</td>\n",
       "      <td>2</td>\n",
       "    </tr>\n",
       "    <tr>\n",
       "      <th>231</th>\n",
       "      <td>0</td>\n",
       "      <td>0</td>\n",
       "    </tr>\n",
       "    <tr>\n",
       "      <th>660</th>\n",
       "      <td>1</td>\n",
       "      <td>1</td>\n",
       "    </tr>\n",
       "    <tr>\n",
       "      <th>548</th>\n",
       "      <td>0</td>\n",
       "      <td>0</td>\n",
       "    </tr>\n",
       "    <tr>\n",
       "      <th>346</th>\n",
       "      <td>1</td>\n",
       "      <td>1</td>\n",
       "    </tr>\n",
       "    <tr>\n",
       "      <th>168</th>\n",
       "      <td>2</td>\n",
       "      <td>2</td>\n",
       "    </tr>\n",
       "    <tr>\n",
       "      <th>650</th>\n",
       "      <td>2</td>\n",
       "      <td>2</td>\n",
       "    </tr>\n",
       "    <tr>\n",
       "      <th>774</th>\n",
       "      <td>0</td>\n",
       "      <td>0</td>\n",
       "    </tr>\n",
       "    <tr>\n",
       "      <th>261</th>\n",
       "      <td>2</td>\n",
       "      <td>2</td>\n",
       "    </tr>\n",
       "  </tbody>\n",
       "</table>\n",
       "</div>"
      ],
      "text/plain": [
       "     Actual  Predicted\n",
       "971       0          0\n",
       "280       2          2\n",
       "536       0          0\n",
       "824       0          0\n",
       "644       0          0\n",
       "777       0          0\n",
       "978       2          2\n",
       "231       0          0\n",
       "660       1          1\n",
       "548       0          0\n",
       "346       1          1\n",
       "168       2          2\n",
       "650       2          2\n",
       "774       0          0\n",
       "261       2          2"
      ]
     },
     "execution_count": 239,
     "metadata": {},
     "output_type": "execute_result"
    }
   ],
   "source": [
    "#checking the predicted and actual values\n",
    "\n",
    "adasyndf=pd.DataFrame({'Actual':y_test, 'Predicted':y_pred})[:15]\n",
    "adasyndf"
   ]
  },
  {
   "cell_type": "code",
   "execution_count": 240,
   "id": "bc0c2f9f",
   "metadata": {},
   "outputs": [],
   "source": [
    "#ConfusionMatrixDisplay.from_estimator(model, x_test, y_test)\n",
    "#plt.show()\n",
    "#ConfusionMatrixDisplay.from_predictions(y_test, y_pred)\n",
    "#plt.show()"
   ]
  },
  {
   "cell_type": "markdown",
   "id": "113f5606",
   "metadata": {},
   "source": [
    "### Random Forest Classifier Model Evaluation with ADASYN Technique"
   ]
  },
  {
   "cell_type": "code",
   "execution_count": 241,
   "id": "a7cd1712",
   "metadata": {},
   "outputs": [
    {
     "name": "stdout",
     "output_type": "stream",
     "text": [
      "[[84  6 16]\n",
      " [ 1 42  0]\n",
      " [12  0 48]]\n"
     ]
    }
   ],
   "source": [
    "#confusion metrics\n",
    "print(confusion_matrix(y_test, y_pred))"
   ]
  },
  {
   "cell_type": "code",
   "execution_count": 242,
   "id": "15b5f3c0",
   "metadata": {},
   "outputs": [
    {
     "name": "stdout",
     "output_type": "stream",
     "text": [
      "[0 1 2] [106  43  60]\n"
     ]
    }
   ],
   "source": [
    "unique_element, counts_elements = np.unique(y_test, return_counts = True)\n",
    "print(unique_elements, counts_elements)"
   ]
  },
  {
   "cell_type": "code",
   "execution_count": 244,
   "id": "5ac235e0",
   "metadata": {},
   "outputs": [
    {
     "name": "stdout",
     "output_type": "stream",
     "text": [
      "              precision    recall  f1-score   support\n",
      "\n",
      "           0       0.87      0.79      0.83       106\n",
      "           1       0.88      0.98      0.92        43\n",
      "           2       0.75      0.80      0.77        60\n",
      "\n",
      "    accuracy                           0.83       209\n",
      "   macro avg       0.83      0.86      0.84       209\n",
      "weighted avg       0.83      0.83      0.83       209\n",
      "\n"
     ]
    }
   ],
   "source": [
    "print(classification_report(y_test, y_pred))\n",
    "\n",
    "#recall is the accuracy of each metrics of 0,1,2"
   ]
  },
  {
   "cell_type": "markdown",
   "id": "d0368ac1",
   "metadata": {},
   "source": [
    "### Parameter Optimization for Random Forest Classifier with  (ADASYN) using GridSearchCV"
   ]
  },
  {
   "cell_type": "code",
   "execution_count": 245,
   "id": "52340f59",
   "metadata": {},
   "outputs": [],
   "source": [
    "from sklearn.model_selection import GridSearchCV\n",
    "n_estimators_list = [130,160,190]\n",
    "# Number of features to consider at every split\n",
    "max_features = ['auto', 'sqrt']\n",
    "# Maximum number of levels in tree\n",
    "max_depth = [35,55]\n",
    "# Minimum number of samples required to split a node\n",
    "min_samples_split = [0.001, 0.005]\n",
    "# Minimum number of samples required at each leaf node\n",
    "min_samples_leaf = [0.001, 0.005]\n",
    "# Method of selecting samples for training each tree\n",
    "bootstrap = [True, False]"
   ]
  },
  {
   "cell_type": "code",
   "execution_count": 246,
   "id": "16095339",
   "metadata": {},
   "outputs": [
    {
     "name": "stdout",
     "output_type": "stream",
     "text": [
      "{'n_estimators': [130, 160, 190], 'max_features': ['auto', 'sqrt'], 'max_depth': [35, 55], 'min_samples_split': [0.001, 0.005], 'min_samples_leaf': [0.001, 0.005], 'bootstrap': [True, False]}\n"
     ]
    }
   ],
   "source": [
    "param_adasyn_grid = {'n_estimators': n_estimators_list,\n",
    "               'max_features': max_features,\n",
    "               'max_depth': max_depth,\n",
    "               'min_samples_split': min_samples_split,\n",
    "               'min_samples_leaf': min_samples_leaf,\n",
    "               'bootstrap': bootstrap}\n",
    "\n",
    "print(param_adasyn_grid) "
   ]
  },
  {
   "cell_type": "code",
   "execution_count": 247,
   "id": "cbd2a59a",
   "metadata": {},
   "outputs": [],
   "source": [
    "from sklearn.model_selection import GridSearchCV\n",
    "rf_adasyn_grid = GridSearchCV(estimator = rf_model, param_grid = param_adasyn_grid, cv = 5, verbose = 2, n_jobs = 4,return_train_score = True)\n"
   ]
  },
  {
   "cell_type": "code",
   "execution_count": 248,
   "id": "e4877e38",
   "metadata": {},
   "outputs": [
    {
     "name": "stdout",
     "output_type": "stream",
     "text": [
      "Fitting 5 folds for each of 96 candidates, totalling 480 fits\n"
     ]
    },
    {
     "data": {
      "text/plain": [
       "GridSearchCV(cv=5, estimator=RandomForestClassifier(random_state=42), n_jobs=4,\n",
       "             param_grid={'bootstrap': [True, False], 'max_depth': [35, 55],\n",
       "                         'max_features': ['auto', 'sqrt'],\n",
       "                         'min_samples_leaf': [0.001, 0.005],\n",
       "                         'min_samples_split': [0.001, 0.005],\n",
       "                         'n_estimators': [130, 160, 190]},\n",
       "             return_train_score=True, verbose=2)"
      ]
     },
     "execution_count": 248,
     "metadata": {},
     "output_type": "execute_result"
    }
   ],
   "source": [
    "rf_adasyn_grid.fit(x_train_adasyn, y_train_adasyn)"
   ]
  },
  {
   "cell_type": "code",
   "execution_count": 249,
   "id": "7a13a919",
   "metadata": {},
   "outputs": [],
   "source": [
    "rf_adasyn_pred = rf_adasyn_grid.predict(x_test)"
   ]
  },
  {
   "cell_type": "code",
   "execution_count": 250,
   "id": "fa75d4c5",
   "metadata": {},
   "outputs": [
    {
     "data": {
      "text/plain": [
       "{'bootstrap': True,\n",
       " 'max_depth': 35,\n",
       " 'max_features': 'auto',\n",
       " 'min_samples_leaf': 0.001,\n",
       " 'min_samples_split': 0.005,\n",
       " 'n_estimators': 160}"
      ]
     },
     "execution_count": 250,
     "metadata": {},
     "output_type": "execute_result"
    }
   ],
   "source": [
    "rf_adasyn_grid.best_params_"
   ]
  },
  {
   "cell_type": "code",
   "execution_count": 251,
   "id": "c0b1b6fe",
   "metadata": {},
   "outputs": [
    {
     "data": {
      "text/plain": [
       "0.9271237156498205"
      ]
     },
     "execution_count": 251,
     "metadata": {},
     "output_type": "execute_result"
    }
   ],
   "source": [
    "rf_adasyn_grid.best_score_"
   ]
  },
  {
   "cell_type": "code",
   "execution_count": 252,
   "id": "b101e888",
   "metadata": {},
   "outputs": [
    {
     "data": {
      "image/png": "[encoded data removed]",
      "text/plain": [
       "<Figure size 432x432 with 2 Axes>"
      ]
     },
     "metadata": {},
     "output_type": "display_data"
    },
    {
     "name": "stdout",
     "output_type": "stream",
     "text": [
      "              precision    recall  f1-score   support\n",
      "\n",
      "           0       0.90      0.75      0.81       106\n",
      "           1       0.81      0.98      0.88        43\n",
      "           2       0.75      0.87      0.81        60\n",
      "\n",
      "    accuracy                           0.83       209\n",
      "   macro avg       0.82      0.86      0.83       209\n",
      "weighted avg       0.84      0.83      0.83       209\n",
      "\n"
     ]
    }
   ],
   "source": [
    "\n",
    "cm = confusion_matrix(y_test, rf_adasyn_pred, labels=rf_model.classes_)\n",
    "disp = ConfusionMatrixDisplay(confusion_matrix=cm, display_labels=rf_model.classes_)\n",
    "disp.plot()\n",
    "\n",
    "plt.show()\n",
    "\n",
    "print(classification_report(y_test, rf_adasyn_pred))"
   ]
  },
  {
   "cell_type": "code",
   "execution_count": null,
   "id": "fde9862f",
   "metadata": {},
   "outputs": [],
   "source": []
  },
  {
   "cell_type": "markdown",
   "id": "c089c5f9",
   "metadata": {},
   "source": [
    "### 14. Refitting Support Vector Machine on ADASYN "
   ]
  },
  {
   "cell_type": "code",
   "execution_count": 253,
   "id": "106d8854",
   "metadata": {},
   "outputs": [
    {
     "name": "stdout",
     "output_type": "stream",
     "text": [
      "0.8373205741626795\n"
     ]
    },
    {
     "data": {
      "text/html": [
       "<div>\n",
       "<style scoped>\n",
       "    .dataframe tbody tr th:only-of-type {\n",
       "        vertical-align: middle;\n",
       "    }\n",
       "\n",
       "    .dataframe tbody tr th {\n",
       "        vertical-align: top;\n",
       "    }\n",
       "\n",
       "    .dataframe thead th {\n",
       "        text-align: right;\n",
       "    }\n",
       "</style>\n",
       "<table border=\"1\" class=\"dataframe\">\n",
       "  <thead>\n",
       "    <tr style=\"text-align: right;\">\n",
       "      <th>col_0</th>\n",
       "      <th>0</th>\n",
       "      <th>1</th>\n",
       "      <th>2</th>\n",
       "    </tr>\n",
       "    <tr>\n",
       "      <th>final_grade</th>\n",
       "      <th></th>\n",
       "      <th></th>\n",
       "      <th></th>\n",
       "    </tr>\n",
       "  </thead>\n",
       "  <tbody>\n",
       "    <tr>\n",
       "      <th>0</th>\n",
       "      <td>93</td>\n",
       "      <td>5</td>\n",
       "      <td>8</td>\n",
       "    </tr>\n",
       "    <tr>\n",
       "      <th>1</th>\n",
       "      <td>2</td>\n",
       "      <td>41</td>\n",
       "      <td>0</td>\n",
       "    </tr>\n",
       "    <tr>\n",
       "      <th>2</th>\n",
       "      <td>19</td>\n",
       "      <td>0</td>\n",
       "      <td>41</td>\n",
       "    </tr>\n",
       "  </tbody>\n",
       "</table>\n",
       "</div>"
      ],
      "text/plain": [
       "col_0         0   1   2\n",
       "final_grade            \n",
       "0            93   5   8\n",
       "1             2  41   0\n",
       "2            19   0  41"
      ]
     },
     "execution_count": 253,
     "metadata": {},
     "output_type": "execute_result"
    }
   ],
   "source": [
    "svm_model.fit(x_train_adasyn, y_train_adasyn)\n",
    "svm_pred = svm_model.predict(x_test)\n",
    "print(accuracy_score(y_test, svm_pred))\n",
    "pd.crosstab(y_test,svm_pred)"
   ]
  },
  {
   "cell_type": "code",
   "execution_count": 254,
   "id": "f53f9187",
   "metadata": {},
   "outputs": [
    {
     "data": {
      "text/html": [
       "<div>\n",
       "<style scoped>\n",
       "    .dataframe tbody tr th:only-of-type {\n",
       "        vertical-align: middle;\n",
       "    }\n",
       "\n",
       "    .dataframe tbody tr th {\n",
       "        vertical-align: top;\n",
       "    }\n",
       "\n",
       "    .dataframe thead th {\n",
       "        text-align: right;\n",
       "    }\n",
       "</style>\n",
       "<table border=\"1\" class=\"dataframe\">\n",
       "  <thead>\n",
       "    <tr style=\"text-align: right;\">\n",
       "      <th></th>\n",
       "      <th>Actual</th>\n",
       "      <th>Predicted</th>\n",
       "    </tr>\n",
       "  </thead>\n",
       "  <tbody>\n",
       "    <tr>\n",
       "      <th>971</th>\n",
       "      <td>0</td>\n",
       "      <td>0</td>\n",
       "    </tr>\n",
       "    <tr>\n",
       "      <th>280</th>\n",
       "      <td>2</td>\n",
       "      <td>2</td>\n",
       "    </tr>\n",
       "    <tr>\n",
       "      <th>536</th>\n",
       "      <td>0</td>\n",
       "      <td>0</td>\n",
       "    </tr>\n",
       "    <tr>\n",
       "      <th>824</th>\n",
       "      <td>0</td>\n",
       "      <td>0</td>\n",
       "    </tr>\n",
       "    <tr>\n",
       "      <th>644</th>\n",
       "      <td>0</td>\n",
       "      <td>0</td>\n",
       "    </tr>\n",
       "    <tr>\n",
       "      <th>777</th>\n",
       "      <td>0</td>\n",
       "      <td>0</td>\n",
       "    </tr>\n",
       "    <tr>\n",
       "      <th>978</th>\n",
       "      <td>2</td>\n",
       "      <td>2</td>\n",
       "    </tr>\n",
       "    <tr>\n",
       "      <th>231</th>\n",
       "      <td>0</td>\n",
       "      <td>0</td>\n",
       "    </tr>\n",
       "    <tr>\n",
       "      <th>660</th>\n",
       "      <td>1</td>\n",
       "      <td>1</td>\n",
       "    </tr>\n",
       "    <tr>\n",
       "      <th>548</th>\n",
       "      <td>0</td>\n",
       "      <td>0</td>\n",
       "    </tr>\n",
       "    <tr>\n",
       "      <th>346</th>\n",
       "      <td>1</td>\n",
       "      <td>1</td>\n",
       "    </tr>\n",
       "    <tr>\n",
       "      <th>168</th>\n",
       "      <td>2</td>\n",
       "      <td>2</td>\n",
       "    </tr>\n",
       "    <tr>\n",
       "      <th>650</th>\n",
       "      <td>2</td>\n",
       "      <td>2</td>\n",
       "    </tr>\n",
       "    <tr>\n",
       "      <th>774</th>\n",
       "      <td>0</td>\n",
       "      <td>0</td>\n",
       "    </tr>\n",
       "    <tr>\n",
       "      <th>261</th>\n",
       "      <td>2</td>\n",
       "      <td>2</td>\n",
       "    </tr>\n",
       "  </tbody>\n",
       "</table>\n",
       "</div>"
      ],
      "text/plain": [
       "     Actual  Predicted\n",
       "971       0          0\n",
       "280       2          2\n",
       "536       0          0\n",
       "824       0          0\n",
       "644       0          0\n",
       "777       0          0\n",
       "978       2          2\n",
       "231       0          0\n",
       "660       1          1\n",
       "548       0          0\n",
       "346       1          1\n",
       "168       2          2\n",
       "650       2          2\n",
       "774       0          0\n",
       "261       2          2"
      ]
     },
     "execution_count": 254,
     "metadata": {},
     "output_type": "execute_result"
    }
   ],
   "source": [
    "adasynsvm = pd.DataFrame({'Actual':y_test, 'Predicted':svm_pred})[:15]\n",
    "adasynsvm"
   ]
  },
  {
   "cell_type": "code",
   "execution_count": 255,
   "id": "ad8a792e",
   "metadata": {},
   "outputs": [
    {
     "name": "stdout",
     "output_type": "stream",
     "text": [
      "[[93  5  8]\n",
      " [ 2 41  0]\n",
      " [19  0 41]]\n"
     ]
    }
   ],
   "source": [
    "print(confusion_matrix(y_test, svm_pred))"
   ]
  },
  {
   "cell_type": "code",
   "execution_count": 256,
   "id": "ae7b57ab",
   "metadata": {},
   "outputs": [
    {
     "data": {
      "image/png": "[encoded data removed]",
      "text/plain": [
       "<Figure size 432x432 with 2 Axes>"
      ]
     },
     "metadata": {},
     "output_type": "display_data"
    }
   ],
   "source": [
    "from sklearn.metrics import confusion_matrix, ConfusionMatrixDisplay\n",
    "\n",
    "cm = confusion_matrix(y_test, svm_pred, labels=svm_model.classes_)\n",
    "disp = ConfusionMatrixDisplay(confusion_matrix=cm, display_labels=svm_model.classes_)\n",
    "disp.plot()\n",
    "\n",
    "plt.show()"
   ]
  },
  {
   "cell_type": "code",
   "execution_count": 257,
   "id": "cfe31b05",
   "metadata": {},
   "outputs": [
    {
     "name": "stdout",
     "output_type": "stream",
     "text": [
      "              precision    recall  f1-score   support\n",
      "\n",
      "           0       0.82      0.88      0.85       106\n",
      "           1       0.89      0.95      0.92        43\n",
      "           2       0.84      0.68      0.75        60\n",
      "\n",
      "    accuracy                           0.84       209\n",
      "   macro avg       0.85      0.84      0.84       209\n",
      "weighted avg       0.84      0.84      0.83       209\n",
      "\n"
     ]
    }
   ],
   "source": [
    "print(classification_report(y_test, svm_pred))\n"
   ]
  },
  {
   "cell_type": "markdown",
   "id": "a0ce4b3a",
   "metadata": {},
   "source": [
    "#### Optimization Parameters with Cross Validation and GridSearchCV for SVM (ADASYN)"
   ]
  },
  {
   "cell_type": "code",
   "execution_count": 258,
   "id": "97da78f2",
   "metadata": {},
   "outputs": [
    {
     "name": "stdout",
     "output_type": "stream",
     "text": [
      "{'C': 10, 'gamma': 0.01, 'kernel': 'rbf'}\n"
     ]
    }
   ],
   "source": [
    "svm_grid = [{'C':[0.5, 1, 10, 10],\n",
    "            'gamma': ['scale', 1, 0.1, 0.01, 0.001, 0.0001],\n",
    "            'kernel': ['rbf']},]\n",
    "\n",
    "svm_optimal_params = GridSearchCV(SVC(), svm_grid, cv=5, scoring = 'accuracy')\n",
    "\n",
    "svm_optimal_params.fit(x_train_adasyn, y_train_adasyn)\n",
    "print(svm_optimal_params.best_params_)"
   ]
  },
  {
   "cell_type": "code",
   "execution_count": 259,
   "id": "28088ac4",
   "metadata": {},
   "outputs": [],
   "source": [
    "svm_ytest_adasyn_pred = svm_optimal_params.predict(x_test)"
   ]
  },
  {
   "cell_type": "markdown",
   "id": "27b4f5e2",
   "metadata": {},
   "source": [
    "##### Building, Evaluating, Drawing and Interpreting the Final Support Vector Machine (ADASYN)"
   ]
  },
  {
   "cell_type": "code",
   "execution_count": 260,
   "id": "787e1023",
   "metadata": {},
   "outputs": [
    {
     "data": {
      "text/plain": [
       "SVC(C=100, gamma=0.001, random_state=42)"
      ]
     },
     "execution_count": 260,
     "metadata": {},
     "output_type": "execute_result"
    }
   ],
   "source": [
    "svm_model = SVC(kernel='rbf',random_state = 42, C= 100, gamma = 0.001)\n",
    "svm_model.fit(x_train_adasyn, y_train_adasyn)"
   ]
  },
  {
   "cell_type": "code",
   "execution_count": 261,
   "id": "03f53858",
   "metadata": {},
   "outputs": [
    {
     "data": {
      "image/png": "[encoded data removed]",
      "text/plain": [
       "<Figure size 432x432 with 2 Axes>"
      ]
     },
     "metadata": {},
     "output_type": "display_data"
    },
    {
     "name": "stdout",
     "output_type": "stream",
     "text": [
      "              precision    recall  f1-score   support\n",
      "\n",
      "           0       0.75      0.91      0.82       106\n",
      "           1       0.84      0.84      0.84        43\n",
      "           2       0.92      0.58      0.71        60\n",
      "\n",
      "    accuracy                           0.80       209\n",
      "   macro avg       0.84      0.78      0.79       209\n",
      "weighted avg       0.82      0.80      0.79       209\n",
      "\n"
     ]
    }
   ],
   "source": [
    "cm = confusion_matrix(y_test, svm_ytest_adasyn_pred, labels=svm_model.classes_)\n",
    "disp = ConfusionMatrixDisplay(confusion_matrix=cm, display_labels=svm_model.classes_)\n",
    "disp.plot()\n",
    "\n",
    "plt.show()\n",
    "\n",
    "print(classification_report(y_test, svm_ytest_adasyn_pred))\n"
   ]
  },
  {
   "cell_type": "markdown",
   "id": "97ffd437",
   "metadata": {},
   "source": [
    "### 16. Refitting Multi-Layer-Preceptron Neural Networks on ADASYN "
   ]
  },
  {
   "cell_type": "code",
   "execution_count": 262,
   "id": "a01b59ab",
   "metadata": {},
   "outputs": [
    {
     "name": "stdout",
     "output_type": "stream",
     "text": [
      "0.7894736842105263\n"
     ]
    },
    {
     "name": "stderr",
     "output_type": "stream",
     "text": [
      "C:\\Users\\D.B.I\\anaconda3\\lib\\site-packages\\sklearn\\neural_network\\_multilayer_perceptron.py:692: ConvergenceWarning: Stochastic Optimizer: Maximum iterations (200) reached and the optimization hasn't converged yet.\n",
      "  warnings.warn(\n"
     ]
    },
    {
     "data": {
      "text/html": [
       "<div>\n",
       "<style scoped>\n",
       "    .dataframe tbody tr th:only-of-type {\n",
       "        vertical-align: middle;\n",
       "    }\n",
       "\n",
       "    .dataframe tbody tr th {\n",
       "        vertical-align: top;\n",
       "    }\n",
       "\n",
       "    .dataframe thead th {\n",
       "        text-align: right;\n",
       "    }\n",
       "</style>\n",
       "<table border=\"1\" class=\"dataframe\">\n",
       "  <thead>\n",
       "    <tr style=\"text-align: right;\">\n",
       "      <th>col_0</th>\n",
       "      <th>0</th>\n",
       "      <th>1</th>\n",
       "      <th>2</th>\n",
       "    </tr>\n",
       "    <tr>\n",
       "      <th>final_grade</th>\n",
       "      <th></th>\n",
       "      <th></th>\n",
       "      <th></th>\n",
       "    </tr>\n",
       "  </thead>\n",
       "  <tbody>\n",
       "    <tr>\n",
       "      <th>0</th>\n",
       "      <td>93</td>\n",
       "      <td>7</td>\n",
       "      <td>6</td>\n",
       "    </tr>\n",
       "    <tr>\n",
       "      <th>1</th>\n",
       "      <td>7</td>\n",
       "      <td>36</td>\n",
       "      <td>0</td>\n",
       "    </tr>\n",
       "    <tr>\n",
       "      <th>2</th>\n",
       "      <td>24</td>\n",
       "      <td>0</td>\n",
       "      <td>36</td>\n",
       "    </tr>\n",
       "  </tbody>\n",
       "</table>\n",
       "</div>"
      ],
      "text/plain": [
       "col_0         0   1   2\n",
       "final_grade            \n",
       "0            93   7   6\n",
       "1             7  36   0\n",
       "2            24   0  36"
      ]
     },
     "execution_count": 262,
     "metadata": {},
     "output_type": "execute_result"
    }
   ],
   "source": [
    "mlp_model.fit(x_train_adasyn, y_train_adasyn)\n",
    "mlp_pred = mlp_model.predict(x_test)\n",
    "print(accuracy_score(y_test, mlp_pred))\n",
    "pd.crosstab(y_test,mlp_pred)"
   ]
  },
  {
   "cell_type": "code",
   "execution_count": 263,
   "id": "8edf577a",
   "metadata": {},
   "outputs": [
    {
     "data": {
      "text/html": [
       "<div>\n",
       "<style scoped>\n",
       "    .dataframe tbody tr th:only-of-type {\n",
       "        vertical-align: middle;\n",
       "    }\n",
       "\n",
       "    .dataframe tbody tr th {\n",
       "        vertical-align: top;\n",
       "    }\n",
       "\n",
       "    .dataframe thead th {\n",
       "        text-align: right;\n",
       "    }\n",
       "</style>\n",
       "<table border=\"1\" class=\"dataframe\">\n",
       "  <thead>\n",
       "    <tr style=\"text-align: right;\">\n",
       "      <th></th>\n",
       "      <th>Actual</th>\n",
       "      <th>Predicted</th>\n",
       "    </tr>\n",
       "  </thead>\n",
       "  <tbody>\n",
       "    <tr>\n",
       "      <th>971</th>\n",
       "      <td>0</td>\n",
       "      <td>0</td>\n",
       "    </tr>\n",
       "    <tr>\n",
       "      <th>280</th>\n",
       "      <td>2</td>\n",
       "      <td>2</td>\n",
       "    </tr>\n",
       "    <tr>\n",
       "      <th>536</th>\n",
       "      <td>0</td>\n",
       "      <td>0</td>\n",
       "    </tr>\n",
       "    <tr>\n",
       "      <th>824</th>\n",
       "      <td>0</td>\n",
       "      <td>0</td>\n",
       "    </tr>\n",
       "    <tr>\n",
       "      <th>644</th>\n",
       "      <td>0</td>\n",
       "      <td>0</td>\n",
       "    </tr>\n",
       "    <tr>\n",
       "      <th>777</th>\n",
       "      <td>0</td>\n",
       "      <td>0</td>\n",
       "    </tr>\n",
       "    <tr>\n",
       "      <th>978</th>\n",
       "      <td>2</td>\n",
       "      <td>2</td>\n",
       "    </tr>\n",
       "    <tr>\n",
       "      <th>231</th>\n",
       "      <td>0</td>\n",
       "      <td>0</td>\n",
       "    </tr>\n",
       "    <tr>\n",
       "      <th>660</th>\n",
       "      <td>1</td>\n",
       "      <td>1</td>\n",
       "    </tr>\n",
       "    <tr>\n",
       "      <th>548</th>\n",
       "      <td>0</td>\n",
       "      <td>0</td>\n",
       "    </tr>\n",
       "    <tr>\n",
       "      <th>346</th>\n",
       "      <td>1</td>\n",
       "      <td>1</td>\n",
       "    </tr>\n",
       "    <tr>\n",
       "      <th>168</th>\n",
       "      <td>2</td>\n",
       "      <td>2</td>\n",
       "    </tr>\n",
       "    <tr>\n",
       "      <th>650</th>\n",
       "      <td>2</td>\n",
       "      <td>2</td>\n",
       "    </tr>\n",
       "    <tr>\n",
       "      <th>774</th>\n",
       "      <td>0</td>\n",
       "      <td>0</td>\n",
       "    </tr>\n",
       "    <tr>\n",
       "      <th>261</th>\n",
       "      <td>2</td>\n",
       "      <td>2</td>\n",
       "    </tr>\n",
       "  </tbody>\n",
       "</table>\n",
       "</div>"
      ],
      "text/plain": [
       "     Actual  Predicted\n",
       "971       0          0\n",
       "280       2          2\n",
       "536       0          0\n",
       "824       0          0\n",
       "644       0          0\n",
       "777       0          0\n",
       "978       2          2\n",
       "231       0          0\n",
       "660       1          1\n",
       "548       0          0\n",
       "346       1          1\n",
       "168       2          2\n",
       "650       2          2\n",
       "774       0          0\n",
       "261       2          2"
      ]
     },
     "execution_count": 263,
     "metadata": {},
     "output_type": "execute_result"
    }
   ],
   "source": [
    "adasynmlp = pd.DataFrame({'Actual':y_test, 'Predicted':mlp_pred})[:15]\n",
    "adasynmlp"
   ]
  },
  {
   "cell_type": "code",
   "execution_count": 264,
   "id": "345bee91",
   "metadata": {},
   "outputs": [
    {
     "name": "stdout",
     "output_type": "stream",
     "text": [
      "[[93  7  6]\n",
      " [ 7 36  0]\n",
      " [24  0 36]]\n"
     ]
    }
   ],
   "source": [
    "print(confusion_matrix(y_test, mlp_pred))"
   ]
  },
  {
   "cell_type": "code",
   "execution_count": 265,
   "id": "83c7b462",
   "metadata": {},
   "outputs": [
    {
     "data": {
      "image/png": "[encoded data removed]",
      "text/plain": [
       "<Figure size 432x432 with 2 Axes>"
      ]
     },
     "metadata": {},
     "output_type": "display_data"
    }
   ],
   "source": [
    "from sklearn.metrics import confusion_matrix, ConfusionMatrixDisplay\n",
    "\n",
    "cm = confusion_matrix(y_test, mlp_pred, labels=mlp_model.classes_)\n",
    "disp = ConfusionMatrixDisplay(confusion_matrix=cm, display_labels=mlp_model.classes_)\n",
    "disp.plot()\n",
    "\n",
    "plt.show()"
   ]
  },
  {
   "cell_type": "code",
   "execution_count": 266,
   "id": "92c80d2a",
   "metadata": {},
   "outputs": [
    {
     "name": "stdout",
     "output_type": "stream",
     "text": [
      "              precision    recall  f1-score   support\n",
      "\n",
      "           0       0.75      0.88      0.81       106\n",
      "           1       0.84      0.84      0.84        43\n",
      "           2       0.86      0.60      0.71        60\n",
      "\n",
      "    accuracy                           0.79       209\n",
      "   macro avg       0.81      0.77      0.78       209\n",
      "weighted avg       0.80      0.79      0.79       209\n",
      "\n"
     ]
    }
   ],
   "source": [
    "print(classification_report(y_test, mlp_pred))\n"
   ]
  },
  {
   "cell_type": "markdown",
   "id": "51e70164",
   "metadata": {},
   "source": [
    "### Parameter Optimization for neural network  with Grid Search (ADASYN)"
   ]
  },
  {
   "cell_type": "code",
   "execution_count": 267,
   "id": "624e52c6",
   "metadata": {},
   "outputs": [],
   "source": [
    "from sklearn.model_selection import GridSearchCV\n",
    "from sklearn.neural_network import MLPClassifier\n",
    "\n",
    "mlp_model = MLPClassifier(random_state = 42)\n",
    "mlp_grid_value = {'max_iter' :[500, 1000, 2000], 'hidden_layer_sizes':[(2,), (3,), (10,), (20,)]}\n",
    "mlp_grid_adasyn = GridSearchCV(mlp_model, param_grid = mlp_grid_value, scoring = 'accuracy', cv = 5)\n"
   ]
  },
  {
   "cell_type": "code",
   "execution_count": 268,
   "id": "04fa5838",
   "metadata": {},
   "outputs": [
    {
     "name": "stderr",
     "output_type": "stream",
     "text": [
      "C:\\Users\\D.B.I\\anaconda3\\lib\\site-packages\\sklearn\\neural_network\\_multilayer_perceptron.py:692: ConvergenceWarning: Stochastic Optimizer: Maximum iterations (500) reached and the optimization hasn't converged yet.\n",
      "  warnings.warn(\n",
      "C:\\Users\\D.B.I\\anaconda3\\lib\\site-packages\\sklearn\\neural_network\\_multilayer_perceptron.py:692: ConvergenceWarning: Stochastic Optimizer: Maximum iterations (500) reached and the optimization hasn't converged yet.\n",
      "  warnings.warn(\n",
      "C:\\Users\\D.B.I\\anaconda3\\lib\\site-packages\\sklearn\\neural_network\\_multilayer_perceptron.py:692: ConvergenceWarning: Stochastic Optimizer: Maximum iterations (500) reached and the optimization hasn't converged yet.\n",
      "  warnings.warn(\n",
      "C:\\Users\\D.B.I\\anaconda3\\lib\\site-packages\\sklearn\\neural_network\\_multilayer_perceptron.py:692: ConvergenceWarning: Stochastic Optimizer: Maximum iterations (500) reached and the optimization hasn't converged yet.\n",
      "  warnings.warn(\n",
      "C:\\Users\\D.B.I\\anaconda3\\lib\\site-packages\\sklearn\\neural_network\\_multilayer_perceptron.py:692: ConvergenceWarning: Stochastic Optimizer: Maximum iterations (500) reached and the optimization hasn't converged yet.\n",
      "  warnings.warn(\n",
      "C:\\Users\\D.B.I\\anaconda3\\lib\\site-packages\\sklearn\\neural_network\\_multilayer_perceptron.py:692: ConvergenceWarning: Stochastic Optimizer: Maximum iterations (500) reached and the optimization hasn't converged yet.\n",
      "  warnings.warn(\n",
      "C:\\Users\\D.B.I\\anaconda3\\lib\\site-packages\\sklearn\\neural_network\\_multilayer_perceptron.py:692: ConvergenceWarning: Stochastic Optimizer: Maximum iterations (500) reached and the optimization hasn't converged yet.\n",
      "  warnings.warn(\n",
      "C:\\Users\\D.B.I\\anaconda3\\lib\\site-packages\\sklearn\\neural_network\\_multilayer_perceptron.py:692: ConvergenceWarning: Stochastic Optimizer: Maximum iterations (500) reached and the optimization hasn't converged yet.\n",
      "  warnings.warn(\n",
      "C:\\Users\\D.B.I\\anaconda3\\lib\\site-packages\\sklearn\\neural_network\\_multilayer_perceptron.py:692: ConvergenceWarning: Stochastic Optimizer: Maximum iterations (500) reached and the optimization hasn't converged yet.\n",
      "  warnings.warn(\n",
      "C:\\Users\\D.B.I\\anaconda3\\lib\\site-packages\\sklearn\\neural_network\\_multilayer_perceptron.py:692: ConvergenceWarning: Stochastic Optimizer: Maximum iterations (500) reached and the optimization hasn't converged yet.\n",
      "  warnings.warn(\n",
      "C:\\Users\\D.B.I\\anaconda3\\lib\\site-packages\\sklearn\\neural_network\\_multilayer_perceptron.py:692: ConvergenceWarning: Stochastic Optimizer: Maximum iterations (500) reached and the optimization hasn't converged yet.\n",
      "  warnings.warn(\n",
      "C:\\Users\\D.B.I\\anaconda3\\lib\\site-packages\\sklearn\\neural_network\\_multilayer_perceptron.py:692: ConvergenceWarning: Stochastic Optimizer: Maximum iterations (500) reached and the optimization hasn't converged yet.\n",
      "  warnings.warn(\n",
      "C:\\Users\\D.B.I\\anaconda3\\lib\\site-packages\\sklearn\\neural_network\\_multilayer_perceptron.py:692: ConvergenceWarning: Stochastic Optimizer: Maximum iterations (500) reached and the optimization hasn't converged yet.\n",
      "  warnings.warn(\n",
      "C:\\Users\\D.B.I\\anaconda3\\lib\\site-packages\\sklearn\\neural_network\\_multilayer_perceptron.py:692: ConvergenceWarning: Stochastic Optimizer: Maximum iterations (500) reached and the optimization hasn't converged yet.\n",
      "  warnings.warn(\n",
      "C:\\Users\\D.B.I\\anaconda3\\lib\\site-packages\\sklearn\\neural_network\\_multilayer_perceptron.py:692: ConvergenceWarning: Stochastic Optimizer: Maximum iterations (500) reached and the optimization hasn't converged yet.\n",
      "  warnings.warn(\n",
      "C:\\Users\\D.B.I\\anaconda3\\lib\\site-packages\\sklearn\\neural_network\\_multilayer_perceptron.py:692: ConvergenceWarning: Stochastic Optimizer: Maximum iterations (500) reached and the optimization hasn't converged yet.\n",
      "  warnings.warn(\n",
      "C:\\Users\\D.B.I\\anaconda3\\lib\\site-packages\\sklearn\\neural_network\\_multilayer_perceptron.py:692: ConvergenceWarning: Stochastic Optimizer: Maximum iterations (500) reached and the optimization hasn't converged yet.\n",
      "  warnings.warn(\n",
      "C:\\Users\\D.B.I\\anaconda3\\lib\\site-packages\\sklearn\\neural_network\\_multilayer_perceptron.py:692: ConvergenceWarning: Stochastic Optimizer: Maximum iterations (500) reached and the optimization hasn't converged yet.\n",
      "  warnings.warn(\n",
      "C:\\Users\\D.B.I\\anaconda3\\lib\\site-packages\\sklearn\\neural_network\\_multilayer_perceptron.py:692: ConvergenceWarning: Stochastic Optimizer: Maximum iterations (500) reached and the optimization hasn't converged yet.\n",
      "  warnings.warn(\n"
     ]
    },
    {
     "data": {
      "text/plain": [
       "GridSearchCV(cv=5, estimator=MLPClassifier(random_state=42),\n",
       "             param_grid={'hidden_layer_sizes': [(2,), (3,), (10,), (20,)],\n",
       "                         'max_iter': [500, 1000, 2000]},\n",
       "             scoring='accuracy')"
      ]
     },
     "execution_count": 268,
     "metadata": {},
     "output_type": "execute_result"
    }
   ],
   "source": [
    "mlp_grid_adasyn.fit(x_train_adasyn, y_train_adasyn)\n"
   ]
  },
  {
   "cell_type": "code",
   "execution_count": 269,
   "id": "95c63f5d",
   "metadata": {},
   "outputs": [
    {
     "data": {
      "text/plain": [
       "{'hidden_layer_sizes': (20,), 'max_iter': 1000}"
      ]
     },
     "execution_count": 269,
     "metadata": {},
     "output_type": "execute_result"
    }
   ],
   "source": [
    "mlp_grid_adasyn.best_params_"
   ]
  },
  {
   "cell_type": "code",
   "execution_count": 270,
   "id": "758757e6",
   "metadata": {},
   "outputs": [
    {
     "data": {
      "text/plain": [
       "0.9330663791775757"
      ]
     },
     "execution_count": 270,
     "metadata": {},
     "output_type": "execute_result"
    }
   ],
   "source": [
    "#accuracy of the best score\n",
    "mlp_grid_adasyn.best_score_"
   ]
  },
  {
   "cell_type": "code",
   "execution_count": 271,
   "id": "dac1eabd",
   "metadata": {},
   "outputs": [],
   "source": [
    "mlp_adasyn_pred = mlp_grid_adasyn.predict(x_test)"
   ]
  },
  {
   "cell_type": "code",
   "execution_count": 272,
   "id": "46730e89",
   "metadata": {},
   "outputs": [
    {
     "name": "stdout",
     "output_type": "stream",
     "text": [
      "confusion_matris:\n",
      "[[90  8  8]\n",
      " [ 7 36  0]\n",
      " [25  0 35]]\n",
      "accuracy:\n",
      "0.7703349282296651\n"
     ]
    }
   ],
   "source": [
    "# Evaluation of the tuned parameter\n",
    "print('confusion_matris:')\n",
    "print(confusion_matrix(y_test, mlp_adasyn_pred))\n",
    "print('accuracy:')\n",
    "print(accuracy_score(y_test, mlp_adasyn_pred))"
   ]
  },
  {
   "cell_type": "code",
   "execution_count": 273,
   "id": "4ec08ae0",
   "metadata": {},
   "outputs": [
    {
     "name": "stdout",
     "output_type": "stream",
     "text": [
      "              precision    recall  f1-score   support\n",
      "\n",
      "           0       0.74      0.85      0.79       106\n",
      "           1       0.82      0.84      0.83        43\n",
      "           2       0.81      0.58      0.68        60\n",
      "\n",
      "    accuracy                           0.77       209\n",
      "   macro avg       0.79      0.76      0.77       209\n",
      "weighted avg       0.78      0.77      0.77       209\n",
      "\n"
     ]
    }
   ],
   "source": [
    "print(classification_report(y_test, mlp_adasyn_pred))"
   ]
  },
  {
   "cell_type": "code",
   "execution_count": null,
   "id": "c0c8aeda",
   "metadata": {},
   "outputs": [],
   "source": []
  },
  {
   "cell_type": "code",
   "execution_count": null,
   "id": "d5a8f95c",
   "metadata": {},
   "outputs": [],
   "source": []
  },
  {
   "cell_type": "code",
   "execution_count": null,
   "id": "af44ed0c",
   "metadata": {},
   "outputs": [],
   "source": []
  },
  {
   "cell_type": "code",
   "execution_count": null,
   "id": "782428db",
   "metadata": {},
   "outputs": [],
   "source": []
  },
  {
   "cell_type": "code",
   "execution_count": null,
   "id": "6dd3048a",
   "metadata": {},
   "outputs": [],
   "source": []
  },
  {
   "cell_type": "code",
   "execution_count": null,
   "id": "fb14a094",
   "metadata": {},
   "outputs": [],
   "source": []
  },
  {
   "cell_type": "code",
   "execution_count": null,
   "id": "166fb2bd",
   "metadata": {},
   "outputs": [],
   "source": [
    "df_feature_importance = pd.DataFrame(rf_model.feature_importances_, index = x.columns,columns = ['feature score'])\n",
    "\n",
    "df_feature_importance.sort_values(by = 'feature score', ascending = False,)\n",
    "df_feature_importance\n",
    "\n",
    "#according to the random forest classifier the most important feature in predicting the final grade class is G1 and G2 , and the least important feature in predicting the final grade class is"
   ]
  }
 ],
 "metadata": {
  "kernelspec": {
   "display_name": "Python 3 (ipykernel)",
   "language": "python",
   "name": "python3"
  },
  "language_info": {
   "codemirror_mode": {
    "name": "ipython",
    "version": 3
   },
   "file_extension": ".py",
   "mimetype": "text/x-python",
   "name": "python",
   "nbconvert_exporter": "python",
   "pygments_lexer": "ipython3",
   "version": "3.9.7"
  }
 },
 "nbformat": 4,
 "nbformat_minor": 5
}
