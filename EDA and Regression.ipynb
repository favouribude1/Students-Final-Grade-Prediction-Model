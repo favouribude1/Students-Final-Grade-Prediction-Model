{
 "cells": [
  {
   "cell_type": "markdown",
   "id": "5b2229ba",
   "metadata": {},
   "source": [
    "# STUDENT PERFORMANCE ANALYSIS\n",
    "## EXPLORATORY DATA ANALYSIS and REGRESSION"
   ]
  },
  {
   "cell_type": "markdown",
   "id": "1904417b",
   "metadata": {},
   "source": [
    "#### TABLE of CONTENTS\n",
    "\n",
    "1. Import Packages\n",
    "2. Load Dataset\n",
    "3. Data Preparation\n",
    "4. Exploratory Data Analysis\n",
    "   - Understanding the Data\n",
    "   - Cleaning the Data\n",
    "   - Analysis of Relationship between Variables\n",
    "5. Descriptive Analysis\n",
    "   - Mean\n",
    "   - Median\n",
    "   - STD\n",
    "   - Variance\n",
    "   - Minimum\n",
    "   - Maximum\n",
    "   - Skewness\n",
    "   - Kurtosis\n",
    "     \n",
    "   MACHINE LEARNING PREPROCESSING\n",
    "6. Data Preprocessing for Maching Learning\n",
    "     - Encoding(One Hot Encoding and Label Encoding)\n",
    "     - Data Formating(Seperating Features and Target Variables)\n",
    "     - Feature Scaling\n",
    "     \n",
    "7.   RANDOM FOREST REGRESSION \n",
    "     - Split Data into Traing and Testing Set\n",
    "     - Fit Model on Training Set\n",
    "     - Model Prediction\n",
    "     - Model Evaluation\n",
    "     \n",
    "8. Feature Importance of Random Forest Regression\n",
    "\n",
    "9. Hyperparameter Tuning\n",
    "    - With GridSearchCV\n",
    "    - With RandomisedSearchCV\n",
    "10. Final Model Evaluation and Selection\n",
    "11. Conclusion"
   ]
  },
  {
   "cell_type": "markdown",
   "id": "903630b8",
   "metadata": {},
   "source": [
    "# Import Liberies"
   ]
  },
  {
   "cell_type": "code",
   "execution_count": 1,
   "id": "575c9943",
   "metadata": {},
   "outputs": [],
   "source": [
    "import numpy as np\n",
    "import pandas as pd\n",
    "import matplotlib.pyplot as plt\n",
    "\n",
    "%matplotlib inline\n",
    "import seaborn as sns\n",
    "sns.set_style('whitegrid')\n",
    "import statsmodels.api as sm\n",
    "\n",
    "from sklearn.preprocessing import LabelEncoder\n",
    "from sklearn.preprocessing import StandardScaler\n",
    "from sklearn.model_selection import train_test_split\n",
    "\n",
    "from sklearn.linear_model import LinearRegression\n",
    "\n",
    "from sklearn.model_selection import train_test_split # for splitting the data\n",
    "from sklearn.metrics import mean_squared_error # for calculating the cost function\n",
    "from sklearn.ensemble import RandomForestRegressor # for building the model\n",
    "from sklearn import metrics\n",
    "np.random.seed(42)\n",
    "\n",
    "import numpy as np\n",
    "\n",
    "from sklearn.model_selection import RandomizedSearchCV\n",
    "\n",
    "import Exploratory_Data_Analysis\n",
    "\n",
    "import pylab as p\n",
    "from scipy.stats import skew\n",
    "from scipy.stats import kurtosis\n"
   ]
  },
  {
   "cell_type": "markdown",
   "id": "ba498abe",
   "metadata": {},
   "source": [
    "## Load Dataset"
   ]
  },
  {
   "cell_type": "code",
   "execution_count": 2,
   "id": "799a3a77",
   "metadata": {},
   "outputs": [],
   "source": [
    "# load datasets for two subjects, Math and Portuguese\n",
    "mat = pd.read_csv(\"student-mat.csv\", sep=';', engine = 'python')\n",
    "por = pd.read_csv(\"student-por.csv\", sep=';', engine = 'python')"
   ]
  },
  {
   "cell_type": "markdown",
   "id": "0cefb0a8",
   "metadata": {},
   "source": [
    "## Data Preparation"
   ]
  },
  {
   "cell_type": "code",
   "execution_count": 3,
   "id": "30c107f3",
   "metadata": {
    "scrolled": true
   },
   "outputs": [
    {
     "data": {
      "text/html": [
       "<div>\n",
       "<style scoped>\n",
       "    .dataframe tbody tr th:only-of-type {\n",
       "        vertical-align: middle;\n",
       "    }\n",
       "\n",
       "    .dataframe tbody tr th {\n",
       "        vertical-align: top;\n",
       "    }\n",
       "\n",
       "    .dataframe thead th {\n",
       "        text-align: right;\n",
       "    }\n",
       "</style>\n",
       "<table border=\"1\" class=\"dataframe\">\n",
       "  <thead>\n",
       "    <tr style=\"text-align: right;\">\n",
       "      <th></th>\n",
       "      <th>school</th>\n",
       "      <th>sex</th>\n",
       "      <th>age</th>\n",
       "      <th>address</th>\n",
       "      <th>famsize</th>\n",
       "      <th>Pstatus</th>\n",
       "      <th>Medu</th>\n",
       "      <th>Fedu</th>\n",
       "      <th>Mjob</th>\n",
       "      <th>Fjob</th>\n",
       "      <th>...</th>\n",
       "      <th>famrel</th>\n",
       "      <th>freetime</th>\n",
       "      <th>goout</th>\n",
       "      <th>Dalc</th>\n",
       "      <th>Walc</th>\n",
       "      <th>health</th>\n",
       "      <th>absences</th>\n",
       "      <th>G1</th>\n",
       "      <th>G2</th>\n",
       "      <th>G3</th>\n",
       "    </tr>\n",
       "  </thead>\n",
       "  <tbody>\n",
       "    <tr>\n",
       "      <th>0</th>\n",
       "      <td>GP</td>\n",
       "      <td>F</td>\n",
       "      <td>18</td>\n",
       "      <td>U</td>\n",
       "      <td>GT3</td>\n",
       "      <td>A</td>\n",
       "      <td>4</td>\n",
       "      <td>4</td>\n",
       "      <td>at_home</td>\n",
       "      <td>teacher</td>\n",
       "      <td>...</td>\n",
       "      <td>4</td>\n",
       "      <td>3</td>\n",
       "      <td>4</td>\n",
       "      <td>1</td>\n",
       "      <td>1</td>\n",
       "      <td>3</td>\n",
       "      <td>6</td>\n",
       "      <td>5</td>\n",
       "      <td>6</td>\n",
       "      <td>6</td>\n",
       "    </tr>\n",
       "    <tr>\n",
       "      <th>1</th>\n",
       "      <td>GP</td>\n",
       "      <td>F</td>\n",
       "      <td>17</td>\n",
       "      <td>U</td>\n",
       "      <td>GT3</td>\n",
       "      <td>T</td>\n",
       "      <td>1</td>\n",
       "      <td>1</td>\n",
       "      <td>at_home</td>\n",
       "      <td>other</td>\n",
       "      <td>...</td>\n",
       "      <td>5</td>\n",
       "      <td>3</td>\n",
       "      <td>3</td>\n",
       "      <td>1</td>\n",
       "      <td>1</td>\n",
       "      <td>3</td>\n",
       "      <td>4</td>\n",
       "      <td>5</td>\n",
       "      <td>5</td>\n",
       "      <td>6</td>\n",
       "    </tr>\n",
       "    <tr>\n",
       "      <th>2</th>\n",
       "      <td>GP</td>\n",
       "      <td>F</td>\n",
       "      <td>15</td>\n",
       "      <td>U</td>\n",
       "      <td>LE3</td>\n",
       "      <td>T</td>\n",
       "      <td>1</td>\n",
       "      <td>1</td>\n",
       "      <td>at_home</td>\n",
       "      <td>other</td>\n",
       "      <td>...</td>\n",
       "      <td>4</td>\n",
       "      <td>3</td>\n",
       "      <td>2</td>\n",
       "      <td>2</td>\n",
       "      <td>3</td>\n",
       "      <td>3</td>\n",
       "      <td>10</td>\n",
       "      <td>7</td>\n",
       "      <td>8</td>\n",
       "      <td>10</td>\n",
       "    </tr>\n",
       "    <tr>\n",
       "      <th>3</th>\n",
       "      <td>GP</td>\n",
       "      <td>F</td>\n",
       "      <td>15</td>\n",
       "      <td>U</td>\n",
       "      <td>GT3</td>\n",
       "      <td>T</td>\n",
       "      <td>4</td>\n",
       "      <td>2</td>\n",
       "      <td>health</td>\n",
       "      <td>services</td>\n",
       "      <td>...</td>\n",
       "      <td>3</td>\n",
       "      <td>2</td>\n",
       "      <td>2</td>\n",
       "      <td>1</td>\n",
       "      <td>1</td>\n",
       "      <td>5</td>\n",
       "      <td>2</td>\n",
       "      <td>15</td>\n",
       "      <td>14</td>\n",
       "      <td>15</td>\n",
       "    </tr>\n",
       "    <tr>\n",
       "      <th>4</th>\n",
       "      <td>GP</td>\n",
       "      <td>F</td>\n",
       "      <td>16</td>\n",
       "      <td>U</td>\n",
       "      <td>GT3</td>\n",
       "      <td>T</td>\n",
       "      <td>3</td>\n",
       "      <td>3</td>\n",
       "      <td>other</td>\n",
       "      <td>other</td>\n",
       "      <td>...</td>\n",
       "      <td>4</td>\n",
       "      <td>3</td>\n",
       "      <td>2</td>\n",
       "      <td>1</td>\n",
       "      <td>2</td>\n",
       "      <td>5</td>\n",
       "      <td>4</td>\n",
       "      <td>6</td>\n",
       "      <td>10</td>\n",
       "      <td>10</td>\n",
       "    </tr>\n",
       "    <tr>\n",
       "      <th>...</th>\n",
       "      <td>...</td>\n",
       "      <td>...</td>\n",
       "      <td>...</td>\n",
       "      <td>...</td>\n",
       "      <td>...</td>\n",
       "      <td>...</td>\n",
       "      <td>...</td>\n",
       "      <td>...</td>\n",
       "      <td>...</td>\n",
       "      <td>...</td>\n",
       "      <td>...</td>\n",
       "      <td>...</td>\n",
       "      <td>...</td>\n",
       "      <td>...</td>\n",
       "      <td>...</td>\n",
       "      <td>...</td>\n",
       "      <td>...</td>\n",
       "      <td>...</td>\n",
       "      <td>...</td>\n",
       "      <td>...</td>\n",
       "      <td>...</td>\n",
       "    </tr>\n",
       "    <tr>\n",
       "      <th>1039</th>\n",
       "      <td>MS</td>\n",
       "      <td>F</td>\n",
       "      <td>19</td>\n",
       "      <td>R</td>\n",
       "      <td>GT3</td>\n",
       "      <td>T</td>\n",
       "      <td>2</td>\n",
       "      <td>3</td>\n",
       "      <td>services</td>\n",
       "      <td>other</td>\n",
       "      <td>...</td>\n",
       "      <td>5</td>\n",
       "      <td>4</td>\n",
       "      <td>2</td>\n",
       "      <td>1</td>\n",
       "      <td>2</td>\n",
       "      <td>5</td>\n",
       "      <td>4</td>\n",
       "      <td>10</td>\n",
       "      <td>11</td>\n",
       "      <td>10</td>\n",
       "    </tr>\n",
       "    <tr>\n",
       "      <th>1040</th>\n",
       "      <td>MS</td>\n",
       "      <td>F</td>\n",
       "      <td>18</td>\n",
       "      <td>U</td>\n",
       "      <td>LE3</td>\n",
       "      <td>T</td>\n",
       "      <td>3</td>\n",
       "      <td>1</td>\n",
       "      <td>teacher</td>\n",
       "      <td>services</td>\n",
       "      <td>...</td>\n",
       "      <td>4</td>\n",
       "      <td>3</td>\n",
       "      <td>4</td>\n",
       "      <td>1</td>\n",
       "      <td>1</td>\n",
       "      <td>1</td>\n",
       "      <td>4</td>\n",
       "      <td>15</td>\n",
       "      <td>15</td>\n",
       "      <td>16</td>\n",
       "    </tr>\n",
       "    <tr>\n",
       "      <th>1041</th>\n",
       "      <td>MS</td>\n",
       "      <td>F</td>\n",
       "      <td>18</td>\n",
       "      <td>U</td>\n",
       "      <td>GT3</td>\n",
       "      <td>T</td>\n",
       "      <td>1</td>\n",
       "      <td>1</td>\n",
       "      <td>other</td>\n",
       "      <td>other</td>\n",
       "      <td>...</td>\n",
       "      <td>1</td>\n",
       "      <td>1</td>\n",
       "      <td>1</td>\n",
       "      <td>1</td>\n",
       "      <td>1</td>\n",
       "      <td>5</td>\n",
       "      <td>6</td>\n",
       "      <td>11</td>\n",
       "      <td>12</td>\n",
       "      <td>9</td>\n",
       "    </tr>\n",
       "    <tr>\n",
       "      <th>1042</th>\n",
       "      <td>MS</td>\n",
       "      <td>M</td>\n",
       "      <td>17</td>\n",
       "      <td>U</td>\n",
       "      <td>LE3</td>\n",
       "      <td>T</td>\n",
       "      <td>3</td>\n",
       "      <td>1</td>\n",
       "      <td>services</td>\n",
       "      <td>services</td>\n",
       "      <td>...</td>\n",
       "      <td>2</td>\n",
       "      <td>4</td>\n",
       "      <td>5</td>\n",
       "      <td>3</td>\n",
       "      <td>4</td>\n",
       "      <td>2</td>\n",
       "      <td>6</td>\n",
       "      <td>10</td>\n",
       "      <td>10</td>\n",
       "      <td>10</td>\n",
       "    </tr>\n",
       "    <tr>\n",
       "      <th>1043</th>\n",
       "      <td>MS</td>\n",
       "      <td>M</td>\n",
       "      <td>18</td>\n",
       "      <td>R</td>\n",
       "      <td>LE3</td>\n",
       "      <td>T</td>\n",
       "      <td>3</td>\n",
       "      <td>2</td>\n",
       "      <td>services</td>\n",
       "      <td>other</td>\n",
       "      <td>...</td>\n",
       "      <td>4</td>\n",
       "      <td>4</td>\n",
       "      <td>1</td>\n",
       "      <td>3</td>\n",
       "      <td>4</td>\n",
       "      <td>5</td>\n",
       "      <td>4</td>\n",
       "      <td>10</td>\n",
       "      <td>11</td>\n",
       "      <td>11</td>\n",
       "    </tr>\n",
       "  </tbody>\n",
       "</table>\n",
       "<p>1044 rows × 33 columns</p>\n",
       "</div>"
      ],
      "text/plain": [
       "     school sex  age address famsize Pstatus  Medu  Fedu      Mjob      Fjob  \\\n",
       "0        GP   F   18       U     GT3       A     4     4   at_home   teacher   \n",
       "1        GP   F   17       U     GT3       T     1     1   at_home     other   \n",
       "2        GP   F   15       U     LE3       T     1     1   at_home     other   \n",
       "3        GP   F   15       U     GT3       T     4     2    health  services   \n",
       "4        GP   F   16       U     GT3       T     3     3     other     other   \n",
       "...     ...  ..  ...     ...     ...     ...   ...   ...       ...       ...   \n",
       "1039     MS   F   19       R     GT3       T     2     3  services     other   \n",
       "1040     MS   F   18       U     LE3       T     3     1   teacher  services   \n",
       "1041     MS   F   18       U     GT3       T     1     1     other     other   \n",
       "1042     MS   M   17       U     LE3       T     3     1  services  services   \n",
       "1043     MS   M   18       R     LE3       T     3     2  services     other   \n",
       "\n",
       "      ... famrel freetime  goout  Dalc  Walc health absences  G1  G2  G3  \n",
       "0     ...      4        3      4     1     1      3        6   5   6   6  \n",
       "1     ...      5        3      3     1     1      3        4   5   5   6  \n",
       "2     ...      4        3      2     2     3      3       10   7   8  10  \n",
       "3     ...      3        2      2     1     1      5        2  15  14  15  \n",
       "4     ...      4        3      2     1     2      5        4   6  10  10  \n",
       "...   ...    ...      ...    ...   ...   ...    ...      ...  ..  ..  ..  \n",
       "1039  ...      5        4      2     1     2      5        4  10  11  10  \n",
       "1040  ...      4        3      4     1     1      1        4  15  15  16  \n",
       "1041  ...      1        1      1     1     1      5        6  11  12   9  \n",
       "1042  ...      2        4      5     3     4      2        6  10  10  10  \n",
       "1043  ...      4        4      1     3     4      5        4  10  11  11  \n",
       "\n",
       "[1044 rows x 33 columns]"
      ]
     },
     "execution_count": 3,
     "metadata": {},
     "output_type": "execute_result"
    }
   ],
   "source": [
    "#Dataset Merging\n",
    "\n",
    "student = pd.concat([mat,por], ignore_index = True)\n",
    "student"
   ]
  },
  {
   "cell_type": "code",
   "execution_count": 4,
   "id": "a995da78",
   "metadata": {},
   "outputs": [
    {
     "data": {
      "text/html": [
       "<div>\n",
       "<style scoped>\n",
       "    .dataframe tbody tr th:only-of-type {\n",
       "        vertical-align: middle;\n",
       "    }\n",
       "\n",
       "    .dataframe tbody tr th {\n",
       "        vertical-align: top;\n",
       "    }\n",
       "\n",
       "    .dataframe thead th {\n",
       "        text-align: right;\n",
       "    }\n",
       "</style>\n",
       "<table border=\"1\" class=\"dataframe\">\n",
       "  <thead>\n",
       "    <tr style=\"text-align: right;\">\n",
       "      <th></th>\n",
       "      <th>School</th>\n",
       "      <th>Sex</th>\n",
       "      <th>Age</th>\n",
       "      <th>Address</th>\n",
       "      <th>Family Size</th>\n",
       "      <th>parent's cohabitation status</th>\n",
       "      <th>Mother's Education</th>\n",
       "      <th>Father's Education</th>\n",
       "      <th>Mother's Job</th>\n",
       "      <th>Father's Job</th>\n",
       "      <th>...</th>\n",
       "      <th>Family Relationship</th>\n",
       "      <th>Free Time</th>\n",
       "      <th>Going Out</th>\n",
       "      <th>Workday Alcohol Consumption</th>\n",
       "      <th>Weekend Alcohol Consumption</th>\n",
       "      <th>Health Status</th>\n",
       "      <th>Absences</th>\n",
       "      <th>G1</th>\n",
       "      <th>G2</th>\n",
       "      <th>G3</th>\n",
       "    </tr>\n",
       "  </thead>\n",
       "  <tbody>\n",
       "    <tr>\n",
       "      <th>0</th>\n",
       "      <td>GP</td>\n",
       "      <td>F</td>\n",
       "      <td>18</td>\n",
       "      <td>U</td>\n",
       "      <td>GT3</td>\n",
       "      <td>A</td>\n",
       "      <td>4</td>\n",
       "      <td>4</td>\n",
       "      <td>at_home</td>\n",
       "      <td>teacher</td>\n",
       "      <td>...</td>\n",
       "      <td>4</td>\n",
       "      <td>3</td>\n",
       "      <td>4</td>\n",
       "      <td>1</td>\n",
       "      <td>1</td>\n",
       "      <td>3</td>\n",
       "      <td>6</td>\n",
       "      <td>5</td>\n",
       "      <td>6</td>\n",
       "      <td>6</td>\n",
       "    </tr>\n",
       "  </tbody>\n",
       "</table>\n",
       "<p>1 rows × 33 columns</p>\n",
       "</div>"
      ],
      "text/plain": [
       "  School Sex  Age Address Family Size parent's cohabitation status  \\\n",
       "0     GP   F   18       U         GT3                            A   \n",
       "\n",
       "   Mother's Education  Father's Education Mother's Job Father's Job  ...  \\\n",
       "0                   4                   4      at_home      teacher  ...   \n",
       "\n",
       "  Family Relationship Free Time  Going Out  Workday Alcohol Consumption  \\\n",
       "0                   4         3          4                            1   \n",
       "\n",
       "   Weekend Alcohol Consumption Health Status Absences G1 G2 G3  \n",
       "0                            1             3        6  5  6  6  \n",
       "\n",
       "[1 rows x 33 columns]"
      ]
     },
     "execution_count": 4,
     "metadata": {},
     "output_type": "execute_result"
    }
   ],
   "source": [
    "# Rename Columns\n",
    "\n",
    "student.columns = [\"School\", \"Sex\", \"Age\", \"Address\", \"Family Size\", \"parent's cohabitation status\", \"Mother's Education\", \n",
    "                   \"Father's Education\", \"Mother's Job\", \"Father's Job\", \"Reason\",\"Guardian\", \"Travel Time\", \"Study Time\", \n",
    "                   \"Failures\", \"School Support\", \"Famly Support\", \"Paid Classes\", \"Activities\", \"Nursery\", \n",
    "                   \"Higher Education\", \"Internet\",\"Romantic\", \"Family Relationship\", \"Free Time\", \"Going Out\",\n",
    "                   \"Workday Alcohol Consumption\", \"Weekend Alcohol Consumption\", \"Health Status\", \"Absences\",\"G1\", \"G2\", \"G3\"]\n",
    "student.head(1)"
   ]
  },
  {
   "cell_type": "markdown",
   "id": "fc145fe0",
   "metadata": {},
   "source": [
    "# EXPLORATORY DATA ANALYSIS\n"
   ]
  },
  {
   "cell_type": "markdown",
   "id": "ccbb9587",
   "metadata": {},
   "source": [
    "## Understanding the data"
   ]
  },
  {
   "cell_type": "code",
   "execution_count": 5,
   "id": "098a0556",
   "metadata": {},
   "outputs": [
    {
     "data": {
      "text/html": [
       "<div>\n",
       "<style scoped>\n",
       "    .dataframe tbody tr th:only-of-type {\n",
       "        vertical-align: middle;\n",
       "    }\n",
       "\n",
       "    .dataframe tbody tr th {\n",
       "        vertical-align: top;\n",
       "    }\n",
       "\n",
       "    .dataframe thead th {\n",
       "        text-align: right;\n",
       "    }\n",
       "</style>\n",
       "<table border=\"1\" class=\"dataframe\">\n",
       "  <thead>\n",
       "    <tr style=\"text-align: right;\">\n",
       "      <th></th>\n",
       "      <th>School</th>\n",
       "      <th>Sex</th>\n",
       "      <th>Age</th>\n",
       "      <th>Address</th>\n",
       "      <th>Family Size</th>\n",
       "      <th>parent's cohabitation status</th>\n",
       "      <th>Mother's Education</th>\n",
       "      <th>Father's Education</th>\n",
       "      <th>Mother's Job</th>\n",
       "      <th>Father's Job</th>\n",
       "      <th>...</th>\n",
       "      <th>Family Relationship</th>\n",
       "      <th>Free Time</th>\n",
       "      <th>Going Out</th>\n",
       "      <th>Workday Alcohol Consumption</th>\n",
       "      <th>Weekend Alcohol Consumption</th>\n",
       "      <th>Health Status</th>\n",
       "      <th>Absences</th>\n",
       "      <th>G1</th>\n",
       "      <th>G2</th>\n",
       "      <th>G3</th>\n",
       "    </tr>\n",
       "  </thead>\n",
       "  <tbody>\n",
       "    <tr>\n",
       "      <th>0</th>\n",
       "      <td>GP</td>\n",
       "      <td>F</td>\n",
       "      <td>18</td>\n",
       "      <td>U</td>\n",
       "      <td>GT3</td>\n",
       "      <td>A</td>\n",
       "      <td>4</td>\n",
       "      <td>4</td>\n",
       "      <td>at_home</td>\n",
       "      <td>teacher</td>\n",
       "      <td>...</td>\n",
       "      <td>4</td>\n",
       "      <td>3</td>\n",
       "      <td>4</td>\n",
       "      <td>1</td>\n",
       "      <td>1</td>\n",
       "      <td>3</td>\n",
       "      <td>6</td>\n",
       "      <td>5</td>\n",
       "      <td>6</td>\n",
       "      <td>6</td>\n",
       "    </tr>\n",
       "    <tr>\n",
       "      <th>1</th>\n",
       "      <td>GP</td>\n",
       "      <td>F</td>\n",
       "      <td>17</td>\n",
       "      <td>U</td>\n",
       "      <td>GT3</td>\n",
       "      <td>T</td>\n",
       "      <td>1</td>\n",
       "      <td>1</td>\n",
       "      <td>at_home</td>\n",
       "      <td>other</td>\n",
       "      <td>...</td>\n",
       "      <td>5</td>\n",
       "      <td>3</td>\n",
       "      <td>3</td>\n",
       "      <td>1</td>\n",
       "      <td>1</td>\n",
       "      <td>3</td>\n",
       "      <td>4</td>\n",
       "      <td>5</td>\n",
       "      <td>5</td>\n",
       "      <td>6</td>\n",
       "    </tr>\n",
       "    <tr>\n",
       "      <th>2</th>\n",
       "      <td>GP</td>\n",
       "      <td>F</td>\n",
       "      <td>15</td>\n",
       "      <td>U</td>\n",
       "      <td>LE3</td>\n",
       "      <td>T</td>\n",
       "      <td>1</td>\n",
       "      <td>1</td>\n",
       "      <td>at_home</td>\n",
       "      <td>other</td>\n",
       "      <td>...</td>\n",
       "      <td>4</td>\n",
       "      <td>3</td>\n",
       "      <td>2</td>\n",
       "      <td>2</td>\n",
       "      <td>3</td>\n",
       "      <td>3</td>\n",
       "      <td>10</td>\n",
       "      <td>7</td>\n",
       "      <td>8</td>\n",
       "      <td>10</td>\n",
       "    </tr>\n",
       "    <tr>\n",
       "      <th>3</th>\n",
       "      <td>GP</td>\n",
       "      <td>F</td>\n",
       "      <td>15</td>\n",
       "      <td>U</td>\n",
       "      <td>GT3</td>\n",
       "      <td>T</td>\n",
       "      <td>4</td>\n",
       "      <td>2</td>\n",
       "      <td>health</td>\n",
       "      <td>services</td>\n",
       "      <td>...</td>\n",
       "      <td>3</td>\n",
       "      <td>2</td>\n",
       "      <td>2</td>\n",
       "      <td>1</td>\n",
       "      <td>1</td>\n",
       "      <td>5</td>\n",
       "      <td>2</td>\n",
       "      <td>15</td>\n",
       "      <td>14</td>\n",
       "      <td>15</td>\n",
       "    </tr>\n",
       "    <tr>\n",
       "      <th>4</th>\n",
       "      <td>GP</td>\n",
       "      <td>F</td>\n",
       "      <td>16</td>\n",
       "      <td>U</td>\n",
       "      <td>GT3</td>\n",
       "      <td>T</td>\n",
       "      <td>3</td>\n",
       "      <td>3</td>\n",
       "      <td>other</td>\n",
       "      <td>other</td>\n",
       "      <td>...</td>\n",
       "      <td>4</td>\n",
       "      <td>3</td>\n",
       "      <td>2</td>\n",
       "      <td>1</td>\n",
       "      <td>2</td>\n",
       "      <td>5</td>\n",
       "      <td>4</td>\n",
       "      <td>6</td>\n",
       "      <td>10</td>\n",
       "      <td>10</td>\n",
       "    </tr>\n",
       "  </tbody>\n",
       "</table>\n",
       "<p>5 rows × 33 columns</p>\n",
       "</div>"
      ],
      "text/plain": [
       "  School Sex  Age Address Family Size parent's cohabitation status  \\\n",
       "0     GP   F   18       U         GT3                            A   \n",
       "1     GP   F   17       U         GT3                            T   \n",
       "2     GP   F   15       U         LE3                            T   \n",
       "3     GP   F   15       U         GT3                            T   \n",
       "4     GP   F   16       U         GT3                            T   \n",
       "\n",
       "   Mother's Education  Father's Education Mother's Job Father's Job  ...  \\\n",
       "0                   4                   4      at_home      teacher  ...   \n",
       "1                   1                   1      at_home        other  ...   \n",
       "2                   1                   1      at_home        other  ...   \n",
       "3                   4                   2       health     services  ...   \n",
       "4                   3                   3        other        other  ...   \n",
       "\n",
       "  Family Relationship Free Time  Going Out  Workday Alcohol Consumption  \\\n",
       "0                   4         3          4                            1   \n",
       "1                   5         3          3                            1   \n",
       "2                   4         3          2                            2   \n",
       "3                   3         2          2                            1   \n",
       "4                   4         3          2                            1   \n",
       "\n",
       "   Weekend Alcohol Consumption Health Status Absences  G1  G2  G3  \n",
       "0                            1             3        6   5   6   6  \n",
       "1                            1             3        4   5   5   6  \n",
       "2                            3             3       10   7   8  10  \n",
       "3                            1             5        2  15  14  15  \n",
       "4                            2             5        4   6  10  10  \n",
       "\n",
       "[5 rows x 33 columns]"
      ]
     },
     "execution_count": 5,
     "metadata": {},
     "output_type": "execute_result"
    }
   ],
   "source": [
    "student.head()"
   ]
  },
  {
   "cell_type": "code",
   "execution_count": 6,
   "id": "2883941b",
   "metadata": {},
   "outputs": [
    {
     "data": {
      "text/html": [
       "<div>\n",
       "<style scoped>\n",
       "    .dataframe tbody tr th:only-of-type {\n",
       "        vertical-align: middle;\n",
       "    }\n",
       "\n",
       "    .dataframe tbody tr th {\n",
       "        vertical-align: top;\n",
       "    }\n",
       "\n",
       "    .dataframe thead th {\n",
       "        text-align: right;\n",
       "    }\n",
       "</style>\n",
       "<table border=\"1\" class=\"dataframe\">\n",
       "  <thead>\n",
       "    <tr style=\"text-align: right;\">\n",
       "      <th></th>\n",
       "      <th>School</th>\n",
       "      <th>Sex</th>\n",
       "      <th>Age</th>\n",
       "      <th>Address</th>\n",
       "      <th>Family Size</th>\n",
       "      <th>parent's cohabitation status</th>\n",
       "      <th>Mother's Education</th>\n",
       "      <th>Father's Education</th>\n",
       "      <th>Mother's Job</th>\n",
       "      <th>Father's Job</th>\n",
       "      <th>...</th>\n",
       "      <th>Family Relationship</th>\n",
       "      <th>Free Time</th>\n",
       "      <th>Going Out</th>\n",
       "      <th>Workday Alcohol Consumption</th>\n",
       "      <th>Weekend Alcohol Consumption</th>\n",
       "      <th>Health Status</th>\n",
       "      <th>Absences</th>\n",
       "      <th>G1</th>\n",
       "      <th>G2</th>\n",
       "      <th>G3</th>\n",
       "    </tr>\n",
       "  </thead>\n",
       "  <tbody>\n",
       "    <tr>\n",
       "      <th>1039</th>\n",
       "      <td>MS</td>\n",
       "      <td>F</td>\n",
       "      <td>19</td>\n",
       "      <td>R</td>\n",
       "      <td>GT3</td>\n",
       "      <td>T</td>\n",
       "      <td>2</td>\n",
       "      <td>3</td>\n",
       "      <td>services</td>\n",
       "      <td>other</td>\n",
       "      <td>...</td>\n",
       "      <td>5</td>\n",
       "      <td>4</td>\n",
       "      <td>2</td>\n",
       "      <td>1</td>\n",
       "      <td>2</td>\n",
       "      <td>5</td>\n",
       "      <td>4</td>\n",
       "      <td>10</td>\n",
       "      <td>11</td>\n",
       "      <td>10</td>\n",
       "    </tr>\n",
       "    <tr>\n",
       "      <th>1040</th>\n",
       "      <td>MS</td>\n",
       "      <td>F</td>\n",
       "      <td>18</td>\n",
       "      <td>U</td>\n",
       "      <td>LE3</td>\n",
       "      <td>T</td>\n",
       "      <td>3</td>\n",
       "      <td>1</td>\n",
       "      <td>teacher</td>\n",
       "      <td>services</td>\n",
       "      <td>...</td>\n",
       "      <td>4</td>\n",
       "      <td>3</td>\n",
       "      <td>4</td>\n",
       "      <td>1</td>\n",
       "      <td>1</td>\n",
       "      <td>1</td>\n",
       "      <td>4</td>\n",
       "      <td>15</td>\n",
       "      <td>15</td>\n",
       "      <td>16</td>\n",
       "    </tr>\n",
       "    <tr>\n",
       "      <th>1041</th>\n",
       "      <td>MS</td>\n",
       "      <td>F</td>\n",
       "      <td>18</td>\n",
       "      <td>U</td>\n",
       "      <td>GT3</td>\n",
       "      <td>T</td>\n",
       "      <td>1</td>\n",
       "      <td>1</td>\n",
       "      <td>other</td>\n",
       "      <td>other</td>\n",
       "      <td>...</td>\n",
       "      <td>1</td>\n",
       "      <td>1</td>\n",
       "      <td>1</td>\n",
       "      <td>1</td>\n",
       "      <td>1</td>\n",
       "      <td>5</td>\n",
       "      <td>6</td>\n",
       "      <td>11</td>\n",
       "      <td>12</td>\n",
       "      <td>9</td>\n",
       "    </tr>\n",
       "    <tr>\n",
       "      <th>1042</th>\n",
       "      <td>MS</td>\n",
       "      <td>M</td>\n",
       "      <td>17</td>\n",
       "      <td>U</td>\n",
       "      <td>LE3</td>\n",
       "      <td>T</td>\n",
       "      <td>3</td>\n",
       "      <td>1</td>\n",
       "      <td>services</td>\n",
       "      <td>services</td>\n",
       "      <td>...</td>\n",
       "      <td>2</td>\n",
       "      <td>4</td>\n",
       "      <td>5</td>\n",
       "      <td>3</td>\n",
       "      <td>4</td>\n",
       "      <td>2</td>\n",
       "      <td>6</td>\n",
       "      <td>10</td>\n",
       "      <td>10</td>\n",
       "      <td>10</td>\n",
       "    </tr>\n",
       "    <tr>\n",
       "      <th>1043</th>\n",
       "      <td>MS</td>\n",
       "      <td>M</td>\n",
       "      <td>18</td>\n",
       "      <td>R</td>\n",
       "      <td>LE3</td>\n",
       "      <td>T</td>\n",
       "      <td>3</td>\n",
       "      <td>2</td>\n",
       "      <td>services</td>\n",
       "      <td>other</td>\n",
       "      <td>...</td>\n",
       "      <td>4</td>\n",
       "      <td>4</td>\n",
       "      <td>1</td>\n",
       "      <td>3</td>\n",
       "      <td>4</td>\n",
       "      <td>5</td>\n",
       "      <td>4</td>\n",
       "      <td>10</td>\n",
       "      <td>11</td>\n",
       "      <td>11</td>\n",
       "    </tr>\n",
       "  </tbody>\n",
       "</table>\n",
       "<p>5 rows × 33 columns</p>\n",
       "</div>"
      ],
      "text/plain": [
       "     School Sex  Age Address Family Size parent's cohabitation status  \\\n",
       "1039     MS   F   19       R         GT3                            T   \n",
       "1040     MS   F   18       U         LE3                            T   \n",
       "1041     MS   F   18       U         GT3                            T   \n",
       "1042     MS   M   17       U         LE3                            T   \n",
       "1043     MS   M   18       R         LE3                            T   \n",
       "\n",
       "      Mother's Education  Father's Education Mother's Job Father's Job  ...  \\\n",
       "1039                   2                   3     services        other  ...   \n",
       "1040                   3                   1      teacher     services  ...   \n",
       "1041                   1                   1        other        other  ...   \n",
       "1042                   3                   1     services     services  ...   \n",
       "1043                   3                   2     services        other  ...   \n",
       "\n",
       "     Family Relationship Free Time  Going Out  Workday Alcohol Consumption  \\\n",
       "1039                   5         4          2                            1   \n",
       "1040                   4         3          4                            1   \n",
       "1041                   1         1          1                            1   \n",
       "1042                   2         4          5                            3   \n",
       "1043                   4         4          1                            3   \n",
       "\n",
       "      Weekend Alcohol Consumption Health Status Absences  G1  G2  G3  \n",
       "1039                            2             5        4  10  11  10  \n",
       "1040                            1             1        4  15  15  16  \n",
       "1041                            1             5        6  11  12   9  \n",
       "1042                            4             2        6  10  10  10  \n",
       "1043                            4             5        4  10  11  11  \n",
       "\n",
       "[5 rows x 33 columns]"
      ]
     },
     "execution_count": 6,
     "metadata": {},
     "output_type": "execute_result"
    }
   ],
   "source": [
    "student.tail()"
   ]
  },
  {
   "cell_type": "code",
   "execution_count": 7,
   "id": "18dd67b9",
   "metadata": {},
   "outputs": [
    {
     "data": {
      "text/plain": [
       "(1044, 33)"
      ]
     },
     "execution_count": 7,
     "metadata": {},
     "output_type": "execute_result"
    }
   ],
   "source": [
    "student.shape"
   ]
  },
  {
   "cell_type": "code",
   "execution_count": 8,
   "id": "f28b8d1c",
   "metadata": {},
   "outputs": [
    {
     "data": {
      "text/plain": [
       "Index(['School', 'Sex', 'Age', 'Address', 'Family Size',\n",
       "       'parent's cohabitation status', 'Mother's Education',\n",
       "       'Father's Education', 'Mother's Job', 'Father's Job', 'Reason',\n",
       "       'Guardian', 'Travel Time', 'Study Time', 'Failures', 'School Support',\n",
       "       'Famly Support', 'Paid Classes', 'Activities', 'Nursery',\n",
       "       'Higher Education', 'Internet', 'Romantic', 'Family Relationship',\n",
       "       'Free Time', 'Going Out', 'Workday Alcohol Consumption',\n",
       "       'Weekend Alcohol Consumption', 'Health Status', 'Absences', 'G1', 'G2',\n",
       "       'G3'],\n",
       "      dtype='object')"
      ]
     },
     "execution_count": 8,
     "metadata": {},
     "output_type": "execute_result"
    }
   ],
   "source": [
    "student.columns"
   ]
  },
  {
   "cell_type": "code",
   "execution_count": 9,
   "id": "a441e409",
   "metadata": {},
   "outputs": [
    {
     "data": {
      "text/plain": [
       "School                           2\n",
       "Sex                              2\n",
       "Age                              8\n",
       "Address                          2\n",
       "Family Size                      2\n",
       "parent's cohabitation status     2\n",
       "Mother's Education               5\n",
       "Father's Education               5\n",
       "Mother's Job                     5\n",
       "Father's Job                     5\n",
       "Reason                           4\n",
       "Guardian                         3\n",
       "Travel Time                      4\n",
       "Study Time                       4\n",
       "Failures                         4\n",
       "School Support                   2\n",
       "Famly Support                    2\n",
       "Paid Classes                     2\n",
       "Activities                       2\n",
       "Nursery                          2\n",
       "Higher Education                 2\n",
       "Internet                         2\n",
       "Romantic                         2\n",
       "Family Relationship              5\n",
       "Free Time                        5\n",
       "Going Out                        5\n",
       "Workday Alcohol Consumption      5\n",
       "Weekend Alcohol Consumption      5\n",
       "Health Status                    5\n",
       "Absences                        35\n",
       "G1                              18\n",
       "G2                              17\n",
       "G3                              19\n",
       "dtype: int64"
      ]
     },
     "execution_count": 9,
     "metadata": {},
     "output_type": "execute_result"
    }
   ],
   "source": [
    "student.nunique()\n",
    "#since we have quite a few unique values we can easily convert them to category data type for memory opetimization\n",
    "# we can also encode them using one hot encording and binary label"
   ]
  },
  {
   "cell_type": "markdown",
   "id": "784e847c",
   "metadata": {},
   "source": [
    "## Cleaning the Data"
   ]
  },
  {
   "cell_type": "code",
   "execution_count": 10,
   "id": "de9628f6",
   "metadata": {},
   "outputs": [
    {
     "data": {
      "text/plain": [
       "array([False])"
      ]
     },
     "execution_count": 10,
     "metadata": {},
     "output_type": "execute_result"
    }
   ],
   "source": [
    "#Checking for duplicates\n",
    "\n",
    "student.duplicated().sum()\n",
    "student.duplicated().unique()"
   ]
  },
  {
   "cell_type": "code",
   "execution_count": 11,
   "id": "8791c7f5",
   "metadata": {},
   "outputs": [
    {
     "data": {
      "text/plain": [
       "School                          0\n",
       "Sex                             0\n",
       "Age                             0\n",
       "Address                         0\n",
       "Family Size                     0\n",
       "parent's cohabitation status    0\n",
       "Mother's Education              0\n",
       "Father's Education              0\n",
       "Mother's Job                    0\n",
       "Father's Job                    0\n",
       "Reason                          0\n",
       "Guardian                        0\n",
       "Travel Time                     0\n",
       "Study Time                      0\n",
       "Failures                        0\n",
       "School Support                  0\n",
       "Famly Support                   0\n",
       "Paid Classes                    0\n",
       "Activities                      0\n",
       "Nursery                         0\n",
       "Higher Education                0\n",
       "Internet                        0\n",
       "Romantic                        0\n",
       "Family Relationship             0\n",
       "Free Time                       0\n",
       "Going Out                       0\n",
       "Workday Alcohol Consumption     0\n",
       "Weekend Alcohol Consumption     0\n",
       "Health Status                   0\n",
       "Absences                        0\n",
       "G1                              0\n",
       "G2                              0\n",
       "G3                              0\n",
       "dtype: int64"
      ]
     },
     "execution_count": 11,
     "metadata": {},
     "output_type": "execute_result"
    }
   ],
   "source": [
    "# checking for missing/ null values\n",
    "\n",
    "student.isnull().sum()"
   ]
  },
  {
   "cell_type": "markdown",
   "id": "fc41eeac",
   "metadata": {},
   "source": [
    "## Analysis of Relationship between variables"
   ]
  },
  {
   "cell_type": "code",
   "execution_count": 12,
   "id": "1e73d21c",
   "metadata": {},
   "outputs": [
    {
     "data": {
      "text/plain": [
       "G3                             1.000000\n",
       "G2                             0.910743\n",
       "G1                             0.809142\n",
       "Mother's Education             0.201472\n",
       "Study Time                     0.161629\n",
       "Father's Education             0.159796\n",
       "Family Relationship            0.054461\n",
       "Absences                      -0.045671\n",
       "Free Time                     -0.064890\n",
       "Health Status                 -0.080079\n",
       "Going Out                     -0.097877\n",
       "Travel Time                   -0.102627\n",
       "Weekend Alcohol Consumption   -0.115740\n",
       "Age                           -0.125282\n",
       "Workday Alcohol Consumption   -0.129642\n",
       "Failures                      -0.383145\n",
       "Name: G3, dtype: float64"
      ]
     },
     "execution_count": 12,
     "metadata": {},
     "output_type": "execute_result"
    }
   ],
   "source": [
    "corr_matrix = student.corr()\n",
    "#Now let’s look at how much each attribute correlates with the FINAL grade:\n",
    "corr_matrix[\"G3\"].sort_values(ascending=False)"
   ]
  },
  {
   "cell_type": "code",
   "execution_count": 13,
   "id": "7ba1f086",
   "metadata": {},
   "outputs": [
    {
     "data": {
      "image/png": "[encoded data removed]",
      "text/plain": [
       "<Figure size 1008x864 with 2 Axes>"
      ]
     },
     "metadata": {},
     "output_type": "display_data"
    }
   ],
   "source": [
    "#Correlation coefficient Matrix\n",
    "\n",
    "plt.figure(figsize=(14, 12))\n",
    "sns.heatmap(student.corr(), annot=True,)\n",
    "plt.show()"
   ]
  },
  {
   "cell_type": "markdown",
   "id": "fdcf0665",
   "metadata": {},
   "source": [
    "From all the methods and all the codes that I applied to the data;\n",
    "\n",
    "Mother’s education, Father’s education, study time affect grades positively when they are high.\n",
    "Travel time, failures, going out time, free time, absences, alcohol intake affect grades negatively when they are high.\n",
    "Other attributes have minor affects.\n",
    "\n",
    "it seems g1, g2 will be strong predictor of g3, but hopefully some of the other features will help predict\n",
    "\n",
    "it looks like not many of the features are correlated except g1,g2,g3 so g1 predit both g2 and g3,g2 predict g1 and g3 and g3 predict g1 and g2, they are highly correlated bcos they are the cousre grade meaning people that are doing well in cos, early in the course are most likely doing well late in the course and vise versa\n",
    "\n",
    "other correlation includes the mother education which is correlated with the fater education level which makes sense the weekend alchol comsumption have a positive correlations with wheter or not they are going out and also positive correlation with the daytime alcohol comsumption.\n",
    "\n",
    "failures is negatively correlated with G1,G2 and g3\n",
    "\n",
    "study time and weekend alcohol comsumption are also negatively correlated bcos students that are engaing in weekend alcohol consumption are loosing out on study time"
   ]
  },
  {
   "cell_type": "code",
   "execution_count": 14,
   "id": "752ea4e4",
   "metadata": {},
   "outputs": [
    {
     "data": {
      "image/png": "[encoded data removed]",
      "text/plain": [
       "<Figure size 720x360 with 1 Axes>"
      ]
     },
     "metadata": {},
     "output_type": "display_data"
    }
   ],
   "source": [
    "#plot frequency distribution\n",
    "\n",
    "student[\"G1\"].hist(bins=10, figsize=(10,5))\n",
    "#plt.hist(student[\"G1\"])\n",
    "plt.xlabel(\"First Period Grade\")\n",
    "plt.ylabel(\"Number of students\")\n",
    "plt.title(\"Histogram to represent number of student according to their first period grade\")\n",
    "plt.rcParams.update({'font.size': 10})\n",
    "plt.show()"
   ]
  },
  {
   "cell_type": "code",
   "execution_count": 15,
   "id": "e68cfa4e",
   "metadata": {},
   "outputs": [
    {
     "data": {
      "image/png": "[encoded data removed]",
      "text/plain": [
       "<Figure size 720x360 with 1 Axes>"
      ]
     },
     "metadata": {},
     "output_type": "display_data"
    }
   ],
   "source": [
    "student[\"G2\"].hist(bins=10, figsize=(10,5))\n",
    "plt.xlabel(\"Second Period Grade\")\n",
    "plt.ylabel(\"Number of students\")\n",
    "plt.title(\"Histogram to represent number of student according to their second period grade\")\n",
    "plt.rcParams.update({'font.size': 10})\n",
    "plt.show()"
   ]
  },
  {
   "cell_type": "code",
   "execution_count": 16,
   "id": "f26a9655",
   "metadata": {},
   "outputs": [
    {
     "data": {
      "image/png": "[encoded data removed]",
      "text/plain": [
       "<Figure size 720x360 with 1 Axes>"
      ]
     },
     "metadata": {},
     "output_type": "display_data"
    }
   ],
   "source": [
    "student[\"G3\"].hist(bins=10, figsize=(10,5))\n",
    "plt.xlabel(\"Final Period Grade (G3)\")\n",
    "plt.ylabel(\"Number of students\")\n",
    "plt.title(\"Histogram to represent number of student according to their final period grade (G3)\")\n",
    "plt.rcParams.update({'font.size': 10})\n",
    "plt.show()"
   ]
  },
  {
   "cell_type": "code",
   "execution_count": 17,
   "id": "b1c916bd",
   "metadata": {},
   "outputs": [
    {
     "data": {
      "image/png": "[encoded data removed]",
      "text/plain": [
       "<Figure size 432x288 with 1 Axes>"
      ]
     },
     "metadata": {},
     "output_type": "display_data"
    }
   ],
   "source": [
    "sns.regplot(x=\"G1\", y=\"G3\", data=student)\n",
    "\n",
    "output = None"
   ]
  },
  {
   "cell_type": "code",
   "execution_count": 18,
   "id": "68788b08",
   "metadata": {},
   "outputs": [
    {
     "data": {
      "image/png": "[encoded data removed]",
      "text/plain": [
       "<Figure size 1440x1080 with 16 Axes>"
      ]
     },
     "metadata": {},
     "output_type": "display_data"
    }
   ],
   "source": [
    "student.hist(bins=50, figsize=(20,15))\n",
    "plt.show()\n",
    "\n",
    "output = None"
   ]
  },
  {
   "cell_type": "code",
   "execution_count": 19,
   "id": "85e2ed23",
   "metadata": {},
   "outputs": [
    {
     "data": {
      "image/png": "[encoded data removed]",
      "text/plain": [
       "<Figure size 720x576 with 1 Axes>"
      ]
     },
     "metadata": {},
     "output_type": "display_data"
    }
   ],
   "source": [
    "#Checking The School Column\n",
    "#plt.figure(figsize=(8,8))\n",
    "plt.figure(figsize=(10,8))\n",
    "sns.countplot(x='School', data=student, palette='flare',)\n",
    "plt.xlabel(\"Schools\")\n",
    "plt.ylabel(\"Number of students\")\n",
    "plt.title(\"Distribution of Students to Schools\")\n",
    "sns.countplot(x='School', data=student, palette='flare',)\n",
    "plt.show()\n",
    "\n",
    "#this dataset was collected from two schools, GP as Gabriel Pereira and MS as Mousinho da Silveira. Gabriel Pereira’s students \n",
    "#are greater than Mousinho da Silveira’s students in this dataset."
   ]
  },
  {
   "cell_type": "code",
   "execution_count": 20,
   "id": "1a4679be",
   "metadata": {},
   "outputs": [
    {
     "data": {
      "image/png": "[encoded data removed]",
      "text/plain": [
       "<Figure size 720x576 with 1 Axes>"
      ]
     },
     "metadata": {},
     "output_type": "display_data"
    }
   ],
   "source": [
    "plt.figure(figsize=(10,8))\n",
    "sns.countplot(x='G3', data=student, palette='flare',)\n",
    "plt.xlabel(\"Final Period Grade\")\n",
    "plt.ylabel(\"Number of students\")\n",
    "plt.title(\"Distribution of Final Grade\")\n",
    "plt.rcParams.update({'font.size': 10})\n",
    "plt.show()\n",
    "\n"
   ]
  },
  {
   "cell_type": "code",
   "execution_count": 21,
   "id": "96cec220",
   "metadata": {},
   "outputs": [
    {
     "data": {
      "image/png": "[encoded data removed]",
      "text/plain": [
       "<Figure size 432x288 with 1 Axes>"
      ]
     },
     "metadata": {},
     "output_type": "display_data"
    }
   ],
   "source": [
    "#Checking The Sex Column\n",
    "gender = {'F':'Female',\n",
    "            'M':'Male'}\n",
    "student['Sex'] = student['Sex'].map(gender)\n",
    "sns.countplot(x=student['Sex'], palette='flare')\n",
    "plt.show()\n",
    "\n",
    "#female students are greater than male students."
   ]
  },
  {
   "cell_type": "code",
   "execution_count": 22,
   "id": "65c6d64f",
   "metadata": {},
   "outputs": [
    {
     "data": {
      "image/png": "[encoded data removed]",
      "text/plain": [
       "<Figure size 720x432 with 1 Axes>"
      ]
     },
     "metadata": {},
     "output_type": "display_data"
    }
   ],
   "source": [
    "gender_counts = student['Sex'].value_counts()\n",
    "plt.figure(figsize=(10,6))\n",
    "plt.ylabel(\"Number of students\")\n",
    "plt.title('Distribution of Student according to Gender')\n",
    "plt.pie(gender_counts, labels=gender_counts.index, autopct='%1.1f%%', startangle=180);\n",
    "\n"
   ]
  },
  {
   "cell_type": "code",
   "execution_count": 23,
   "id": "8840c56e",
   "metadata": {},
   "outputs": [
    {
     "data": {
      "image/png": "[encoded data removed]",
      "text/plain": [
       "<Figure size 720x432 with 1 Axes>"
      ]
     },
     "metadata": {},
     "output_type": "display_data"
    }
   ],
   "source": [
    "\n",
    "plt.figure(figsize=(10,6))\n",
    "plt.ylabel(\"Number of students\")\n",
    "plt.title('Distribution of Gender according to School')\n",
    "sns.countplot(x='School', hue='Sex', data=student, palette='flare')\n",
    "plt.show()\n",
    "\n",
    "# female students in Gabriel Pereira outnumber male students. Similarly, at Mousinho da Silveira, female students are greater than male students."
   ]
  },
  {
   "cell_type": "code",
   "execution_count": 24,
   "id": "92c1b79c",
   "metadata": {},
   "outputs": [
    {
     "data": {
      "image/png": "[encoded data removed]",
      "text/plain": [
       "<Figure size 720x432 with 1 Axes>"
      ]
     },
     "metadata": {},
     "output_type": "display_data"
    }
   ],
   "source": [
    "plt.figure(figsize=(10,6))\n",
    "plt.ylabel(\"Number of students\")\n",
    "plt.title('Distribution of Gender according to Final Grade(G3)')\n",
    "sns.countplot(x='G3', hue='Sex', data=student, palette='flare')\n",
    "plt.show()\n"
   ]
  },
  {
   "cell_type": "code",
   "execution_count": 25,
   "id": "17fec70e",
   "metadata": {},
   "outputs": [
    {
     "data": {
      "image/png": "[encoded data removed]",
      "text/plain": [
       "<Figure size 720x432 with 1 Axes>"
      ]
     },
     "metadata": {},
     "output_type": "display_data"
    }
   ],
   "source": [
    "#Checking The Age Column\n",
    "plt.figure(figsize=(10,6))\n",
    "plt.ylabel(\"Number of students\")\n",
    "plt.title('Age of Students Count')\n",
    "sns.countplot(x=student['Age'], palette='flare')\n",
    "plt.show()"
   ]
  },
  {
   "cell_type": "code",
   "execution_count": 26,
   "id": "06cf562e",
   "metadata": {},
   "outputs": [
    {
     "data": {
      "text/plain": [
       "<Figure size 720x432 with 0 Axes>"
      ]
     },
     "metadata": {},
     "output_type": "display_data"
    },
    {
     "data": {
      "image/png": "[encoded data removed]",
      "text/plain": [
       "<Figure size 2949.38x360 with 8 Axes>"
      ]
     },
     "metadata": {},
     "output_type": "display_data"
    }
   ],
   "source": [
    "plt.figure(figsize=(10,6))\n",
    "sns.catplot(x='School', hue='Sex', col='Age', data=student, kind='count', palette='flare')\n",
    "plt.ylabel(\"Number of students\")\n",
    "plt.title('Distribution of Gender according to Final Grade(G3)')\n",
    "plt.show()"
   ]
  },
  {
   "cell_type": "markdown",
   "id": "65e4f034",
   "metadata": {},
   "source": [
    "# Descriptive Analysis"
   ]
  },
  {
   "cell_type": "markdown",
   "id": "0d4e0326",
   "metadata": {},
   "source": [
    "### MEAN"
   ]
  },
  {
   "cell_type": "code",
   "execution_count": 27,
   "id": "4b6fdbd1",
   "metadata": {},
   "outputs": [
    {
     "name": "stdout",
     "output_type": "stream",
     "text": [
      "The mean of G1 is | 11.21360153256705\n",
      "The mean of G2 is | 11.246168582375478\n",
      "The mean of G3 is | 11.341954022988507\n",
      "The mean of AGE is | 16.726053639846743\n",
      "The mean of Study Time is | 1.9703065134099618\n"
     ]
    }
   ],
   "source": [
    "# mean \n",
    "print(\"The mean of G1 is | {}\".format(Exploratory_Data_Analysis.mean_score(student['G1'])))\n",
    "print(\"The mean of G2 is | {}\".format(Exploratory_Data_Analysis.mean_score(student['G2'])))\n",
    "print(\"The mean of G3 is | {}\".format(Exploratory_Data_Analysis.mean_score(student['G3'])))\n",
    "print(\"The mean of AGE is | {}\".format(Exploratory_Data_Analysis.mean_score(student['Age'])))\n",
    "print(\"The mean of Study Time is | {}\".format(Exploratory_Data_Analysis.mean_score(student['Study Time'])))"
   ]
  },
  {
   "cell_type": "markdown",
   "id": "df010540",
   "metadata": {},
   "source": [
    "### MEDIAN"
   ]
  },
  {
   "cell_type": "code",
   "execution_count": 28,
   "id": "81d94bc1",
   "metadata": {},
   "outputs": [
    {
     "name": "stdout",
     "output_type": "stream",
     "text": [
      "The median of G1 is | 11.0\n",
      "The median of G2 is | 11.0\n",
      "The median of G3 is | 11.0\n",
      "The median of AGE is | 17.0\n",
      "The median of Study Time is | 2.0\n"
     ]
    }
   ],
   "source": [
    "print(\"The median of G1 is | {}\".format(Exploratory_Data_Analysis.median_scores(student['G1'])))\n",
    "print(\"The median of G2 is | {}\".format(Exploratory_Data_Analysis.median_scores(student['G2'])))\n",
    "print(\"The median of G3 is | {}\".format(Exploratory_Data_Analysis.median_scores(student['G3'])))\n",
    "print(\"The median of AGE is | {}\".format(Exploratory_Data_Analysis.median_scores(student['Age'])))\n",
    "print(\"The median of Study Time is | {}\".format(Exploratory_Data_Analysis.median_scores(student['Study Time'])))"
   ]
  },
  {
   "cell_type": "markdown",
   "id": "e72ca22f",
   "metadata": {},
   "source": [
    "### STANDARD DEVIATION"
   ]
  },
  {
   "cell_type": "code",
   "execution_count": 29,
   "id": "b24191b6",
   "metadata": {},
   "outputs": [
    {
     "name": "stdout",
     "output_type": "stream",
     "text": [
      "The standard deviation of G1 is | 2.9819647631866197\n",
      "The standard deviation of G2 is | 3.2834973811531865\n",
      "The standard deviation of G3 is | 3.86294440508964\n",
      "The standard deviation of AGE is | 1.2393806932778517\n",
      "The standard deviation of Study Time is | 0.8339535059647077\n"
     ]
    }
   ],
   "source": [
    "print(\"The standard deviation of G1 is | {}\".format(Exploratory_Data_Analysis.std_score(student['G1'])))\n",
    "print(\"The standard deviation of G2 is | {}\".format(Exploratory_Data_Analysis.std_score(student['G2'])))\n",
    "print(\"The standard deviation of G3 is | {}\".format(Exploratory_Data_Analysis.std_score(student['G3'])))\n",
    "print(\"The standard deviation of AGE is | {}\".format(Exploratory_Data_Analysis.std_score(student['Age'])))\n",
    "print(\"The standard deviation of Study Time is | {}\".format(Exploratory_Data_Analysis.std_score(student['Study Time'])))"
   ]
  },
  {
   "cell_type": "markdown",
   "id": "dcc66bfb",
   "metadata": {},
   "source": [
    "### VARIANCE"
   ]
  },
  {
   "cell_type": "code",
   "execution_count": 30,
   "id": "f8cea5d5",
   "metadata": {},
   "outputs": [
    {
     "name": "stdout",
     "output_type": "stream",
     "text": [
      "The Variance of G1 is | 8.892113848886634\n",
      "The Variance of G2 is | 10.781355052039835\n",
      "The Variance of G3 is | 14.922339476813354\n",
      "The Variance of AGE is | 1.5360645028698885\n",
      "The Variance of Study Time is | 0.6954784501108279\n"
     ]
    }
   ],
   "source": [
    "print(\"The Variance of G1 is | {}\".format(Exploratory_Data_Analysis.variance(student['G1'])))\n",
    "print(\"The Variance of G2 is | {}\".format(Exploratory_Data_Analysis.variance(student['G2'])))\n",
    "print(\"The Variance of G3 is | {}\".format(Exploratory_Data_Analysis.variance(student['G3'])))\n",
    "print(\"The Variance of AGE is | {}\".format(Exploratory_Data_Analysis.variance(student['Age'])))\n",
    "print(\"The Variance of Study Time is | {}\".format(Exploratory_Data_Analysis.variance(student['Study Time'])))"
   ]
  },
  {
   "cell_type": "markdown",
   "id": "de5ba057",
   "metadata": {},
   "source": [
    "### MINIMUM VALUES"
   ]
  },
  {
   "cell_type": "code",
   "execution_count": 31,
   "id": "61f15bfc",
   "metadata": {},
   "outputs": [
    {
     "name": "stdout",
     "output_type": "stream",
     "text": [
      "The Minimum score of G1 is | 0\n",
      "The Minimum score of G2 is | 0\n",
      "The Minimum score of G3 is | 0\n",
      "The Minimum score of AGE is | 15\n",
      "The Minimum score of Study Time is | 1\n"
     ]
    }
   ],
   "source": [
    "print(\"The Minimum score of G1 is | {}\".format(Exploratory_Data_Analysis.minimum(student['G1'])))\n",
    "print(\"The Minimum score of G2 is | {}\".format(Exploratory_Data_Analysis.minimum(student['G2'])))\n",
    "print(\"The Minimum score of G3 is | {}\".format(Exploratory_Data_Analysis.minimum(student['G3'])))\n",
    "print(\"The Minimum score of AGE is | {}\".format(Exploratory_Data_Analysis.minimum(student['Age'])))\n",
    "print(\"The Minimum score of Study Time is | {}\".format(Exploratory_Data_Analysis.minimum(student['Study Time'])))"
   ]
  },
  {
   "cell_type": "markdown",
   "id": "7e6e05bb",
   "metadata": {},
   "source": [
    "### MAXIMUM VALUE"
   ]
  },
  {
   "cell_type": "code",
   "execution_count": 32,
   "id": "b04cda11",
   "metadata": {},
   "outputs": [
    {
     "name": "stdout",
     "output_type": "stream",
     "text": [
      "The Maximum score of G1 is | 19\n",
      "The Maximum score of G2 is | 19\n",
      "The Maximum score of G3 is | 20\n",
      "The Maximum score of AGE is | 22\n",
      "The Maximum score of Study Time is | 4\n"
     ]
    }
   ],
   "source": [
    "print(\"The Maximum score of G1 is | {}\".format(Exploratory_Data_Analysis.maximum(student['G1'])))\n",
    "print(\"The Maximum score of G2 is | {}\".format(Exploratory_Data_Analysis.maximum(student['G2'])))\n",
    "print(\"The Maximum score of G3 is | {}\".format(Exploratory_Data_Analysis.maximum(student['G3'])))\n",
    "print(\"The Maximum score of AGE is | {}\".format(Exploratory_Data_Analysis.maximum(student['Age'])))\n",
    "print(\"The Maximum score of Study Time is | {}\".format(Exploratory_Data_Analysis.maximum(student['Study Time'])))"
   ]
  },
  {
   "cell_type": "markdown",
   "id": "706f4272",
   "metadata": {},
   "source": [
    "### SKEWNESS"
   ]
  },
  {
   "cell_type": "code",
   "execution_count": 33,
   "id": "e2bfddaa",
   "metadata": {},
   "outputs": [
    {
     "name": "stdout",
     "output_type": "stream",
     "text": [
      "The skew of G1 is | 0.07781045328592576\n",
      "The skew of G2 is | -0.4966424483539426\n",
      "The skew of G3 is | -0.984547477976957\n",
      "The skew of Age is | 0.43340463712571886\n",
      "The skew of Study Time is | 0.6700177413526461\n"
     ]
    }
   ],
   "source": [
    "\n",
    "\n",
    "from scipy.stats import skew\n",
    "print(\"The skew of G1 is | {}\".format(Exploratory_Data_Analysis.skew_point(student['G1']))) # symetrical distribution,normally distributed\n",
    "print(\"The skew of G2 is | {}\".format(Exploratory_Data_Analysis.skew_point(student['G2']))) # asymetrical, negativel skewed\n",
    "print(\"The skew of G3 is | {}\".format(Exploratory_Data_Analysis.skew_point(student['G3']))) # negatively skewed\n",
    "print(\"The skew of Age is | {}\".format(Exploratory_Data_Analysis.skew_point(student['Age']))) #positively skewed, asymetrical\n",
    "print(\"The skew of Study Time is | {}\".format(Exploratory_Data_Analysis.skew_point(student['Study Time']))) # positivel skewed"
   ]
  },
  {
   "cell_type": "markdown",
   "id": "ad49f54a",
   "metadata": {},
   "source": [
    "### KURTOSIS"
   ]
  },
  {
   "cell_type": "code",
   "execution_count": 34,
   "id": "14e20361",
   "metadata": {},
   "outputs": [
    {
     "name": "stdout",
     "output_type": "stream",
     "text": [
      "The Kurtosis of G1 is | -0.33317505703584827\n",
      "The Kurtosis of G2 is | 1.3234889885178935\n",
      "The Kurtosis of G3 is | 1.730235023081005\n",
      "The Kurtosis of AGE is | 0.03085676107589963\n",
      "The Kurtosis of Study Time is | 0.0008466400448208233\n"
     ]
    }
   ],
   "source": [
    "print(\"The Kurtosis of G1 is | {}\".format(Exploratory_Data_Analysis.kurt_point(student['G1'])))\n",
    "print(\"The Kurtosis of G2 is | {}\".format(Exploratory_Data_Analysis.kurt_point(student['G2'])))\n",
    "print(\"The Kurtosis of G3 is | {}\".format(Exploratory_Data_Analysis.kurt_point(student['G3'])))\n",
    "print(\"The Kurtosis of AGE is | {}\".format(Exploratory_Data_Analysis.kurt_point(student['Age'])))\n",
    "print(\"The Kurtosis of Study Time is | {}\".format(Exploratory_Data_Analysis.kurt_point(student['Study Time'])))"
   ]
  },
  {
   "cell_type": "markdown",
   "id": "23d03c49",
   "metadata": {},
   "source": [
    "# Machine Learning Preprocessing"
   ]
  },
  {
   "cell_type": "markdown",
   "id": "e6c4b3e1",
   "metadata": {},
   "source": [
    "### Data Preprocessing for Machine Learning"
   ]
  },
  {
   "cell_type": "markdown",
   "id": "91f186b2",
   "metadata": {},
   "source": [
    "### Encoding - One Hot Encoding\n",
    "\n"
   ]
  },
  {
   "cell_type": "code",
   "execution_count": 35,
   "id": "7d915d00",
   "metadata": {},
   "outputs": [
    {
     "data": {
      "text/plain": [
       "School                          object\n",
       "Sex                             object\n",
       "Age                              int64\n",
       "Address                         object\n",
       "Family Size                     object\n",
       "parent's cohabitation status    object\n",
       "Mother's Education               int64\n",
       "Father's Education               int64\n",
       "Mother's Job                    object\n",
       "Father's Job                    object\n",
       "Reason                          object\n",
       "Guardian                        object\n",
       "Travel Time                      int64\n",
       "Study Time                       int64\n",
       "Failures                         int64\n",
       "School Support                  object\n",
       "Famly Support                   object\n",
       "Paid Classes                    object\n",
       "Activities                      object\n",
       "Nursery                         object\n",
       "Higher Education                object\n",
       "Internet                        object\n",
       "Romantic                        object\n",
       "Family Relationship              int64\n",
       "Free Time                        int64\n",
       "Going Out                        int64\n",
       "Workday Alcohol Consumption      int64\n",
       "Weekend Alcohol Consumption      int64\n",
       "Health Status                    int64\n",
       "Absences                         int64\n",
       "G1                               int64\n",
       "G2                               int64\n",
       "G3                               int64\n",
       "dtype: object"
      ]
     },
     "execution_count": 35,
     "metadata": {},
     "output_type": "execute_result"
    }
   ],
   "source": [
    "student.dtypes\n",
    "#we have some objects which means string"
   ]
  },
  {
   "cell_type": "code",
   "execution_count": 36,
   "id": "7c7ad737",
   "metadata": {},
   "outputs": [
    {
     "data": {
      "text/plain": [
       "['School',\n",
       " 'Sex',\n",
       " 'Address',\n",
       " 'Family Size',\n",
       " \"parent's cohabitation status\",\n",
       " \"Mother's Job\",\n",
       " \"Father's Job\",\n",
       " 'Reason',\n",
       " 'Guardian',\n",
       " 'School Support',\n",
       " 'Famly Support',\n",
       " 'Paid Classes',\n",
       " 'Activities',\n",
       " 'Nursery',\n",
       " 'Higher Education',\n",
       " 'Internet',\n",
       " 'Romantic']"
      ]
     },
     "execution_count": 36,
     "metadata": {},
     "output_type": "execute_result"
    }
   ],
   "source": [
    "#making a list of non numeric columns using list comprehension\n",
    "\n",
    "nonnumericcolumns = [student.columns[index] for index, dtype in enumerate(student.dtypes) if dtype =='object']\n",
    "nonnumericcolumns"
   ]
  },
  {
   "cell_type": "code",
   "execution_count": 37,
   "id": "7b822c70",
   "metadata": {},
   "outputs": [
    {
     "name": "stdout",
     "output_type": "stream",
     "text": [
      "School:['GP' 'MS']\n",
      "Sex:['Female' 'Male']\n",
      "Address:['U' 'R']\n",
      "Family Size:['GT3' 'LE3']\n",
      "parent's cohabitation status:['A' 'T']\n",
      "Mother's Job:['at_home' 'health' 'other' 'services' 'teacher']\n",
      "Father's Job:['teacher' 'other' 'services' 'health' 'at_home']\n",
      "Reason:['course' 'other' 'home' 'reputation']\n",
      "Guardian:['mother' 'father' 'other']\n",
      "School Support:['yes' 'no']\n",
      "Famly Support:['no' 'yes']\n",
      "Paid Classes:['no' 'yes']\n",
      "Activities:['no' 'yes']\n",
      "Nursery:['yes' 'no']\n",
      "Higher Education:['yes' 'no']\n",
      "Internet:['no' 'yes']\n",
      "Romantic:['no' 'yes']\n"
     ]
    }
   ],
   "source": [
    "for column in nonnumericcolumns:\n",
    "    print(f\"{column}:{student[column].unique()}\")"
   ]
  },
  {
   "cell_type": "code",
   "execution_count": 38,
   "id": "3dd4746b",
   "metadata": {},
   "outputs": [],
   "source": [
    "#lots of these features are binary variables\n",
    "#so for the two values i will use label encoder becasuse it does not really matter how we order two values\n",
    "\n",
    "#i will use one hot encording for the features with non binanry values\n",
    "#more that 2 values because there are some sort of order among the values\n",
    "\n",
    "# for mothers job.fathers job reason and guardian we that the values \"other\" in them\n",
    "#which will be difficult because with one hot encoding i will make new columns\n",
    "#that take the name of the values in each of the features\n",
    "#which means i will have four duplicates columns called other which is not advisable\n",
    "\n",
    "#to resolve this i will append an indicator at the beginning of each columns to indicate which column it is coming from\n",
    "\n",
    "#so for mother's job, i will use apply to apply a lambda function, it takes in a value of the column and it will output that same value \n",
    "#but with a appended to the front for fater job i appended f at the begining, so it would show m-other, f-other, etc, this will eradicate duplicates when we are using one hot encoding\n",
    "\n",
    "student[\"Mother's Job\" ] = student[\"Mother's Job\" ].apply(lambda x: \"m_\" + x )\n",
    "        \n",
    "student[\"Father's Job\"] = student[\"Father's Job\"].apply(lambda x: \"f_\" + x)\n",
    "\n",
    "student[ \"Reason\" ] = student[ \"Reason\" ].apply(lambda x: \"r_\" + x)\n",
    "\n",
    "student[ \"Guardian\" ] = student[ \"Guardian\" ].apply(lambda x: \"g_\" + x)\n"
   ]
  },
  {
   "cell_type": "code",
   "execution_count": null,
   "id": "d7eea663",
   "metadata": {},
   "outputs": [],
   "source": []
  },
  {
   "cell_type": "code",
   "execution_count": 39,
   "id": "8ff6e0db",
   "metadata": {},
   "outputs": [],
   "source": [
    "# checking what dummines matrix look like for mother job\n",
    "# I am using one hot encoding bcos if i should N-gram:- n=1 Unigram,    n=2 Bigram ..... \n",
    "# pandas will see a value assigned to 4 as an high value\n",
    "\n",
    "# CONCATENATING ALL DUMMIES COLUMNS TOGETHER\n",
    "\n",
    "dummies = pd.concat([pd.get_dummies(student[\"Mother's Job\"]),\n",
    "                    pd.get_dummies(student[\"Father's Job\"]),\n",
    "                    pd.get_dummies(student[\"Reason\"]),\n",
    "                    pd.get_dummies(student[\"Guardian\"])], \n",
    "                    axis =1)\n"
   ]
  },
  {
   "cell_type": "code",
   "execution_count": 40,
   "id": "7e9137ea",
   "metadata": {},
   "outputs": [
    {
     "data": {
      "text/html": [
       "<div>\n",
       "<style scoped>\n",
       "    .dataframe tbody tr th:only-of-type {\n",
       "        vertical-align: middle;\n",
       "    }\n",
       "\n",
       "    .dataframe tbody tr th {\n",
       "        vertical-align: top;\n",
       "    }\n",
       "\n",
       "    .dataframe thead th {\n",
       "        text-align: right;\n",
       "    }\n",
       "</style>\n",
       "<table border=\"1\" class=\"dataframe\">\n",
       "  <thead>\n",
       "    <tr style=\"text-align: right;\">\n",
       "      <th></th>\n",
       "      <th>m_at_home</th>\n",
       "      <th>m_health</th>\n",
       "      <th>m_other</th>\n",
       "      <th>m_services</th>\n",
       "      <th>m_teacher</th>\n",
       "      <th>f_at_home</th>\n",
       "      <th>f_health</th>\n",
       "      <th>f_other</th>\n",
       "      <th>f_services</th>\n",
       "      <th>f_teacher</th>\n",
       "      <th>r_course</th>\n",
       "      <th>r_home</th>\n",
       "      <th>r_other</th>\n",
       "      <th>r_reputation</th>\n",
       "      <th>g_father</th>\n",
       "      <th>g_mother</th>\n",
       "      <th>g_other</th>\n",
       "    </tr>\n",
       "  </thead>\n",
       "  <tbody>\n",
       "    <tr>\n",
       "      <th>0</th>\n",
       "      <td>1</td>\n",
       "      <td>0</td>\n",
       "      <td>0</td>\n",
       "      <td>0</td>\n",
       "      <td>0</td>\n",
       "      <td>0</td>\n",
       "      <td>0</td>\n",
       "      <td>0</td>\n",
       "      <td>0</td>\n",
       "      <td>1</td>\n",
       "      <td>1</td>\n",
       "      <td>0</td>\n",
       "      <td>0</td>\n",
       "      <td>0</td>\n",
       "      <td>0</td>\n",
       "      <td>1</td>\n",
       "      <td>0</td>\n",
       "    </tr>\n",
       "    <tr>\n",
       "      <th>1</th>\n",
       "      <td>1</td>\n",
       "      <td>0</td>\n",
       "      <td>0</td>\n",
       "      <td>0</td>\n",
       "      <td>0</td>\n",
       "      <td>0</td>\n",
       "      <td>0</td>\n",
       "      <td>1</td>\n",
       "      <td>0</td>\n",
       "      <td>0</td>\n",
       "      <td>1</td>\n",
       "      <td>0</td>\n",
       "      <td>0</td>\n",
       "      <td>0</td>\n",
       "      <td>1</td>\n",
       "      <td>0</td>\n",
       "      <td>0</td>\n",
       "    </tr>\n",
       "    <tr>\n",
       "      <th>2</th>\n",
       "      <td>1</td>\n",
       "      <td>0</td>\n",
       "      <td>0</td>\n",
       "      <td>0</td>\n",
       "      <td>0</td>\n",
       "      <td>0</td>\n",
       "      <td>0</td>\n",
       "      <td>1</td>\n",
       "      <td>0</td>\n",
       "      <td>0</td>\n",
       "      <td>0</td>\n",
       "      <td>0</td>\n",
       "      <td>1</td>\n",
       "      <td>0</td>\n",
       "      <td>0</td>\n",
       "      <td>1</td>\n",
       "      <td>0</td>\n",
       "    </tr>\n",
       "    <tr>\n",
       "      <th>3</th>\n",
       "      <td>0</td>\n",
       "      <td>1</td>\n",
       "      <td>0</td>\n",
       "      <td>0</td>\n",
       "      <td>0</td>\n",
       "      <td>0</td>\n",
       "      <td>0</td>\n",
       "      <td>0</td>\n",
       "      <td>1</td>\n",
       "      <td>0</td>\n",
       "      <td>0</td>\n",
       "      <td>1</td>\n",
       "      <td>0</td>\n",
       "      <td>0</td>\n",
       "      <td>0</td>\n",
       "      <td>1</td>\n",
       "      <td>0</td>\n",
       "    </tr>\n",
       "    <tr>\n",
       "      <th>4</th>\n",
       "      <td>0</td>\n",
       "      <td>0</td>\n",
       "      <td>1</td>\n",
       "      <td>0</td>\n",
       "      <td>0</td>\n",
       "      <td>0</td>\n",
       "      <td>0</td>\n",
       "      <td>1</td>\n",
       "      <td>0</td>\n",
       "      <td>0</td>\n",
       "      <td>0</td>\n",
       "      <td>1</td>\n",
       "      <td>0</td>\n",
       "      <td>0</td>\n",
       "      <td>1</td>\n",
       "      <td>0</td>\n",
       "      <td>0</td>\n",
       "    </tr>\n",
       "    <tr>\n",
       "      <th>...</th>\n",
       "      <td>...</td>\n",
       "      <td>...</td>\n",
       "      <td>...</td>\n",
       "      <td>...</td>\n",
       "      <td>...</td>\n",
       "      <td>...</td>\n",
       "      <td>...</td>\n",
       "      <td>...</td>\n",
       "      <td>...</td>\n",
       "      <td>...</td>\n",
       "      <td>...</td>\n",
       "      <td>...</td>\n",
       "      <td>...</td>\n",
       "      <td>...</td>\n",
       "      <td>...</td>\n",
       "      <td>...</td>\n",
       "      <td>...</td>\n",
       "    </tr>\n",
       "    <tr>\n",
       "      <th>1039</th>\n",
       "      <td>0</td>\n",
       "      <td>0</td>\n",
       "      <td>0</td>\n",
       "      <td>1</td>\n",
       "      <td>0</td>\n",
       "      <td>0</td>\n",
       "      <td>0</td>\n",
       "      <td>1</td>\n",
       "      <td>0</td>\n",
       "      <td>0</td>\n",
       "      <td>1</td>\n",
       "      <td>0</td>\n",
       "      <td>0</td>\n",
       "      <td>0</td>\n",
       "      <td>0</td>\n",
       "      <td>1</td>\n",
       "      <td>0</td>\n",
       "    </tr>\n",
       "    <tr>\n",
       "      <th>1040</th>\n",
       "      <td>0</td>\n",
       "      <td>0</td>\n",
       "      <td>0</td>\n",
       "      <td>0</td>\n",
       "      <td>1</td>\n",
       "      <td>0</td>\n",
       "      <td>0</td>\n",
       "      <td>0</td>\n",
       "      <td>1</td>\n",
       "      <td>0</td>\n",
       "      <td>1</td>\n",
       "      <td>0</td>\n",
       "      <td>0</td>\n",
       "      <td>0</td>\n",
       "      <td>0</td>\n",
       "      <td>1</td>\n",
       "      <td>0</td>\n",
       "    </tr>\n",
       "    <tr>\n",
       "      <th>1041</th>\n",
       "      <td>0</td>\n",
       "      <td>0</td>\n",
       "      <td>1</td>\n",
       "      <td>0</td>\n",
       "      <td>0</td>\n",
       "      <td>0</td>\n",
       "      <td>0</td>\n",
       "      <td>1</td>\n",
       "      <td>0</td>\n",
       "      <td>0</td>\n",
       "      <td>1</td>\n",
       "      <td>0</td>\n",
       "      <td>0</td>\n",
       "      <td>0</td>\n",
       "      <td>0</td>\n",
       "      <td>1</td>\n",
       "      <td>0</td>\n",
       "    </tr>\n",
       "    <tr>\n",
       "      <th>1042</th>\n",
       "      <td>0</td>\n",
       "      <td>0</td>\n",
       "      <td>0</td>\n",
       "      <td>1</td>\n",
       "      <td>0</td>\n",
       "      <td>0</td>\n",
       "      <td>0</td>\n",
       "      <td>0</td>\n",
       "      <td>1</td>\n",
       "      <td>0</td>\n",
       "      <td>1</td>\n",
       "      <td>0</td>\n",
       "      <td>0</td>\n",
       "      <td>0</td>\n",
       "      <td>0</td>\n",
       "      <td>1</td>\n",
       "      <td>0</td>\n",
       "    </tr>\n",
       "    <tr>\n",
       "      <th>1043</th>\n",
       "      <td>0</td>\n",
       "      <td>0</td>\n",
       "      <td>0</td>\n",
       "      <td>1</td>\n",
       "      <td>0</td>\n",
       "      <td>0</td>\n",
       "      <td>0</td>\n",
       "      <td>1</td>\n",
       "      <td>0</td>\n",
       "      <td>0</td>\n",
       "      <td>1</td>\n",
       "      <td>0</td>\n",
       "      <td>0</td>\n",
       "      <td>0</td>\n",
       "      <td>0</td>\n",
       "      <td>1</td>\n",
       "      <td>0</td>\n",
       "    </tr>\n",
       "  </tbody>\n",
       "</table>\n",
       "<p>1044 rows × 17 columns</p>\n",
       "</div>"
      ],
      "text/plain": [
       "      m_at_home  m_health  m_other  m_services  m_teacher  f_at_home  \\\n",
       "0             1         0        0           0          0          0   \n",
       "1             1         0        0           0          0          0   \n",
       "2             1         0        0           0          0          0   \n",
       "3             0         1        0           0          0          0   \n",
       "4             0         0        1           0          0          0   \n",
       "...         ...       ...      ...         ...        ...        ...   \n",
       "1039          0         0        0           1          0          0   \n",
       "1040          0         0        0           0          1          0   \n",
       "1041          0         0        1           0          0          0   \n",
       "1042          0         0        0           1          0          0   \n",
       "1043          0         0        0           1          0          0   \n",
       "\n",
       "      f_health  f_other  f_services  f_teacher  r_course  r_home  r_other  \\\n",
       "0            0        0           0          1         1       0        0   \n",
       "1            0        1           0          0         1       0        0   \n",
       "2            0        1           0          0         0       0        1   \n",
       "3            0        0           1          0         0       1        0   \n",
       "4            0        1           0          0         0       1        0   \n",
       "...        ...      ...         ...        ...       ...     ...      ...   \n",
       "1039         0        1           0          0         1       0        0   \n",
       "1040         0        0           1          0         1       0        0   \n",
       "1041         0        1           0          0         1       0        0   \n",
       "1042         0        0           1          0         1       0        0   \n",
       "1043         0        1           0          0         1       0        0   \n",
       "\n",
       "      r_reputation  g_father  g_mother  g_other  \n",
       "0                0         0         1        0  \n",
       "1                0         1         0        0  \n",
       "2                0         0         1        0  \n",
       "3                0         0         1        0  \n",
       "4                0         1         0        0  \n",
       "...            ...       ...       ...      ...  \n",
       "1039             0         0         1        0  \n",
       "1040             0         0         1        0  \n",
       "1041             0         0         1        0  \n",
       "1042             0         0         1        0  \n",
       "1043             0         0         1        0  \n",
       "\n",
       "[1044 rows x 17 columns]"
      ]
     },
     "execution_count": 40,
     "metadata": {},
     "output_type": "execute_result"
    }
   ],
   "source": [
    "dummies"
   ]
  },
  {
   "cell_type": "code",
   "execution_count": 41,
   "id": "81ee9256",
   "metadata": {},
   "outputs": [],
   "source": [
    "# concatinating the dummy variable to our dataset and droping the original columns\n",
    "\n",
    "student = pd.concat([student, dummies], axis = 1)\n",
    "\n",
    "#droping the original columns\n",
    "student.drop([\"Mother's Job\", \"Father's Job\", \"Reason\",\"Guardian\"], axis = 1, inplace = True)\n"
   ]
  },
  {
   "cell_type": "code",
   "execution_count": 42,
   "id": "c33e8f6f",
   "metadata": {},
   "outputs": [
    {
     "data": {
      "text/html": [
       "<div>\n",
       "<style scoped>\n",
       "    .dataframe tbody tr th:only-of-type {\n",
       "        vertical-align: middle;\n",
       "    }\n",
       "\n",
       "    .dataframe tbody tr th {\n",
       "        vertical-align: top;\n",
       "    }\n",
       "\n",
       "    .dataframe thead th {\n",
       "        text-align: right;\n",
       "    }\n",
       "</style>\n",
       "<table border=\"1\" class=\"dataframe\">\n",
       "  <thead>\n",
       "    <tr style=\"text-align: right;\">\n",
       "      <th></th>\n",
       "      <th>School</th>\n",
       "      <th>Sex</th>\n",
       "      <th>Age</th>\n",
       "      <th>Address</th>\n",
       "      <th>Family Size</th>\n",
       "      <th>parent's cohabitation status</th>\n",
       "      <th>Mother's Education</th>\n",
       "      <th>Father's Education</th>\n",
       "      <th>Travel Time</th>\n",
       "      <th>Study Time</th>\n",
       "      <th>...</th>\n",
       "      <th>f_other</th>\n",
       "      <th>f_services</th>\n",
       "      <th>f_teacher</th>\n",
       "      <th>r_course</th>\n",
       "      <th>r_home</th>\n",
       "      <th>r_other</th>\n",
       "      <th>r_reputation</th>\n",
       "      <th>g_father</th>\n",
       "      <th>g_mother</th>\n",
       "      <th>g_other</th>\n",
       "    </tr>\n",
       "  </thead>\n",
       "  <tbody>\n",
       "    <tr>\n",
       "      <th>0</th>\n",
       "      <td>GP</td>\n",
       "      <td>Female</td>\n",
       "      <td>18</td>\n",
       "      <td>U</td>\n",
       "      <td>GT3</td>\n",
       "      <td>A</td>\n",
       "      <td>4</td>\n",
       "      <td>4</td>\n",
       "      <td>2</td>\n",
       "      <td>2</td>\n",
       "      <td>...</td>\n",
       "      <td>0</td>\n",
       "      <td>0</td>\n",
       "      <td>1</td>\n",
       "      <td>1</td>\n",
       "      <td>0</td>\n",
       "      <td>0</td>\n",
       "      <td>0</td>\n",
       "      <td>0</td>\n",
       "      <td>1</td>\n",
       "      <td>0</td>\n",
       "    </tr>\n",
       "    <tr>\n",
       "      <th>1</th>\n",
       "      <td>GP</td>\n",
       "      <td>Female</td>\n",
       "      <td>17</td>\n",
       "      <td>U</td>\n",
       "      <td>GT3</td>\n",
       "      <td>T</td>\n",
       "      <td>1</td>\n",
       "      <td>1</td>\n",
       "      <td>1</td>\n",
       "      <td>2</td>\n",
       "      <td>...</td>\n",
       "      <td>1</td>\n",
       "      <td>0</td>\n",
       "      <td>0</td>\n",
       "      <td>1</td>\n",
       "      <td>0</td>\n",
       "      <td>0</td>\n",
       "      <td>0</td>\n",
       "      <td>1</td>\n",
       "      <td>0</td>\n",
       "      <td>0</td>\n",
       "    </tr>\n",
       "    <tr>\n",
       "      <th>2</th>\n",
       "      <td>GP</td>\n",
       "      <td>Female</td>\n",
       "      <td>15</td>\n",
       "      <td>U</td>\n",
       "      <td>LE3</td>\n",
       "      <td>T</td>\n",
       "      <td>1</td>\n",
       "      <td>1</td>\n",
       "      <td>1</td>\n",
       "      <td>2</td>\n",
       "      <td>...</td>\n",
       "      <td>1</td>\n",
       "      <td>0</td>\n",
       "      <td>0</td>\n",
       "      <td>0</td>\n",
       "      <td>0</td>\n",
       "      <td>1</td>\n",
       "      <td>0</td>\n",
       "      <td>0</td>\n",
       "      <td>1</td>\n",
       "      <td>0</td>\n",
       "    </tr>\n",
       "    <tr>\n",
       "      <th>3</th>\n",
       "      <td>GP</td>\n",
       "      <td>Female</td>\n",
       "      <td>15</td>\n",
       "      <td>U</td>\n",
       "      <td>GT3</td>\n",
       "      <td>T</td>\n",
       "      <td>4</td>\n",
       "      <td>2</td>\n",
       "      <td>1</td>\n",
       "      <td>3</td>\n",
       "      <td>...</td>\n",
       "      <td>0</td>\n",
       "      <td>1</td>\n",
       "      <td>0</td>\n",
       "      <td>0</td>\n",
       "      <td>1</td>\n",
       "      <td>0</td>\n",
       "      <td>0</td>\n",
       "      <td>0</td>\n",
       "      <td>1</td>\n",
       "      <td>0</td>\n",
       "    </tr>\n",
       "    <tr>\n",
       "      <th>4</th>\n",
       "      <td>GP</td>\n",
       "      <td>Female</td>\n",
       "      <td>16</td>\n",
       "      <td>U</td>\n",
       "      <td>GT3</td>\n",
       "      <td>T</td>\n",
       "      <td>3</td>\n",
       "      <td>3</td>\n",
       "      <td>1</td>\n",
       "      <td>2</td>\n",
       "      <td>...</td>\n",
       "      <td>1</td>\n",
       "      <td>0</td>\n",
       "      <td>0</td>\n",
       "      <td>0</td>\n",
       "      <td>1</td>\n",
       "      <td>0</td>\n",
       "      <td>0</td>\n",
       "      <td>1</td>\n",
       "      <td>0</td>\n",
       "      <td>0</td>\n",
       "    </tr>\n",
       "    <tr>\n",
       "      <th>...</th>\n",
       "      <td>...</td>\n",
       "      <td>...</td>\n",
       "      <td>...</td>\n",
       "      <td>...</td>\n",
       "      <td>...</td>\n",
       "      <td>...</td>\n",
       "      <td>...</td>\n",
       "      <td>...</td>\n",
       "      <td>...</td>\n",
       "      <td>...</td>\n",
       "      <td>...</td>\n",
       "      <td>...</td>\n",
       "      <td>...</td>\n",
       "      <td>...</td>\n",
       "      <td>...</td>\n",
       "      <td>...</td>\n",
       "      <td>...</td>\n",
       "      <td>...</td>\n",
       "      <td>...</td>\n",
       "      <td>...</td>\n",
       "      <td>...</td>\n",
       "    </tr>\n",
       "    <tr>\n",
       "      <th>1039</th>\n",
       "      <td>MS</td>\n",
       "      <td>Female</td>\n",
       "      <td>19</td>\n",
       "      <td>R</td>\n",
       "      <td>GT3</td>\n",
       "      <td>T</td>\n",
       "      <td>2</td>\n",
       "      <td>3</td>\n",
       "      <td>1</td>\n",
       "      <td>3</td>\n",
       "      <td>...</td>\n",
       "      <td>1</td>\n",
       "      <td>0</td>\n",
       "      <td>0</td>\n",
       "      <td>1</td>\n",
       "      <td>0</td>\n",
       "      <td>0</td>\n",
       "      <td>0</td>\n",
       "      <td>0</td>\n",
       "      <td>1</td>\n",
       "      <td>0</td>\n",
       "    </tr>\n",
       "    <tr>\n",
       "      <th>1040</th>\n",
       "      <td>MS</td>\n",
       "      <td>Female</td>\n",
       "      <td>18</td>\n",
       "      <td>U</td>\n",
       "      <td>LE3</td>\n",
       "      <td>T</td>\n",
       "      <td>3</td>\n",
       "      <td>1</td>\n",
       "      <td>1</td>\n",
       "      <td>2</td>\n",
       "      <td>...</td>\n",
       "      <td>0</td>\n",
       "      <td>1</td>\n",
       "      <td>0</td>\n",
       "      <td>1</td>\n",
       "      <td>0</td>\n",
       "      <td>0</td>\n",
       "      <td>0</td>\n",
       "      <td>0</td>\n",
       "      <td>1</td>\n",
       "      <td>0</td>\n",
       "    </tr>\n",
       "    <tr>\n",
       "      <th>1041</th>\n",
       "      <td>MS</td>\n",
       "      <td>Female</td>\n",
       "      <td>18</td>\n",
       "      <td>U</td>\n",
       "      <td>GT3</td>\n",
       "      <td>T</td>\n",
       "      <td>1</td>\n",
       "      <td>1</td>\n",
       "      <td>2</td>\n",
       "      <td>2</td>\n",
       "      <td>...</td>\n",
       "      <td>1</td>\n",
       "      <td>0</td>\n",
       "      <td>0</td>\n",
       "      <td>1</td>\n",
       "      <td>0</td>\n",
       "      <td>0</td>\n",
       "      <td>0</td>\n",
       "      <td>0</td>\n",
       "      <td>1</td>\n",
       "      <td>0</td>\n",
       "    </tr>\n",
       "    <tr>\n",
       "      <th>1042</th>\n",
       "      <td>MS</td>\n",
       "      <td>Male</td>\n",
       "      <td>17</td>\n",
       "      <td>U</td>\n",
       "      <td>LE3</td>\n",
       "      <td>T</td>\n",
       "      <td>3</td>\n",
       "      <td>1</td>\n",
       "      <td>2</td>\n",
       "      <td>1</td>\n",
       "      <td>...</td>\n",
       "      <td>0</td>\n",
       "      <td>1</td>\n",
       "      <td>0</td>\n",
       "      <td>1</td>\n",
       "      <td>0</td>\n",
       "      <td>0</td>\n",
       "      <td>0</td>\n",
       "      <td>0</td>\n",
       "      <td>1</td>\n",
       "      <td>0</td>\n",
       "    </tr>\n",
       "    <tr>\n",
       "      <th>1043</th>\n",
       "      <td>MS</td>\n",
       "      <td>Male</td>\n",
       "      <td>18</td>\n",
       "      <td>R</td>\n",
       "      <td>LE3</td>\n",
       "      <td>T</td>\n",
       "      <td>3</td>\n",
       "      <td>2</td>\n",
       "      <td>3</td>\n",
       "      <td>1</td>\n",
       "      <td>...</td>\n",
       "      <td>1</td>\n",
       "      <td>0</td>\n",
       "      <td>0</td>\n",
       "      <td>1</td>\n",
       "      <td>0</td>\n",
       "      <td>0</td>\n",
       "      <td>0</td>\n",
       "      <td>0</td>\n",
       "      <td>1</td>\n",
       "      <td>0</td>\n",
       "    </tr>\n",
       "  </tbody>\n",
       "</table>\n",
       "<p>1044 rows × 46 columns</p>\n",
       "</div>"
      ],
      "text/plain": [
       "     School     Sex  Age Address Family Size parent's cohabitation status  \\\n",
       "0        GP  Female   18       U         GT3                            A   \n",
       "1        GP  Female   17       U         GT3                            T   \n",
       "2        GP  Female   15       U         LE3                            T   \n",
       "3        GP  Female   15       U         GT3                            T   \n",
       "4        GP  Female   16       U         GT3                            T   \n",
       "...     ...     ...  ...     ...         ...                          ...   \n",
       "1039     MS  Female   19       R         GT3                            T   \n",
       "1040     MS  Female   18       U         LE3                            T   \n",
       "1041     MS  Female   18       U         GT3                            T   \n",
       "1042     MS    Male   17       U         LE3                            T   \n",
       "1043     MS    Male   18       R         LE3                            T   \n",
       "\n",
       "      Mother's Education  Father's Education  Travel Time  Study Time  ...  \\\n",
       "0                      4                   4            2           2  ...   \n",
       "1                      1                   1            1           2  ...   \n",
       "2                      1                   1            1           2  ...   \n",
       "3                      4                   2            1           3  ...   \n",
       "4                      3                   3            1           2  ...   \n",
       "...                  ...                 ...          ...         ...  ...   \n",
       "1039                   2                   3            1           3  ...   \n",
       "1040                   3                   1            1           2  ...   \n",
       "1041                   1                   1            2           2  ...   \n",
       "1042                   3                   1            2           1  ...   \n",
       "1043                   3                   2            3           1  ...   \n",
       "\n",
       "      f_other f_services f_teacher r_course r_home r_other r_reputation  \\\n",
       "0           0          0         1        1      0       0            0   \n",
       "1           1          0         0        1      0       0            0   \n",
       "2           1          0         0        0      0       1            0   \n",
       "3           0          1         0        0      1       0            0   \n",
       "4           1          0         0        0      1       0            0   \n",
       "...       ...        ...       ...      ...    ...     ...          ...   \n",
       "1039        1          0         0        1      0       0            0   \n",
       "1040        0          1         0        1      0       0            0   \n",
       "1041        1          0         0        1      0       0            0   \n",
       "1042        0          1         0        1      0       0            0   \n",
       "1043        1          0         0        1      0       0            0   \n",
       "\n",
       "     g_father g_mother  g_other  \n",
       "0           0        1        0  \n",
       "1           1        0        0  \n",
       "2           0        1        0  \n",
       "3           0        1        0  \n",
       "4           1        0        0  \n",
       "...       ...      ...      ...  \n",
       "1039        0        1        0  \n",
       "1040        0        1        0  \n",
       "1041        0        1        0  \n",
       "1042        0        1        0  \n",
       "1043        0        1        0  \n",
       "\n",
       "[1044 rows x 46 columns]"
      ]
     },
     "execution_count": 42,
     "metadata": {},
     "output_type": "execute_result"
    }
   ],
   "source": [
    "student"
   ]
  },
  {
   "cell_type": "code",
   "execution_count": 43,
   "id": "3c8a1de8",
   "metadata": {},
   "outputs": [],
   "source": [
    "from sklearn.preprocessing import StandardScaler, LabelEncoder"
   ]
  },
  {
   "cell_type": "markdown",
   "id": "da5beca7",
   "metadata": {},
   "source": [
    "### Label Encoding "
   ]
  },
  {
   "cell_type": "code",
   "execution_count": 44,
   "id": "79e41ab7",
   "metadata": {},
   "outputs": [
    {
     "data": {
      "text/plain": [
       "['School',\n",
       " 'Sex',\n",
       " 'Address',\n",
       " 'Family Size',\n",
       " \"parent's cohabitation status\",\n",
       " 'School Support',\n",
       " 'Famly Support',\n",
       " 'Paid Classes',\n",
       " 'Activities',\n",
       " 'Nursery',\n",
       " 'Higher Education',\n",
       " 'Internet',\n",
       " 'Romantic']"
      ]
     },
     "execution_count": 44,
     "metadata": {},
     "output_type": "execute_result"
    }
   ],
   "source": [
    "nonnumericcolumns = [student.columns[index] for index, dtype in enumerate(student.dtypes) if dtype =='object']\n",
    "nonnumericcolumns"
   ]
  },
  {
   "cell_type": "code",
   "execution_count": 45,
   "id": "b52998fe",
   "metadata": {},
   "outputs": [
    {
     "name": "stdout",
     "output_type": "stream",
     "text": [
      "School:['GP' 'MS']\n",
      "Sex:['Female' 'Male']\n",
      "Address:['U' 'R']\n",
      "Family Size:['GT3' 'LE3']\n",
      "parent's cohabitation status:['A' 'T']\n",
      "School Support:['yes' 'no']\n",
      "Famly Support:['no' 'yes']\n",
      "Paid Classes:['no' 'yes']\n",
      "Activities:['no' 'yes']\n",
      "Nursery:['yes' 'no']\n",
      "Higher Education:['yes' 'no']\n",
      "Internet:['no' 'yes']\n",
      "Romantic:['no' 'yes']\n"
     ]
    }
   ],
   "source": [
    "#label enconder\n",
    "#so right now all we have is just binanry values, so i would used lable encoding for every one\n",
    "\n",
    "for column in nonnumericcolumns:\n",
    "    print(f\"{column}:{student[column].unique()}\")"
   ]
  },
  {
   "cell_type": "code",
   "execution_count": 46,
   "id": "7bf76664",
   "metadata": {},
   "outputs": [],
   "source": [
    "encoder = LabelEncoder()\n",
    "for column in nonnumericcolumns:\n",
    "    student[column] = encoder.fit_transform(student[column])"
   ]
  },
  {
   "cell_type": "code",
   "execution_count": 47,
   "id": "e6639eac",
   "metadata": {},
   "outputs": [
    {
     "name": "stdout",
     "output_type": "stream",
     "text": [
      "int32\n",
      "int32\n",
      "int64\n",
      "int32\n",
      "int32\n",
      "int32\n",
      "int64\n",
      "int64\n",
      "int64\n",
      "int64\n",
      "int64\n",
      "int32\n",
      "int32\n",
      "int32\n",
      "int32\n",
      "int32\n",
      "int32\n",
      "int32\n",
      "int32\n",
      "int64\n",
      "int64\n",
      "int64\n",
      "int64\n",
      "int64\n",
      "int64\n",
      "int64\n",
      "int64\n",
      "int64\n",
      "int64\n",
      "uint8\n",
      "uint8\n",
      "uint8\n",
      "uint8\n",
      "uint8\n",
      "uint8\n",
      "uint8\n",
      "uint8\n",
      "uint8\n",
      "uint8\n",
      "uint8\n",
      "uint8\n",
      "uint8\n",
      "uint8\n",
      "uint8\n",
      "uint8\n",
      "uint8\n"
     ]
    }
   ],
   "source": [
    "student.dtypes\n",
    "#or\n",
    "for dtype in student.dtypes:\n",
    "    print(dtype)"
   ]
  },
  {
   "cell_type": "code",
   "execution_count": 48,
   "id": "ae139fd8",
   "metadata": {},
   "outputs": [
    {
     "data": {
      "text/html": [
       "<div>\n",
       "<style scoped>\n",
       "    .dataframe tbody tr th:only-of-type {\n",
       "        vertical-align: middle;\n",
       "    }\n",
       "\n",
       "    .dataframe tbody tr th {\n",
       "        vertical-align: top;\n",
       "    }\n",
       "\n",
       "    .dataframe thead th {\n",
       "        text-align: right;\n",
       "    }\n",
       "</style>\n",
       "<table border=\"1\" class=\"dataframe\">\n",
       "  <thead>\n",
       "    <tr style=\"text-align: right;\">\n",
       "      <th></th>\n",
       "      <th>School</th>\n",
       "      <th>Sex</th>\n",
       "      <th>Age</th>\n",
       "      <th>Address</th>\n",
       "      <th>Family Size</th>\n",
       "      <th>parent's cohabitation status</th>\n",
       "      <th>Mother's Education</th>\n",
       "      <th>Father's Education</th>\n",
       "      <th>Travel Time</th>\n",
       "      <th>Study Time</th>\n",
       "      <th>...</th>\n",
       "      <th>f_other</th>\n",
       "      <th>f_services</th>\n",
       "      <th>f_teacher</th>\n",
       "      <th>r_course</th>\n",
       "      <th>r_home</th>\n",
       "      <th>r_other</th>\n",
       "      <th>r_reputation</th>\n",
       "      <th>g_father</th>\n",
       "      <th>g_mother</th>\n",
       "      <th>g_other</th>\n",
       "    </tr>\n",
       "  </thead>\n",
       "  <tbody>\n",
       "    <tr>\n",
       "      <th>0</th>\n",
       "      <td>0</td>\n",
       "      <td>0</td>\n",
       "      <td>18</td>\n",
       "      <td>1</td>\n",
       "      <td>0</td>\n",
       "      <td>0</td>\n",
       "      <td>4</td>\n",
       "      <td>4</td>\n",
       "      <td>2</td>\n",
       "      <td>2</td>\n",
       "      <td>...</td>\n",
       "      <td>0</td>\n",
       "      <td>0</td>\n",
       "      <td>1</td>\n",
       "      <td>1</td>\n",
       "      <td>0</td>\n",
       "      <td>0</td>\n",
       "      <td>0</td>\n",
       "      <td>0</td>\n",
       "      <td>1</td>\n",
       "      <td>0</td>\n",
       "    </tr>\n",
       "    <tr>\n",
       "      <th>1</th>\n",
       "      <td>0</td>\n",
       "      <td>0</td>\n",
       "      <td>17</td>\n",
       "      <td>1</td>\n",
       "      <td>0</td>\n",
       "      <td>1</td>\n",
       "      <td>1</td>\n",
       "      <td>1</td>\n",
       "      <td>1</td>\n",
       "      <td>2</td>\n",
       "      <td>...</td>\n",
       "      <td>1</td>\n",
       "      <td>0</td>\n",
       "      <td>0</td>\n",
       "      <td>1</td>\n",
       "      <td>0</td>\n",
       "      <td>0</td>\n",
       "      <td>0</td>\n",
       "      <td>1</td>\n",
       "      <td>0</td>\n",
       "      <td>0</td>\n",
       "    </tr>\n",
       "    <tr>\n",
       "      <th>2</th>\n",
       "      <td>0</td>\n",
       "      <td>0</td>\n",
       "      <td>15</td>\n",
       "      <td>1</td>\n",
       "      <td>1</td>\n",
       "      <td>1</td>\n",
       "      <td>1</td>\n",
       "      <td>1</td>\n",
       "      <td>1</td>\n",
       "      <td>2</td>\n",
       "      <td>...</td>\n",
       "      <td>1</td>\n",
       "      <td>0</td>\n",
       "      <td>0</td>\n",
       "      <td>0</td>\n",
       "      <td>0</td>\n",
       "      <td>1</td>\n",
       "      <td>0</td>\n",
       "      <td>0</td>\n",
       "      <td>1</td>\n",
       "      <td>0</td>\n",
       "    </tr>\n",
       "    <tr>\n",
       "      <th>3</th>\n",
       "      <td>0</td>\n",
       "      <td>0</td>\n",
       "      <td>15</td>\n",
       "      <td>1</td>\n",
       "      <td>0</td>\n",
       "      <td>1</td>\n",
       "      <td>4</td>\n",
       "      <td>2</td>\n",
       "      <td>1</td>\n",
       "      <td>3</td>\n",
       "      <td>...</td>\n",
       "      <td>0</td>\n",
       "      <td>1</td>\n",
       "      <td>0</td>\n",
       "      <td>0</td>\n",
       "      <td>1</td>\n",
       "      <td>0</td>\n",
       "      <td>0</td>\n",
       "      <td>0</td>\n",
       "      <td>1</td>\n",
       "      <td>0</td>\n",
       "    </tr>\n",
       "    <tr>\n",
       "      <th>4</th>\n",
       "      <td>0</td>\n",
       "      <td>0</td>\n",
       "      <td>16</td>\n",
       "      <td>1</td>\n",
       "      <td>0</td>\n",
       "      <td>1</td>\n",
       "      <td>3</td>\n",
       "      <td>3</td>\n",
       "      <td>1</td>\n",
       "      <td>2</td>\n",
       "      <td>...</td>\n",
       "      <td>1</td>\n",
       "      <td>0</td>\n",
       "      <td>0</td>\n",
       "      <td>0</td>\n",
       "      <td>1</td>\n",
       "      <td>0</td>\n",
       "      <td>0</td>\n",
       "      <td>1</td>\n",
       "      <td>0</td>\n",
       "      <td>0</td>\n",
       "    </tr>\n",
       "    <tr>\n",
       "      <th>...</th>\n",
       "      <td>...</td>\n",
       "      <td>...</td>\n",
       "      <td>...</td>\n",
       "      <td>...</td>\n",
       "      <td>...</td>\n",
       "      <td>...</td>\n",
       "      <td>...</td>\n",
       "      <td>...</td>\n",
       "      <td>...</td>\n",
       "      <td>...</td>\n",
       "      <td>...</td>\n",
       "      <td>...</td>\n",
       "      <td>...</td>\n",
       "      <td>...</td>\n",
       "      <td>...</td>\n",
       "      <td>...</td>\n",
       "      <td>...</td>\n",
       "      <td>...</td>\n",
       "      <td>...</td>\n",
       "      <td>...</td>\n",
       "      <td>...</td>\n",
       "    </tr>\n",
       "    <tr>\n",
       "      <th>1039</th>\n",
       "      <td>1</td>\n",
       "      <td>0</td>\n",
       "      <td>19</td>\n",
       "      <td>0</td>\n",
       "      <td>0</td>\n",
       "      <td>1</td>\n",
       "      <td>2</td>\n",
       "      <td>3</td>\n",
       "      <td>1</td>\n",
       "      <td>3</td>\n",
       "      <td>...</td>\n",
       "      <td>1</td>\n",
       "      <td>0</td>\n",
       "      <td>0</td>\n",
       "      <td>1</td>\n",
       "      <td>0</td>\n",
       "      <td>0</td>\n",
       "      <td>0</td>\n",
       "      <td>0</td>\n",
       "      <td>1</td>\n",
       "      <td>0</td>\n",
       "    </tr>\n",
       "    <tr>\n",
       "      <th>1040</th>\n",
       "      <td>1</td>\n",
       "      <td>0</td>\n",
       "      <td>18</td>\n",
       "      <td>1</td>\n",
       "      <td>1</td>\n",
       "      <td>1</td>\n",
       "      <td>3</td>\n",
       "      <td>1</td>\n",
       "      <td>1</td>\n",
       "      <td>2</td>\n",
       "      <td>...</td>\n",
       "      <td>0</td>\n",
       "      <td>1</td>\n",
       "      <td>0</td>\n",
       "      <td>1</td>\n",
       "      <td>0</td>\n",
       "      <td>0</td>\n",
       "      <td>0</td>\n",
       "      <td>0</td>\n",
       "      <td>1</td>\n",
       "      <td>0</td>\n",
       "    </tr>\n",
       "    <tr>\n",
       "      <th>1041</th>\n",
       "      <td>1</td>\n",
       "      <td>0</td>\n",
       "      <td>18</td>\n",
       "      <td>1</td>\n",
       "      <td>0</td>\n",
       "      <td>1</td>\n",
       "      <td>1</td>\n",
       "      <td>1</td>\n",
       "      <td>2</td>\n",
       "      <td>2</td>\n",
       "      <td>...</td>\n",
       "      <td>1</td>\n",
       "      <td>0</td>\n",
       "      <td>0</td>\n",
       "      <td>1</td>\n",
       "      <td>0</td>\n",
       "      <td>0</td>\n",
       "      <td>0</td>\n",
       "      <td>0</td>\n",
       "      <td>1</td>\n",
       "      <td>0</td>\n",
       "    </tr>\n",
       "    <tr>\n",
       "      <th>1042</th>\n",
       "      <td>1</td>\n",
       "      <td>1</td>\n",
       "      <td>17</td>\n",
       "      <td>1</td>\n",
       "      <td>1</td>\n",
       "      <td>1</td>\n",
       "      <td>3</td>\n",
       "      <td>1</td>\n",
       "      <td>2</td>\n",
       "      <td>1</td>\n",
       "      <td>...</td>\n",
       "      <td>0</td>\n",
       "      <td>1</td>\n",
       "      <td>0</td>\n",
       "      <td>1</td>\n",
       "      <td>0</td>\n",
       "      <td>0</td>\n",
       "      <td>0</td>\n",
       "      <td>0</td>\n",
       "      <td>1</td>\n",
       "      <td>0</td>\n",
       "    </tr>\n",
       "    <tr>\n",
       "      <th>1043</th>\n",
       "      <td>1</td>\n",
       "      <td>1</td>\n",
       "      <td>18</td>\n",
       "      <td>0</td>\n",
       "      <td>1</td>\n",
       "      <td>1</td>\n",
       "      <td>3</td>\n",
       "      <td>2</td>\n",
       "      <td>3</td>\n",
       "      <td>1</td>\n",
       "      <td>...</td>\n",
       "      <td>1</td>\n",
       "      <td>0</td>\n",
       "      <td>0</td>\n",
       "      <td>1</td>\n",
       "      <td>0</td>\n",
       "      <td>0</td>\n",
       "      <td>0</td>\n",
       "      <td>0</td>\n",
       "      <td>1</td>\n",
       "      <td>0</td>\n",
       "    </tr>\n",
       "  </tbody>\n",
       "</table>\n",
       "<p>1044 rows × 46 columns</p>\n",
       "</div>"
      ],
      "text/plain": [
       "      School  Sex  Age  Address  Family Size  parent's cohabitation status  \\\n",
       "0          0    0   18        1            0                             0   \n",
       "1          0    0   17        1            0                             1   \n",
       "2          0    0   15        1            1                             1   \n",
       "3          0    0   15        1            0                             1   \n",
       "4          0    0   16        1            0                             1   \n",
       "...      ...  ...  ...      ...          ...                           ...   \n",
       "1039       1    0   19        0            0                             1   \n",
       "1040       1    0   18        1            1                             1   \n",
       "1041       1    0   18        1            0                             1   \n",
       "1042       1    1   17        1            1                             1   \n",
       "1043       1    1   18        0            1                             1   \n",
       "\n",
       "      Mother's Education  Father's Education  Travel Time  Study Time  ...  \\\n",
       "0                      4                   4            2           2  ...   \n",
       "1                      1                   1            1           2  ...   \n",
       "2                      1                   1            1           2  ...   \n",
       "3                      4                   2            1           3  ...   \n",
       "4                      3                   3            1           2  ...   \n",
       "...                  ...                 ...          ...         ...  ...   \n",
       "1039                   2                   3            1           3  ...   \n",
       "1040                   3                   1            1           2  ...   \n",
       "1041                   1                   1            2           2  ...   \n",
       "1042                   3                   1            2           1  ...   \n",
       "1043                   3                   2            3           1  ...   \n",
       "\n",
       "      f_other  f_services  f_teacher  r_course  r_home  r_other  r_reputation  \\\n",
       "0           0           0          1         1       0        0             0   \n",
       "1           1           0          0         1       0        0             0   \n",
       "2           1           0          0         0       0        1             0   \n",
       "3           0           1          0         0       1        0             0   \n",
       "4           1           0          0         0       1        0             0   \n",
       "...       ...         ...        ...       ...     ...      ...           ...   \n",
       "1039        1           0          0         1       0        0             0   \n",
       "1040        0           1          0         1       0        0             0   \n",
       "1041        1           0          0         1       0        0             0   \n",
       "1042        0           1          0         1       0        0             0   \n",
       "1043        1           0          0         1       0        0             0   \n",
       "\n",
       "      g_father  g_mother  g_other  \n",
       "0            0         1        0  \n",
       "1            1         0        0  \n",
       "2            0         1        0  \n",
       "3            0         1        0  \n",
       "4            1         0        0  \n",
       "...        ...       ...      ...  \n",
       "1039         0         1        0  \n",
       "1040         0         1        0  \n",
       "1041         0         1        0  \n",
       "1042         0         1        0  \n",
       "1043         0         1        0  \n",
       "\n",
       "[1044 rows x 46 columns]"
      ]
     },
     "execution_count": 48,
     "metadata": {},
     "output_type": "execute_result"
    }
   ],
   "source": [
    "student"
   ]
  },
  {
   "cell_type": "code",
   "execution_count": 49,
   "id": "bf87233a",
   "metadata": {},
   "outputs": [
    {
     "data": {
      "text/plain": [
       "0       0\n",
       "1       0\n",
       "2       0\n",
       "3       0\n",
       "4       0\n",
       "       ..\n",
       "1039    0\n",
       "1040    0\n",
       "1041    0\n",
       "1042    1\n",
       "1043    1\n",
       "Name: Sex, Length: 1044, dtype: int32"
      ]
     },
     "execution_count": 49,
     "metadata": {},
     "output_type": "execute_result"
    }
   ],
   "source": [
    "student[\"Sex\"]"
   ]
  },
  {
   "cell_type": "markdown",
   "id": "a4a71f42",
   "metadata": {},
   "source": [
    "## Separating the features and the target variable"
   ]
  },
  {
   "cell_type": "code",
   "execution_count": 50,
   "id": "8db6bdb9",
   "metadata": {},
   "outputs": [],
   "source": [
    "#the column we want to use for our machine learning argorithm is the final course grade(G3)"
   ]
  },
  {
   "cell_type": "code",
   "execution_count": 51,
   "id": "34aebe15",
   "metadata": {},
   "outputs": [],
   "source": [
    "y = student[\"G3\"]\n",
    "x = student.drop('G3', axis = 1)"
   ]
  },
  {
   "cell_type": "code",
   "execution_count": 52,
   "id": "dd7bb316",
   "metadata": {},
   "outputs": [
    {
     "data": {
      "text/html": [
       "<div>\n",
       "<style scoped>\n",
       "    .dataframe tbody tr th:only-of-type {\n",
       "        vertical-align: middle;\n",
       "    }\n",
       "\n",
       "    .dataframe tbody tr th {\n",
       "        vertical-align: top;\n",
       "    }\n",
       "\n",
       "    .dataframe thead th {\n",
       "        text-align: right;\n",
       "    }\n",
       "</style>\n",
       "<table border=\"1\" class=\"dataframe\">\n",
       "  <thead>\n",
       "    <tr style=\"text-align: right;\">\n",
       "      <th></th>\n",
       "      <th>School</th>\n",
       "      <th>Sex</th>\n",
       "      <th>Age</th>\n",
       "      <th>Address</th>\n",
       "      <th>Family Size</th>\n",
       "      <th>parent's cohabitation status</th>\n",
       "      <th>Mother's Education</th>\n",
       "      <th>Father's Education</th>\n",
       "      <th>Travel Time</th>\n",
       "      <th>Study Time</th>\n",
       "      <th>...</th>\n",
       "      <th>f_other</th>\n",
       "      <th>f_services</th>\n",
       "      <th>f_teacher</th>\n",
       "      <th>r_course</th>\n",
       "      <th>r_home</th>\n",
       "      <th>r_other</th>\n",
       "      <th>r_reputation</th>\n",
       "      <th>g_father</th>\n",
       "      <th>g_mother</th>\n",
       "      <th>g_other</th>\n",
       "    </tr>\n",
       "  </thead>\n",
       "  <tbody>\n",
       "    <tr>\n",
       "      <th>0</th>\n",
       "      <td>0</td>\n",
       "      <td>0</td>\n",
       "      <td>18</td>\n",
       "      <td>1</td>\n",
       "      <td>0</td>\n",
       "      <td>0</td>\n",
       "      <td>4</td>\n",
       "      <td>4</td>\n",
       "      <td>2</td>\n",
       "      <td>2</td>\n",
       "      <td>...</td>\n",
       "      <td>0</td>\n",
       "      <td>0</td>\n",
       "      <td>1</td>\n",
       "      <td>1</td>\n",
       "      <td>0</td>\n",
       "      <td>0</td>\n",
       "      <td>0</td>\n",
       "      <td>0</td>\n",
       "      <td>1</td>\n",
       "      <td>0</td>\n",
       "    </tr>\n",
       "    <tr>\n",
       "      <th>1</th>\n",
       "      <td>0</td>\n",
       "      <td>0</td>\n",
       "      <td>17</td>\n",
       "      <td>1</td>\n",
       "      <td>0</td>\n",
       "      <td>1</td>\n",
       "      <td>1</td>\n",
       "      <td>1</td>\n",
       "      <td>1</td>\n",
       "      <td>2</td>\n",
       "      <td>...</td>\n",
       "      <td>1</td>\n",
       "      <td>0</td>\n",
       "      <td>0</td>\n",
       "      <td>1</td>\n",
       "      <td>0</td>\n",
       "      <td>0</td>\n",
       "      <td>0</td>\n",
       "      <td>1</td>\n",
       "      <td>0</td>\n",
       "      <td>0</td>\n",
       "    </tr>\n",
       "    <tr>\n",
       "      <th>2</th>\n",
       "      <td>0</td>\n",
       "      <td>0</td>\n",
       "      <td>15</td>\n",
       "      <td>1</td>\n",
       "      <td>1</td>\n",
       "      <td>1</td>\n",
       "      <td>1</td>\n",
       "      <td>1</td>\n",
       "      <td>1</td>\n",
       "      <td>2</td>\n",
       "      <td>...</td>\n",
       "      <td>1</td>\n",
       "      <td>0</td>\n",
       "      <td>0</td>\n",
       "      <td>0</td>\n",
       "      <td>0</td>\n",
       "      <td>1</td>\n",
       "      <td>0</td>\n",
       "      <td>0</td>\n",
       "      <td>1</td>\n",
       "      <td>0</td>\n",
       "    </tr>\n",
       "    <tr>\n",
       "      <th>3</th>\n",
       "      <td>0</td>\n",
       "      <td>0</td>\n",
       "      <td>15</td>\n",
       "      <td>1</td>\n",
       "      <td>0</td>\n",
       "      <td>1</td>\n",
       "      <td>4</td>\n",
       "      <td>2</td>\n",
       "      <td>1</td>\n",
       "      <td>3</td>\n",
       "      <td>...</td>\n",
       "      <td>0</td>\n",
       "      <td>1</td>\n",
       "      <td>0</td>\n",
       "      <td>0</td>\n",
       "      <td>1</td>\n",
       "      <td>0</td>\n",
       "      <td>0</td>\n",
       "      <td>0</td>\n",
       "      <td>1</td>\n",
       "      <td>0</td>\n",
       "    </tr>\n",
       "    <tr>\n",
       "      <th>4</th>\n",
       "      <td>0</td>\n",
       "      <td>0</td>\n",
       "      <td>16</td>\n",
       "      <td>1</td>\n",
       "      <td>0</td>\n",
       "      <td>1</td>\n",
       "      <td>3</td>\n",
       "      <td>3</td>\n",
       "      <td>1</td>\n",
       "      <td>2</td>\n",
       "      <td>...</td>\n",
       "      <td>1</td>\n",
       "      <td>0</td>\n",
       "      <td>0</td>\n",
       "      <td>0</td>\n",
       "      <td>1</td>\n",
       "      <td>0</td>\n",
       "      <td>0</td>\n",
       "      <td>1</td>\n",
       "      <td>0</td>\n",
       "      <td>0</td>\n",
       "    </tr>\n",
       "    <tr>\n",
       "      <th>...</th>\n",
       "      <td>...</td>\n",
       "      <td>...</td>\n",
       "      <td>...</td>\n",
       "      <td>...</td>\n",
       "      <td>...</td>\n",
       "      <td>...</td>\n",
       "      <td>...</td>\n",
       "      <td>...</td>\n",
       "      <td>...</td>\n",
       "      <td>...</td>\n",
       "      <td>...</td>\n",
       "      <td>...</td>\n",
       "      <td>...</td>\n",
       "      <td>...</td>\n",
       "      <td>...</td>\n",
       "      <td>...</td>\n",
       "      <td>...</td>\n",
       "      <td>...</td>\n",
       "      <td>...</td>\n",
       "      <td>...</td>\n",
       "      <td>...</td>\n",
       "    </tr>\n",
       "    <tr>\n",
       "      <th>1039</th>\n",
       "      <td>1</td>\n",
       "      <td>0</td>\n",
       "      <td>19</td>\n",
       "      <td>0</td>\n",
       "      <td>0</td>\n",
       "      <td>1</td>\n",
       "      <td>2</td>\n",
       "      <td>3</td>\n",
       "      <td>1</td>\n",
       "      <td>3</td>\n",
       "      <td>...</td>\n",
       "      <td>1</td>\n",
       "      <td>0</td>\n",
       "      <td>0</td>\n",
       "      <td>1</td>\n",
       "      <td>0</td>\n",
       "      <td>0</td>\n",
       "      <td>0</td>\n",
       "      <td>0</td>\n",
       "      <td>1</td>\n",
       "      <td>0</td>\n",
       "    </tr>\n",
       "    <tr>\n",
       "      <th>1040</th>\n",
       "      <td>1</td>\n",
       "      <td>0</td>\n",
       "      <td>18</td>\n",
       "      <td>1</td>\n",
       "      <td>1</td>\n",
       "      <td>1</td>\n",
       "      <td>3</td>\n",
       "      <td>1</td>\n",
       "      <td>1</td>\n",
       "      <td>2</td>\n",
       "      <td>...</td>\n",
       "      <td>0</td>\n",
       "      <td>1</td>\n",
       "      <td>0</td>\n",
       "      <td>1</td>\n",
       "      <td>0</td>\n",
       "      <td>0</td>\n",
       "      <td>0</td>\n",
       "      <td>0</td>\n",
       "      <td>1</td>\n",
       "      <td>0</td>\n",
       "    </tr>\n",
       "    <tr>\n",
       "      <th>1041</th>\n",
       "      <td>1</td>\n",
       "      <td>0</td>\n",
       "      <td>18</td>\n",
       "      <td>1</td>\n",
       "      <td>0</td>\n",
       "      <td>1</td>\n",
       "      <td>1</td>\n",
       "      <td>1</td>\n",
       "      <td>2</td>\n",
       "      <td>2</td>\n",
       "      <td>...</td>\n",
       "      <td>1</td>\n",
       "      <td>0</td>\n",
       "      <td>0</td>\n",
       "      <td>1</td>\n",
       "      <td>0</td>\n",
       "      <td>0</td>\n",
       "      <td>0</td>\n",
       "      <td>0</td>\n",
       "      <td>1</td>\n",
       "      <td>0</td>\n",
       "    </tr>\n",
       "    <tr>\n",
       "      <th>1042</th>\n",
       "      <td>1</td>\n",
       "      <td>1</td>\n",
       "      <td>17</td>\n",
       "      <td>1</td>\n",
       "      <td>1</td>\n",
       "      <td>1</td>\n",
       "      <td>3</td>\n",
       "      <td>1</td>\n",
       "      <td>2</td>\n",
       "      <td>1</td>\n",
       "      <td>...</td>\n",
       "      <td>0</td>\n",
       "      <td>1</td>\n",
       "      <td>0</td>\n",
       "      <td>1</td>\n",
       "      <td>0</td>\n",
       "      <td>0</td>\n",
       "      <td>0</td>\n",
       "      <td>0</td>\n",
       "      <td>1</td>\n",
       "      <td>0</td>\n",
       "    </tr>\n",
       "    <tr>\n",
       "      <th>1043</th>\n",
       "      <td>1</td>\n",
       "      <td>1</td>\n",
       "      <td>18</td>\n",
       "      <td>0</td>\n",
       "      <td>1</td>\n",
       "      <td>1</td>\n",
       "      <td>3</td>\n",
       "      <td>2</td>\n",
       "      <td>3</td>\n",
       "      <td>1</td>\n",
       "      <td>...</td>\n",
       "      <td>1</td>\n",
       "      <td>0</td>\n",
       "      <td>0</td>\n",
       "      <td>1</td>\n",
       "      <td>0</td>\n",
       "      <td>0</td>\n",
       "      <td>0</td>\n",
       "      <td>0</td>\n",
       "      <td>1</td>\n",
       "      <td>0</td>\n",
       "    </tr>\n",
       "  </tbody>\n",
       "</table>\n",
       "<p>1044 rows × 45 columns</p>\n",
       "</div>"
      ],
      "text/plain": [
       "      School  Sex  Age  Address  Family Size  parent's cohabitation status  \\\n",
       "0          0    0   18        1            0                             0   \n",
       "1          0    0   17        1            0                             1   \n",
       "2          0    0   15        1            1                             1   \n",
       "3          0    0   15        1            0                             1   \n",
       "4          0    0   16        1            0                             1   \n",
       "...      ...  ...  ...      ...          ...                           ...   \n",
       "1039       1    0   19        0            0                             1   \n",
       "1040       1    0   18        1            1                             1   \n",
       "1041       1    0   18        1            0                             1   \n",
       "1042       1    1   17        1            1                             1   \n",
       "1043       1    1   18        0            1                             1   \n",
       "\n",
       "      Mother's Education  Father's Education  Travel Time  Study Time  ...  \\\n",
       "0                      4                   4            2           2  ...   \n",
       "1                      1                   1            1           2  ...   \n",
       "2                      1                   1            1           2  ...   \n",
       "3                      4                   2            1           3  ...   \n",
       "4                      3                   3            1           2  ...   \n",
       "...                  ...                 ...          ...         ...  ...   \n",
       "1039                   2                   3            1           3  ...   \n",
       "1040                   3                   1            1           2  ...   \n",
       "1041                   1                   1            2           2  ...   \n",
       "1042                   3                   1            2           1  ...   \n",
       "1043                   3                   2            3           1  ...   \n",
       "\n",
       "      f_other  f_services  f_teacher  r_course  r_home  r_other  r_reputation  \\\n",
       "0           0           0          1         1       0        0             0   \n",
       "1           1           0          0         1       0        0             0   \n",
       "2           1           0          0         0       0        1             0   \n",
       "3           0           1          0         0       1        0             0   \n",
       "4           1           0          0         0       1        0             0   \n",
       "...       ...         ...        ...       ...     ...      ...           ...   \n",
       "1039        1           0          0         1       0        0             0   \n",
       "1040        0           1          0         1       0        0             0   \n",
       "1041        1           0          0         1       0        0             0   \n",
       "1042        0           1          0         1       0        0             0   \n",
       "1043        1           0          0         1       0        0             0   \n",
       "\n",
       "      g_father  g_mother  g_other  \n",
       "0            0         1        0  \n",
       "1            1         0        0  \n",
       "2            0         1        0  \n",
       "3            0         1        0  \n",
       "4            1         0        0  \n",
       "...        ...       ...      ...  \n",
       "1039         0         1        0  \n",
       "1040         0         1        0  \n",
       "1041         0         1        0  \n",
       "1042         0         1        0  \n",
       "1043         0         1        0  \n",
       "\n",
       "[1044 rows x 45 columns]"
      ]
     },
     "execution_count": 52,
     "metadata": {},
     "output_type": "execute_result"
    }
   ],
   "source": [
    "x"
   ]
  },
  {
   "cell_type": "markdown",
   "id": "a5710443",
   "metadata": {},
   "source": [
    "### Features Scaling"
   ]
  },
  {
   "cell_type": "code",
   "execution_count": 61,
   "id": "36fadbd1",
   "metadata": {},
   "outputs": [],
   "source": [
    "# scaling x using sk learns standard scaler which gives every feature unique variance\n",
    "\n",
    "scaler = StandardScaler()\n",
    "x = pd.DataFrame(scaler.fit_transform(x), columns = x.columns)"
   ]
  },
  {
   "cell_type": "code",
   "execution_count": 62,
   "id": "e3b513a3",
   "metadata": {},
   "outputs": [
    {
     "data": {
      "text/html": [
       "<div>\n",
       "<style scoped>\n",
       "    .dataframe tbody tr th:only-of-type {\n",
       "        vertical-align: middle;\n",
       "    }\n",
       "\n",
       "    .dataframe tbody tr th {\n",
       "        vertical-align: top;\n",
       "    }\n",
       "\n",
       "    .dataframe thead th {\n",
       "        text-align: right;\n",
       "    }\n",
       "</style>\n",
       "<table border=\"1\" class=\"dataframe\">\n",
       "  <thead>\n",
       "    <tr style=\"text-align: right;\">\n",
       "      <th></th>\n",
       "      <th>School</th>\n",
       "      <th>Sex</th>\n",
       "      <th>Age</th>\n",
       "      <th>Address</th>\n",
       "      <th>Family Size</th>\n",
       "      <th>parent's cohabitation status</th>\n",
       "      <th>Mother's Education</th>\n",
       "      <th>Father's Education</th>\n",
       "      <th>Travel Time</th>\n",
       "      <th>Study Time</th>\n",
       "      <th>...</th>\n",
       "      <th>f_other</th>\n",
       "      <th>f_services</th>\n",
       "      <th>f_teacher</th>\n",
       "      <th>r_course</th>\n",
       "      <th>r_home</th>\n",
       "      <th>r_other</th>\n",
       "      <th>r_reputation</th>\n",
       "      <th>g_father</th>\n",
       "      <th>g_mother</th>\n",
       "      <th>g_other</th>\n",
       "    </tr>\n",
       "  </thead>\n",
       "  <tbody>\n",
       "    <tr>\n",
       "      <th>0</th>\n",
       "      <td>-0.593575</td>\n",
       "      <td>-0.875498</td>\n",
       "      <td>1.027889</td>\n",
       "      <td>0.612776</td>\n",
       "      <td>-0.643921</td>\n",
       "      <td>-2.761901</td>\n",
       "      <td>1.242077</td>\n",
       "      <td>1.466302</td>\n",
       "      <td>0.652210</td>\n",
       "      <td>0.035606</td>\n",
       "      <td>...</td>\n",
       "      <td>-1.126750</td>\n",
       "      <td>-0.623136</td>\n",
       "      <td>3.880920</td>\n",
       "      <td>1.194951</td>\n",
       "      <td>-0.572926</td>\n",
       "      <td>-0.339683</td>\n",
       "      <td>-0.558174</td>\n",
       "      <td>-0.550791</td>\n",
       "      <td>0.658837</td>\n",
       "      <td>-0.27419</td>\n",
       "    </tr>\n",
       "    <tr>\n",
       "      <th>1</th>\n",
       "      <td>-0.593575</td>\n",
       "      <td>-0.875498</td>\n",
       "      <td>0.221035</td>\n",
       "      <td>0.612776</td>\n",
       "      <td>-0.643921</td>\n",
       "      <td>0.362069</td>\n",
       "      <td>-1.426089</td>\n",
       "      <td>-1.262431</td>\n",
       "      <td>-0.715074</td>\n",
       "      <td>0.035606</td>\n",
       "      <td>...</td>\n",
       "      <td>0.887508</td>\n",
       "      <td>-0.623136</td>\n",
       "      <td>-0.257671</td>\n",
       "      <td>1.194951</td>\n",
       "      <td>-0.572926</td>\n",
       "      <td>-0.339683</td>\n",
       "      <td>-0.558174</td>\n",
       "      <td>1.815571</td>\n",
       "      <td>-1.517827</td>\n",
       "      <td>-0.27419</td>\n",
       "    </tr>\n",
       "    <tr>\n",
       "      <th>2</th>\n",
       "      <td>-0.593575</td>\n",
       "      <td>-0.875498</td>\n",
       "      <td>-1.392674</td>\n",
       "      <td>0.612776</td>\n",
       "      <td>1.552986</td>\n",
       "      <td>0.362069</td>\n",
       "      <td>-1.426089</td>\n",
       "      <td>-1.262431</td>\n",
       "      <td>-0.715074</td>\n",
       "      <td>0.035606</td>\n",
       "      <td>...</td>\n",
       "      <td>0.887508</td>\n",
       "      <td>-0.623136</td>\n",
       "      <td>-0.257671</td>\n",
       "      <td>-0.836855</td>\n",
       "      <td>-0.572926</td>\n",
       "      <td>2.943920</td>\n",
       "      <td>-0.558174</td>\n",
       "      <td>-0.550791</td>\n",
       "      <td>0.658837</td>\n",
       "      <td>-0.27419</td>\n",
       "    </tr>\n",
       "    <tr>\n",
       "      <th>3</th>\n",
       "      <td>-0.593575</td>\n",
       "      <td>-0.875498</td>\n",
       "      <td>-1.392674</td>\n",
       "      <td>0.612776</td>\n",
       "      <td>-0.643921</td>\n",
       "      <td>0.362069</td>\n",
       "      <td>1.242077</td>\n",
       "      <td>-0.352853</td>\n",
       "      <td>-0.715074</td>\n",
       "      <td>1.234713</td>\n",
       "      <td>...</td>\n",
       "      <td>-1.126750</td>\n",
       "      <td>1.604787</td>\n",
       "      <td>-0.257671</td>\n",
       "      <td>-0.836855</td>\n",
       "      <td>1.745426</td>\n",
       "      <td>-0.339683</td>\n",
       "      <td>-0.558174</td>\n",
       "      <td>-0.550791</td>\n",
       "      <td>0.658837</td>\n",
       "      <td>-0.27419</td>\n",
       "    </tr>\n",
       "    <tr>\n",
       "      <th>4</th>\n",
       "      <td>-0.593575</td>\n",
       "      <td>-0.875498</td>\n",
       "      <td>-0.585820</td>\n",
       "      <td>0.612776</td>\n",
       "      <td>-0.643921</td>\n",
       "      <td>0.362069</td>\n",
       "      <td>0.352689</td>\n",
       "      <td>0.556724</td>\n",
       "      <td>-0.715074</td>\n",
       "      <td>0.035606</td>\n",
       "      <td>...</td>\n",
       "      <td>0.887508</td>\n",
       "      <td>-0.623136</td>\n",
       "      <td>-0.257671</td>\n",
       "      <td>-0.836855</td>\n",
       "      <td>1.745426</td>\n",
       "      <td>-0.339683</td>\n",
       "      <td>-0.558174</td>\n",
       "      <td>1.815571</td>\n",
       "      <td>-1.517827</td>\n",
       "      <td>-0.27419</td>\n",
       "    </tr>\n",
       "    <tr>\n",
       "      <th>...</th>\n",
       "      <td>...</td>\n",
       "      <td>...</td>\n",
       "      <td>...</td>\n",
       "      <td>...</td>\n",
       "      <td>...</td>\n",
       "      <td>...</td>\n",
       "      <td>...</td>\n",
       "      <td>...</td>\n",
       "      <td>...</td>\n",
       "      <td>...</td>\n",
       "      <td>...</td>\n",
       "      <td>...</td>\n",
       "      <td>...</td>\n",
       "      <td>...</td>\n",
       "      <td>...</td>\n",
       "      <td>...</td>\n",
       "      <td>...</td>\n",
       "      <td>...</td>\n",
       "      <td>...</td>\n",
       "      <td>...</td>\n",
       "      <td>...</td>\n",
       "    </tr>\n",
       "    <tr>\n",
       "      <th>1039</th>\n",
       "      <td>1.684706</td>\n",
       "      <td>-0.875498</td>\n",
       "      <td>1.834744</td>\n",
       "      <td>-1.631918</td>\n",
       "      <td>-0.643921</td>\n",
       "      <td>0.362069</td>\n",
       "      <td>-0.536700</td>\n",
       "      <td>0.556724</td>\n",
       "      <td>-0.715074</td>\n",
       "      <td>1.234713</td>\n",
       "      <td>...</td>\n",
       "      <td>0.887508</td>\n",
       "      <td>-0.623136</td>\n",
       "      <td>-0.257671</td>\n",
       "      <td>1.194951</td>\n",
       "      <td>-0.572926</td>\n",
       "      <td>-0.339683</td>\n",
       "      <td>-0.558174</td>\n",
       "      <td>-0.550791</td>\n",
       "      <td>0.658837</td>\n",
       "      <td>-0.27419</td>\n",
       "    </tr>\n",
       "    <tr>\n",
       "      <th>1040</th>\n",
       "      <td>1.684706</td>\n",
       "      <td>-0.875498</td>\n",
       "      <td>1.027889</td>\n",
       "      <td>0.612776</td>\n",
       "      <td>1.552986</td>\n",
       "      <td>0.362069</td>\n",
       "      <td>0.352689</td>\n",
       "      <td>-1.262431</td>\n",
       "      <td>-0.715074</td>\n",
       "      <td>0.035606</td>\n",
       "      <td>...</td>\n",
       "      <td>-1.126750</td>\n",
       "      <td>1.604787</td>\n",
       "      <td>-0.257671</td>\n",
       "      <td>1.194951</td>\n",
       "      <td>-0.572926</td>\n",
       "      <td>-0.339683</td>\n",
       "      <td>-0.558174</td>\n",
       "      <td>-0.550791</td>\n",
       "      <td>0.658837</td>\n",
       "      <td>-0.27419</td>\n",
       "    </tr>\n",
       "    <tr>\n",
       "      <th>1041</th>\n",
       "      <td>1.684706</td>\n",
       "      <td>-0.875498</td>\n",
       "      <td>1.027889</td>\n",
       "      <td>0.612776</td>\n",
       "      <td>-0.643921</td>\n",
       "      <td>0.362069</td>\n",
       "      <td>-1.426089</td>\n",
       "      <td>-1.262431</td>\n",
       "      <td>0.652210</td>\n",
       "      <td>0.035606</td>\n",
       "      <td>...</td>\n",
       "      <td>0.887508</td>\n",
       "      <td>-0.623136</td>\n",
       "      <td>-0.257671</td>\n",
       "      <td>1.194951</td>\n",
       "      <td>-0.572926</td>\n",
       "      <td>-0.339683</td>\n",
       "      <td>-0.558174</td>\n",
       "      <td>-0.550791</td>\n",
       "      <td>0.658837</td>\n",
       "      <td>-0.27419</td>\n",
       "    </tr>\n",
       "    <tr>\n",
       "      <th>1042</th>\n",
       "      <td>1.684706</td>\n",
       "      <td>1.142207</td>\n",
       "      <td>0.221035</td>\n",
       "      <td>0.612776</td>\n",
       "      <td>1.552986</td>\n",
       "      <td>0.362069</td>\n",
       "      <td>0.352689</td>\n",
       "      <td>-1.262431</td>\n",
       "      <td>0.652210</td>\n",
       "      <td>-1.163502</td>\n",
       "      <td>...</td>\n",
       "      <td>-1.126750</td>\n",
       "      <td>1.604787</td>\n",
       "      <td>-0.257671</td>\n",
       "      <td>1.194951</td>\n",
       "      <td>-0.572926</td>\n",
       "      <td>-0.339683</td>\n",
       "      <td>-0.558174</td>\n",
       "      <td>-0.550791</td>\n",
       "      <td>0.658837</td>\n",
       "      <td>-0.27419</td>\n",
       "    </tr>\n",
       "    <tr>\n",
       "      <th>1043</th>\n",
       "      <td>1.684706</td>\n",
       "      <td>1.142207</td>\n",
       "      <td>1.027889</td>\n",
       "      <td>-1.631918</td>\n",
       "      <td>1.552986</td>\n",
       "      <td>0.362069</td>\n",
       "      <td>0.352689</td>\n",
       "      <td>-0.352853</td>\n",
       "      <td>2.019494</td>\n",
       "      <td>-1.163502</td>\n",
       "      <td>...</td>\n",
       "      <td>0.887508</td>\n",
       "      <td>-0.623136</td>\n",
       "      <td>-0.257671</td>\n",
       "      <td>1.194951</td>\n",
       "      <td>-0.572926</td>\n",
       "      <td>-0.339683</td>\n",
       "      <td>-0.558174</td>\n",
       "      <td>-0.550791</td>\n",
       "      <td>0.658837</td>\n",
       "      <td>-0.27419</td>\n",
       "    </tr>\n",
       "  </tbody>\n",
       "</table>\n",
       "<p>1044 rows × 45 columns</p>\n",
       "</div>"
      ],
      "text/plain": [
       "        School       Sex       Age   Address  Family Size  \\\n",
       "0    -0.593575 -0.875498  1.027889  0.612776    -0.643921   \n",
       "1    -0.593575 -0.875498  0.221035  0.612776    -0.643921   \n",
       "2    -0.593575 -0.875498 -1.392674  0.612776     1.552986   \n",
       "3    -0.593575 -0.875498 -1.392674  0.612776    -0.643921   \n",
       "4    -0.593575 -0.875498 -0.585820  0.612776    -0.643921   \n",
       "...        ...       ...       ...       ...          ...   \n",
       "1039  1.684706 -0.875498  1.834744 -1.631918    -0.643921   \n",
       "1040  1.684706 -0.875498  1.027889  0.612776     1.552986   \n",
       "1041  1.684706 -0.875498  1.027889  0.612776    -0.643921   \n",
       "1042  1.684706  1.142207  0.221035  0.612776     1.552986   \n",
       "1043  1.684706  1.142207  1.027889 -1.631918     1.552986   \n",
       "\n",
       "      parent's cohabitation status  Mother's Education  Father's Education  \\\n",
       "0                        -2.761901            1.242077            1.466302   \n",
       "1                         0.362069           -1.426089           -1.262431   \n",
       "2                         0.362069           -1.426089           -1.262431   \n",
       "3                         0.362069            1.242077           -0.352853   \n",
       "4                         0.362069            0.352689            0.556724   \n",
       "...                            ...                 ...                 ...   \n",
       "1039                      0.362069           -0.536700            0.556724   \n",
       "1040                      0.362069            0.352689           -1.262431   \n",
       "1041                      0.362069           -1.426089           -1.262431   \n",
       "1042                      0.362069            0.352689           -1.262431   \n",
       "1043                      0.362069            0.352689           -0.352853   \n",
       "\n",
       "      Travel Time  Study Time  ...   f_other  f_services  f_teacher  r_course  \\\n",
       "0        0.652210    0.035606  ... -1.126750   -0.623136   3.880920  1.194951   \n",
       "1       -0.715074    0.035606  ...  0.887508   -0.623136  -0.257671  1.194951   \n",
       "2       -0.715074    0.035606  ...  0.887508   -0.623136  -0.257671 -0.836855   \n",
       "3       -0.715074    1.234713  ... -1.126750    1.604787  -0.257671 -0.836855   \n",
       "4       -0.715074    0.035606  ...  0.887508   -0.623136  -0.257671 -0.836855   \n",
       "...           ...         ...  ...       ...         ...        ...       ...   \n",
       "1039    -0.715074    1.234713  ...  0.887508   -0.623136  -0.257671  1.194951   \n",
       "1040    -0.715074    0.035606  ... -1.126750    1.604787  -0.257671  1.194951   \n",
       "1041     0.652210    0.035606  ...  0.887508   -0.623136  -0.257671  1.194951   \n",
       "1042     0.652210   -1.163502  ... -1.126750    1.604787  -0.257671  1.194951   \n",
       "1043     2.019494   -1.163502  ...  0.887508   -0.623136  -0.257671  1.194951   \n",
       "\n",
       "        r_home   r_other  r_reputation  g_father  g_mother  g_other  \n",
       "0    -0.572926 -0.339683     -0.558174 -0.550791  0.658837 -0.27419  \n",
       "1    -0.572926 -0.339683     -0.558174  1.815571 -1.517827 -0.27419  \n",
       "2    -0.572926  2.943920     -0.558174 -0.550791  0.658837 -0.27419  \n",
       "3     1.745426 -0.339683     -0.558174 -0.550791  0.658837 -0.27419  \n",
       "4     1.745426 -0.339683     -0.558174  1.815571 -1.517827 -0.27419  \n",
       "...        ...       ...           ...       ...       ...      ...  \n",
       "1039 -0.572926 -0.339683     -0.558174 -0.550791  0.658837 -0.27419  \n",
       "1040 -0.572926 -0.339683     -0.558174 -0.550791  0.658837 -0.27419  \n",
       "1041 -0.572926 -0.339683     -0.558174 -0.550791  0.658837 -0.27419  \n",
       "1042 -0.572926 -0.339683     -0.558174 -0.550791  0.658837 -0.27419  \n",
       "1043 -0.572926 -0.339683     -0.558174 -0.550791  0.658837 -0.27419  \n",
       "\n",
       "[1044 rows x 45 columns]"
      ]
     },
     "execution_count": 62,
     "metadata": {},
     "output_type": "execute_result"
    }
   ],
   "source": [
    "x\n",
    "#now everything has been scaler between 0 to have unit variance"
   ]
  },
  {
   "cell_type": "code",
   "execution_count": null,
   "id": "a1c35d78",
   "metadata": {},
   "outputs": [],
   "source": []
  },
  {
   "cell_type": "markdown",
   "id": "4cf86424",
   "metadata": {},
   "source": [
    "# RANDOM FOREST REGESSION"
   ]
  },
  {
   "cell_type": "markdown",
   "id": "7ca4c5c1",
   "metadata": {},
   "source": [
    "### Split Data into Training and Testing set"
   ]
  },
  {
   "cell_type": "code",
   "execution_count": 63,
   "id": "6cc0522f",
   "metadata": {},
   "outputs": [],
   "source": [
    "from sklearn.model_selection import train_test_split\n",
    "\n",
    "# Splitting the dataset into training and testing set (80/20)\n",
    "x_train, x_test, y_train, y_test = train_test_split(x, y, test_size = 0.20, random_state = 42)"
   ]
  },
  {
   "cell_type": "code",
   "execution_count": 64,
   "id": "f71fe678",
   "metadata": {},
   "outputs": [
    {
     "name": "stdout",
     "output_type": "stream",
     "text": [
      "Training Features Shape: (835, 45)\n",
      "Training Labels Shape: (835,)\n",
      "Testing Features Shape: (209, 45)\n",
      "Testing Labels Shape: (209,)\n"
     ]
    }
   ],
   "source": [
    "# looking at the shape\n",
    "\n",
    "print('Training Features Shape:', x_train.shape)\n",
    "print('Training Labels Shape:', y_train.shape)\n",
    "print('Testing Features Shape:', x_test.shape)\n",
    "print('Testing Labels Shape:', y_test.shape)"
   ]
  },
  {
   "cell_type": "markdown",
   "id": "cb7df0ad",
   "metadata": {},
   "source": [
    "We can look at the shape of all the data to make sure we did everything correctly. \n",
    "We expect the training features number of columns to match the testing feature number of columns \n",
    "and the number of rows to match for the respective training and testing features and the labels :"
   ]
  },
  {
   "cell_type": "markdown",
   "id": "a25d2430",
   "metadata": {},
   "source": [
    "### Feature Scaling"
   ]
  },
  {
   "cell_type": "code",
   "execution_count": 65,
   "id": "d5077470",
   "metadata": {},
   "outputs": [],
   "source": [
    "# Feature Scaling\n",
    "#from sklearn.preprocessing import StandardScaler\n",
    "\n",
    "#sc = StandardScaler()\n",
    "#X_train = sc.fit_transform(X_train)\n",
    "#X_test = sc.transform(X_test)"
   ]
  },
  {
   "cell_type": "markdown",
   "id": "b8646748",
   "metadata": {},
   "source": [
    "### Fitting the model to the training dataset\n",
    "\n"
   ]
  },
  {
   "cell_type": "code",
   "execution_count": 69,
   "id": "5457ee13",
   "metadata": {},
   "outputs": [
    {
     "data": {
      "text/plain": [
       "RandomForestRegressor(random_state=42)"
      ]
     },
     "execution_count": 69,
     "metadata": {},
     "output_type": "execute_result"
    }
   ],
   "source": [
    "# Initializing the Random Forest Regression model with 10 decision trees\n",
    "regressor = RandomForestRegressor(n_estimators = 100, random_state = 42)\n",
    "\n",
    "# Fitting the Random Forest Regression model to the training data\n",
    "regressor.fit(x_train, y_train)"
   ]
  },
  {
   "cell_type": "markdown",
   "id": "e409f3dc",
   "metadata": {},
   "source": [
    "### Model  Prediction"
   ]
  },
  {
   "cell_type": "code",
   "execution_count": 70,
   "id": "475aa33e",
   "metadata": {},
   "outputs": [],
   "source": [
    "#prediction on the test dataset\n",
    "y_pred = regressor.predict(x_test)"
   ]
  },
  {
   "cell_type": "code",
   "execution_count": 71,
   "id": "64f3f1b0",
   "metadata": {},
   "outputs": [
    {
     "data": {
      "text/plain": [
       "array([10.18      ,  7.33      , 13.12      , 11.19      , 12.93      ,\n",
       "       12.12      ,  2.87      , 11.06      , 14.62      , 13.51      ,\n",
       "       15.86083333,  5.65      ,  7.78      , 10.85      ,  8.09      ,\n",
       "       12.24      ,  9.83      , 15.71      , 11.14      , 12.53      ,\n",
       "        9.96      , 15.97      , 11.22      ,  1.04      , 15.475     ,\n",
       "       11.3       , 17.58      , 16.385     , 10.91      ,  9.16      ,\n",
       "        9.84      ,  9.75      , 17.95      , 11.12      , 15.13      ,\n",
       "       14.53      , 15.45      , 18.35      , 10.1       , 13.06      ,\n",
       "       15.13      , 16.61      , 11.        ,  8.66      , 15.92      ,\n",
       "       10.48      , 11.13      , 16.27      , 12.1       , 11.01      ,\n",
       "       11.42      , 15.41916667, 10.31      , 10.17      ,  7.62      ,\n",
       "       10.87      , 11.05      , 12.91      , 17.67      ,  8.28      ,\n",
       "       11.95      ,  4.06      ,  7.64      , 12.32      ,  8.11      ,\n",
       "        9.5       ,  7.33      ,  6.78      , 10.14      , 18.05      ,\n",
       "       11.26      , 14.34      ,  9.75      ,  8.45      ,  8.31      ,\n",
       "       10.14      ,  7.38      ,  8.03      ,  7.57      , 13.67      ,\n",
       "       12.88      , 12.47      , 10.55      ,  8.66      , 16.12      ,\n",
       "       14.47      ,  7.36      ,  7.68      ,  8.47      , 11.2       ,\n",
       "       15.53      ,  0.16      , 10.24      , 14.1       , 11.92      ,\n",
       "       12.21      , 10.06      ,  7.57      , 12.41      , 10.9       ,\n",
       "       15.1       , 13.08      , 13.03      , 12.89      , 11.04      ,\n",
       "       14.9       , 18.        , 10.99      ,  9.        , 11.32      ,\n",
       "       14.52      ,  9.12      , 18.78      , 15.28      ,  9.8       ,\n",
       "       13.26      , 13.29      , 10.89      , 11.03      ,  8.39      ,\n",
       "        9.7       ,  8.38      , 13.22      ,  9.83      , 15.79      ,\n",
       "        8.9       , 10.6       , 12.36      , 11.83      ,  6.82      ,\n",
       "        7.27      ,  8.63      , 12.72      , 11.01      ,  0.23      ,\n",
       "        9.71      ,  5.91      , 17.72      , 14.78      , 13.01      ,\n",
       "       10.55      ,  6.99      ,  9.73      ,  8.28      , 13.05      ,\n",
       "       14.55      ,  9.78      , 13.22      ,  8.63      ,  5.49      ,\n",
       "       11.03      , 15.56      , 11.82      ,  8.55      , 12.19      ,\n",
       "       12.88      ,  9.73      , 13.15      , 12.07      ,  9.99      ,\n",
       "        7.67      , 10.64      , 12.49      , 11.19      , 12.92      ,\n",
       "       12.5       ,  5.88      , 14.74      ,  9.62      , 15.41      ,\n",
       "       11.43      , 13.1       , 11.09      , 15.86      , 13.36      ,\n",
       "       15.11      , 15.5       , 13.21      ,  8.42      ,  9.84      ,\n",
       "        8.76      ,  4.75      ,  7.59      ,  8.56      ,  6.77      ,\n",
       "        9.61      ,  9.57      , 15.44666667,  9.98      ,  7.81      ,\n",
       "        7.24      , 10.97      ,  9.62      , 12.62      ,  8.58      ,\n",
       "       12.64      ,  0.24      ,  9.88      , 11.42      , 15.245     ,\n",
       "        4.07      , 15.26      ,  0.24      , 12.36      , 11.2       ,\n",
       "        5.49      , 13.05      , 13.09      , 11.13      ])"
      ]
     },
     "execution_count": 71,
     "metadata": {},
     "output_type": "execute_result"
    }
   ],
   "source": [
    "y_pred"
   ]
  },
  {
   "cell_type": "code",
   "execution_count": 72,
   "id": "8429611f",
   "metadata": {},
   "outputs": [
    {
     "data": {
      "text/plain": [
       "(209,)"
      ]
     },
     "execution_count": 72,
     "metadata": {},
     "output_type": "execute_result"
    }
   ],
   "source": [
    "y_pred.shape"
   ]
  },
  {
   "cell_type": "code",
   "execution_count": 73,
   "id": "22b44ce9",
   "metadata": {},
   "outputs": [
    {
     "data": {
      "text/plain": [
       "10.87"
      ]
     },
     "execution_count": 73,
     "metadata": {},
     "output_type": "execute_result"
    }
   ],
   "source": [
    "y_pred[55]"
   ]
  },
  {
   "cell_type": "code",
   "execution_count": 74,
   "id": "3622b94d",
   "metadata": {},
   "outputs": [
    {
     "data": {
      "text/plain": [
       "10"
      ]
     },
     "execution_count": 74,
     "metadata": {},
     "output_type": "execute_result"
    }
   ],
   "source": [
    "y_test[55]"
   ]
  },
  {
   "cell_type": "code",
   "execution_count": 75,
   "id": "2c08107a",
   "metadata": {},
   "outputs": [
    {
     "name": "stdout",
     "output_type": "stream",
     "text": [
      "[10.18  7.33 13.12 11.19 12.93 12.12  2.87 11.06 14.62 13.51]\n"
     ]
    }
   ],
   "source": [
    "print(y_pred[:10])"
   ]
  },
  {
   "cell_type": "code",
   "execution_count": 76,
   "id": "9a09fffc",
   "metadata": {},
   "outputs": [
    {
     "name": "stdout",
     "output_type": "stream",
     "text": [
      "971    11\n",
      "280     8\n",
      "536    13\n",
      "824    11\n",
      "644    12\n",
      "777    11\n",
      "978     0\n",
      "231    11\n",
      "660    15\n",
      "548    13\n",
      "Name: G3, dtype: int64\n"
     ]
    }
   ],
   "source": [
    "print(y_test[:10])"
   ]
  },
  {
   "cell_type": "code",
   "execution_count": 77,
   "id": "9ece9260",
   "metadata": {},
   "outputs": [
    {
     "data": {
      "text/html": [
       "<div>\n",
       "<style scoped>\n",
       "    .dataframe tbody tr th:only-of-type {\n",
       "        vertical-align: middle;\n",
       "    }\n",
       "\n",
       "    .dataframe tbody tr th {\n",
       "        vertical-align: top;\n",
       "    }\n",
       "\n",
       "    .dataframe thead th {\n",
       "        text-align: right;\n",
       "    }\n",
       "</style>\n",
       "<table border=\"1\" class=\"dataframe\">\n",
       "  <thead>\n",
       "    <tr style=\"text-align: right;\">\n",
       "      <th></th>\n",
       "      <th>Actual</th>\n",
       "      <th>Predicted</th>\n",
       "    </tr>\n",
       "  </thead>\n",
       "  <tbody>\n",
       "    <tr>\n",
       "      <th>971</th>\n",
       "      <td>11</td>\n",
       "      <td>10.18</td>\n",
       "    </tr>\n",
       "    <tr>\n",
       "      <th>280</th>\n",
       "      <td>8</td>\n",
       "      <td>7.33</td>\n",
       "    </tr>\n",
       "    <tr>\n",
       "      <th>536</th>\n",
       "      <td>13</td>\n",
       "      <td>13.12</td>\n",
       "    </tr>\n",
       "    <tr>\n",
       "      <th>824</th>\n",
       "      <td>11</td>\n",
       "      <td>11.19</td>\n",
       "    </tr>\n",
       "    <tr>\n",
       "      <th>644</th>\n",
       "      <td>12</td>\n",
       "      <td>12.93</td>\n",
       "    </tr>\n",
       "    <tr>\n",
       "      <th>777</th>\n",
       "      <td>11</td>\n",
       "      <td>12.12</td>\n",
       "    </tr>\n",
       "    <tr>\n",
       "      <th>978</th>\n",
       "      <td>0</td>\n",
       "      <td>2.87</td>\n",
       "    </tr>\n",
       "    <tr>\n",
       "      <th>231</th>\n",
       "      <td>11</td>\n",
       "      <td>11.06</td>\n",
       "    </tr>\n",
       "    <tr>\n",
       "      <th>660</th>\n",
       "      <td>15</td>\n",
       "      <td>14.62</td>\n",
       "    </tr>\n",
       "    <tr>\n",
       "      <th>548</th>\n",
       "      <td>13</td>\n",
       "      <td>13.51</td>\n",
       "    </tr>\n",
       "  </tbody>\n",
       "</table>\n",
       "</div>"
      ],
      "text/plain": [
       "     Actual  Predicted\n",
       "971      11      10.18\n",
       "280       8       7.33\n",
       "536      13      13.12\n",
       "824      11      11.19\n",
       "644      12      12.93\n",
       "777      11      12.12\n",
       "978       0       2.87\n",
       "231      11      11.06\n",
       "660      15      14.62\n",
       "548      13      13.51"
      ]
     },
     "execution_count": 77,
     "metadata": {},
     "output_type": "execute_result"
    }
   ],
   "source": [
    "df=pd.DataFrame({'Actual':y_test, 'Predicted':y_pred})\n",
    "df.head(10)"
   ]
  },
  {
   "cell_type": "markdown",
   "id": "219dadb0",
   "metadata": {},
   "source": [
    "## Model Evaluation / Check Accuracy"
   ]
  },
  {
   "cell_type": "markdown",
   "id": "7afee83b",
   "metadata": {},
   "source": [
    "### Error Metrics for Regression\n",
    "1. Mean Absolute Error\n",
    "2. Mean Squared Error\n",
    "3. Root Mean Squared Error\n",
    "\n",
    "#### Evaluating the random forest regressor model algorithm using the error metrics."
   ]
  },
  {
   "cell_type": "code",
   "execution_count": 78,
   "id": "f98d19ba",
   "metadata": {},
   "outputs": [],
   "source": [
    "#Prediction on the test dataset\n",
    "y_pred = regressor.predict(x_test)\n",
    "#b = regressor.predict(x_train)"
   ]
  },
  {
   "cell_type": "code",
   "execution_count": 79,
   "id": "ae8683d6",
   "metadata": {},
   "outputs": [
    {
     "name": "stdout",
     "output_type": "stream",
     "text": [
      "Mean Absolute Error: 0.970438596491228\n",
      "Mean Squared Error: 2.9633742623604467\n",
      "Root Mean Squared Error: 1.7214453991807137\n"
     ]
    }
   ],
   "source": [
    "# Evaluating the Algorithm\n",
    "from sklearn import metrics\n",
    "print('Mean Absolute Error:', metrics.mean_absolute_error(y_test, y_pred))  \n",
    "print('Mean Squared Error:', metrics.mean_squared_error(y_test, y_pred))  \n",
    "print('Root Mean Squared Error:', np.sqrt(metrics.mean_squared_error(y_test, y_pred)))"
   ]
  },
  {
   "cell_type": "code",
   "execution_count": 80,
   "id": "89032b9f",
   "metadata": {},
   "outputs": [
    {
     "name": "stdout",
     "output_type": "stream",
     "text": [
      "0.8083300493464566\n"
     ]
    }
   ],
   "source": [
    "#r2 score\n",
    "#coefficient of determination R^2 of the prediction.\n",
    "print(regressor.score(x_test,y_test))"
   ]
  },
  {
   "cell_type": "code",
   "execution_count": 81,
   "id": "adcb7e37",
   "metadata": {},
   "outputs": [
    {
     "name": "stdout",
     "output_type": "stream",
     "text": [
      "Train Accuracy - :0.98\n",
      "Test Accuracy - :0.808\n",
      "R^2 test: 0.808\n"
     ]
    }
   ],
   "source": [
    "from sklearn.metrics import explained_variance_score, mean_absolute_error, mean_squared_error,r2_score\n",
    "print(f'Train Accuracy - :{regressor.score(x_train,y_train):.2f}')\n",
    "print(f'Test Accuracy - :{regressor.score(x_test,y_test):.3f}')\n",
    "print('R^2 test: %.3f' % (r2_score(y_test, y_pred)))"
   ]
  },
  {
   "cell_type": "markdown",
   "id": "cae2dcf1",
   "metadata": {},
   "source": [
    "## Features Importance"
   ]
  },
  {
   "cell_type": "code",
   "execution_count": 82,
   "id": "9bf23327",
   "metadata": {},
   "outputs": [],
   "source": [
    "from sklearn.pipeline import Pipeline"
   ]
  },
  {
   "cell_type": "code",
   "execution_count": 83,
   "id": "b422d43e",
   "metadata": {},
   "outputs": [],
   "source": [
    "f_list = list(x.columns)\n",
    "f_importance = pd.Series(regressor.feature_importances_, index = f_list).sort_values(ascending = False)"
   ]
  },
  {
   "cell_type": "code",
   "execution_count": 84,
   "id": "c268b90b",
   "metadata": {},
   "outputs": [
    {
     "name": "stdout",
     "output_type": "stream",
     "text": [
      "G2                              0.825475\n",
      "Absences                        0.057680\n",
      "Study Time                      0.011104\n",
      "G1                              0.010725\n",
      "Going Out                       0.006688\n",
      "Age                             0.006436\n",
      "Health Status                   0.005910\n",
      "Sex                             0.004625\n",
      "Free Time                       0.004479\n",
      "Family Relationship             0.003833\n",
      "f_services                      0.003769\n",
      "Paid Classes                    0.003487\n",
      "r_home                          0.003306\n",
      "Travel Time                     0.003178\n",
      "Mother's Education              0.003069\n",
      "Weekend Alcohol Consumption     0.003023\n",
      "Father's Education              0.002853\n",
      "Failures                        0.002839\n",
      "m_teacher                       0.002759\n",
      "f_other                         0.002676\n",
      "r_course                        0.002606\n",
      "School Support                  0.002279\n",
      "Activities                      0.002091\n",
      "Workday Alcohol Consumption     0.001999\n",
      "r_other                         0.001969\n",
      "Famly Support                   0.001956\n",
      "Higher Education                0.001791\n",
      "g_father                        0.001648\n",
      "Nursery                         0.001528\n",
      "m_other                         0.001527\n",
      "g_mother                        0.001477\n",
      "m_services                      0.001287\n",
      "m_at_home                       0.001193\n",
      "Romantic                        0.001180\n",
      "School                          0.001169\n",
      "Family Size                     0.001106\n",
      "Address                         0.000945\n",
      "f_at_home                       0.000906\n",
      "r_reputation                    0.000853\n",
      "m_health                        0.000781\n",
      "Internet                        0.000728\n",
      "parent's cohabitation status    0.000426\n",
      "f_health                        0.000294\n",
      "g_other                         0.000188\n",
      "f_teacher                       0.000161\n",
      "dtype: float64\n"
     ]
    }
   ],
   "source": [
    "print(f_importance)"
   ]
  },
  {
   "cell_type": "code",
   "execution_count": 85,
   "id": "b40de3bf",
   "metadata": {},
   "outputs": [],
   "source": [
    "columns = x_train.columns"
   ]
  },
  {
   "cell_type": "code",
   "execution_count": 86,
   "id": "55cfa3d0",
   "metadata": {},
   "outputs": [
    {
     "data": {
      "text/plain": [
       "array([1.16949539e-03, 4.62497754e-03, 6.43573740e-03, 9.44828389e-04,\n",
       "       1.10647192e-03, 4.26264173e-04, 3.06926592e-03, 2.85257585e-03,\n",
       "       3.17760850e-03, 1.11040794e-02, 2.83933739e-03, 2.27897463e-03,\n",
       "       1.95638264e-03, 3.48668970e-03, 2.09148374e-03, 1.52758599e-03,\n",
       "       1.79080925e-03, 7.27640303e-04, 1.17973799e-03, 3.83251117e-03,\n",
       "       4.47922531e-03, 6.68781705e-03, 1.99940620e-03, 3.02285551e-03,\n",
       "       5.90988794e-03, 5.76798489e-02, 1.07250599e-02, 8.25474713e-01,\n",
       "       1.19326028e-03, 7.80683722e-04, 1.52701269e-03, 1.28678400e-03,\n",
       "       2.75900196e-03, 9.05780123e-04, 2.93506931e-04, 2.67635738e-03,\n",
       "       3.76917438e-03, 1.60595730e-04, 2.60584312e-03, 3.30551485e-03,\n",
       "       1.96912173e-03, 8.52863471e-04, 1.64834545e-03, 1.47717287e-03,\n",
       "       1.87710164e-04])"
      ]
     },
     "execution_count": 86,
     "metadata": {},
     "output_type": "execute_result"
    }
   ],
   "source": [
    "importance = regressor.feature_importances_\n",
    "importance"
   ]
  },
  {
   "cell_type": "code",
   "execution_count": 236,
   "id": "90f68369",
   "metadata": {},
   "outputs": [
    {
     "data": {
      "text/plain": [
       "School                          0.001169\n",
       "Sex                             0.004625\n",
       "Age                             0.006436\n",
       "Address                         0.000945\n",
       "Family Size                     0.001106\n",
       "parent's cohabitation status    0.000426\n",
       "Mother's Education              0.003069\n",
       "Father's Education              0.002853\n",
       "Travel Time                     0.003178\n",
       "Study Time                      0.011104\n",
       "Failures                        0.002839\n",
       "School Support                  0.002279\n",
       "Famly Support                   0.001956\n",
       "Paid Classes                    0.003487\n",
       "Activities                      0.002091\n",
       "Nursery                         0.001528\n",
       "Higher Education                0.001791\n",
       "Internet                        0.000728\n",
       "Romantic                        0.001180\n",
       "Family Relationship             0.003833\n",
       "Free Time                       0.004479\n",
       "Going Out                       0.006688\n",
       "Workday Alcohol Consumption     0.001999\n",
       "Weekend Alcohol Consumption     0.003023\n",
       "Health Status                   0.005910\n",
       "Absences                        0.057680\n",
       "G1                              0.010725\n",
       "G2                              0.825475\n",
       "m_at_home                       0.001193\n",
       "m_health                        0.000781\n",
       "m_other                         0.001527\n",
       "m_services                      0.001287\n",
       "m_teacher                       0.002759\n",
       "f_at_home                       0.000906\n",
       "f_health                        0.000294\n",
       "f_other                         0.002676\n",
       "f_services                      0.003769\n",
       "f_teacher                       0.000161\n",
       "r_course                        0.002606\n",
       "r_home                          0.003306\n",
       "r_other                         0.001969\n",
       "r_reputation                    0.000853\n",
       "g_father                        0.001648\n",
       "g_mother                        0.001477\n",
       "g_other                         0.000188\n",
       "dtype: float64"
      ]
     },
     "execution_count": 236,
     "metadata": {},
     "output_type": "execute_result"
    }
   ],
   "source": [
    "# creating pandas series to combine \n",
    "\n",
    "ranking = pd.Series(importance, columns)\n",
    "ranking"
   ]
  },
  {
   "cell_type": "code",
   "execution_count": 87,
   "id": "a6e9e5d3",
   "metadata": {},
   "outputs": [],
   "source": [
    "# visualization of feature importance\n",
    "\n",
    "from matplotlib.pyplot import figure"
   ]
  },
  {
   "cell_type": "code",
   "execution_count": 88,
   "id": "f566ca64",
   "metadata": {},
   "outputs": [
    {
     "ename": "NameError",
     "evalue": "name 'ranking' is not defined",
     "output_type": "error",
     "traceback": [
      "\u001b[1;31m---------------------------------------------------------------------------\u001b[0m",
      "\u001b[1;31mNameError\u001b[0m                                 Traceback (most recent call last)",
      "\u001b[1;32mC:\\Users\\DB0E23~1.I\\AppData\\Local\\Temp/ipykernel_19116/4286806978.py\u001b[0m in \u001b[0;36m<module>\u001b[1;34m\u001b[0m\n\u001b[0;32m      1\u001b[0m \u001b[0mfigure\u001b[0m\u001b[1;33m(\u001b[0m\u001b[0mfigsize\u001b[0m \u001b[1;33m=\u001b[0m \u001b[1;33m(\u001b[0m\u001b[1;36m20\u001b[0m\u001b[1;33m,\u001b[0m\u001b[1;36m15\u001b[0m\u001b[1;33m)\u001b[0m\u001b[1;33m)\u001b[0m\u001b[1;33m\u001b[0m\u001b[1;33m\u001b[0m\u001b[0m\n\u001b[1;32m----> 2\u001b[1;33m \u001b[0mranking\u001b[0m\u001b[1;33m.\u001b[0m\u001b[0msort_values\u001b[0m\u001b[1;33m(\u001b[0m\u001b[1;33m)\u001b[0m\u001b[1;33m.\u001b[0m\u001b[0mplot\u001b[0m\u001b[1;33m.\u001b[0m\u001b[0mbarh\u001b[0m\u001b[1;33m(\u001b[0m\u001b[0mcolor\u001b[0m \u001b[1;33m=\u001b[0m \u001b[1;34m\"red\"\u001b[0m\u001b[1;33m)\u001b[0m\u001b[1;33m\u001b[0m\u001b[1;33m\u001b[0m\u001b[0m\n\u001b[0m\u001b[0;32m      3\u001b[0m \u001b[0mplt\u001b[0m\u001b[1;33m.\u001b[0m\u001b[0mtitle\u001b[0m\u001b[1;33m(\u001b[0m\u001b[1;34m\"Random forest regression model feature importance\"\u001b[0m\u001b[1;33m)\u001b[0m\u001b[1;33m\u001b[0m\u001b[1;33m\u001b[0m\u001b[0m\n",
      "\u001b[1;31mNameError\u001b[0m: name 'ranking' is not defined"
     ]
    },
    {
     "data": {
      "text/plain": [
       "<Figure size 1440x1080 with 0 Axes>"
      ]
     },
     "metadata": {},
     "output_type": "display_data"
    }
   ],
   "source": [
    "figure(figsize = (20,15))\n",
    "ranking.sort_values().plot.barh(color = \"red\")\n",
    "plt.title(\"Random forest regression model feature importance\")"
   ]
  },
  {
   "cell_type": "code",
   "execution_count": 89,
   "id": "1578ad0c",
   "metadata": {},
   "outputs": [
    {
     "data": {
      "text/plain": [
       "<AxesSubplot:title={'center':'Random forest regression model feature importance'}, xlabel='Features', ylabel='Importances'>"
      ]
     },
     "execution_count": 89,
     "metadata": {},
     "output_type": "execute_result"
    },
    {
     "data": {
      "image/png": "[encoded data removed]",
      "text/plain": [
       "<Figure size 720x360 with 1 Axes>"
      ]
     },
     "metadata": {},
     "output_type": "display_data"
    }
   ],
   "source": [
    "importances = regressor.feature_importances_\n",
    "final = pd.DataFrame({\"Features\": x_train.columns, \"Importances\": importances})\n",
    "#final.set_index('importances')\n",
    "\n",
    "final = final.sort_values('Importances', ascending = False)[:7]\n",
    "\n",
    "plt.figure(figsize = (10, 5))\n",
    "plt.title(\"Random forest regression model feature importance\")\n",
    "plt.xticks(rotation = 45)\n",
    "sns.barplot(x=\"Features\", y = \"Importances\", data = final)"
   ]
  },
  {
   "cell_type": "markdown",
   "id": "57fcfaea",
   "metadata": {},
   "source": [
    "these are the features that have the most impact on a student final grade.\n",
    "\n",
    "so based on our random forest model the above features do have an impact on the final grade\n",
    "\n",
    "we can also see the other factors that dont have much impact on the final grade"
   ]
  },
  {
   "cell_type": "code",
   "execution_count": null,
   "id": "89b86a85",
   "metadata": {},
   "outputs": [],
   "source": []
  },
  {
   "cell_type": "markdown",
   "id": "dfc95f32",
   "metadata": {},
   "source": [
    "## Hyper-parameter Tuning"
   ]
  },
  {
   "cell_type": "markdown",
   "id": "bedc6465",
   "metadata": {},
   "source": [
    "### BUILD RANDOM FOREST MODEL WITH HYPERPARAMETERS"
   ]
  },
  {
   "cell_type": "code",
   "execution_count": 90,
   "id": "62afa5ce",
   "metadata": {},
   "outputs": [],
   "source": [
    "rf_model = RandomForestRegressor(random_state = 42)"
   ]
  },
  {
   "cell_type": "markdown",
   "id": "8a225dec",
   "metadata": {},
   "source": [
    "### WITH GRIDSEARCHCV"
   ]
  },
  {
   "cell_type": "code",
   "execution_count": 91,
   "id": "c3758d8a",
   "metadata": {},
   "outputs": [],
   "source": [
    "#from sklearn.model_selection import GridSearchCV\n",
    "#rf_grid = GridSearchCV(estimator = rf_model, param_grid = param_grid, cv = 5, verbose = 2, n_jobs = 4)\n",
    "\n",
    "from sklearn.model_selection import GridSearchCV\n",
    "n_estimators_list = [130,160,190]\n",
    "# Number of features to consider at every split\n",
    "max_features = ['auto', 'sqrt']\n",
    "# Maximum number of levels in tree\n",
    "max_depth = [35,55]\n",
    "# Minimum number of samples required to split a node\n",
    "min_samples_split = [0.001, 0.005]\n",
    "# Minimum number of samples required at each leaf node\n",
    "min_samples_leaf = [0.001, 0.005]\n",
    "# Method of selecting samples for training each tree\n",
    "bootstrap = [True, False]"
   ]
  },
  {
   "cell_type": "code",
   "execution_count": 92,
   "id": "45790815",
   "metadata": {},
   "outputs": [
    {
     "name": "stdout",
     "output_type": "stream",
     "text": [
      "{'n_estimators': [130, 160, 190], 'max_features': ['auto', 'sqrt'], 'max_depth': [35, 55], 'min_samples_split': [0.001, 0.005], 'min_samples_leaf': [0.001, 0.005], 'bootstrap': [True, False]}\n"
     ]
    }
   ],
   "source": [
    "param_grid = {'n_estimators': n_estimators_list,\n",
    "               'max_features': max_features,\n",
    "               'max_depth': max_depth,\n",
    "               'min_samples_split': min_samples_split,\n",
    "               'min_samples_leaf': min_samples_leaf,\n",
    "               'bootstrap': bootstrap}\n",
    "\n",
    "print(param_grid)   "
   ]
  },
  {
   "cell_type": "code",
   "execution_count": 93,
   "id": "afe66fe0",
   "metadata": {},
   "outputs": [],
   "source": [
    "from sklearn.model_selection import GridSearchCV\n",
    "rf_grid = GridSearchCV(estimator = rf_model, param_grid = param_grid, cv = 5, verbose = 2, n_jobs = 4,return_train_score = True)\n"
   ]
  },
  {
   "cell_type": "code",
   "execution_count": 94,
   "id": "0bb4b409",
   "metadata": {},
   "outputs": [
    {
     "name": "stdout",
     "output_type": "stream",
     "text": [
      "Fitting 5 folds for each of 96 candidates, totalling 480 fits\n"
     ]
    },
    {
     "data": {
      "text/plain": [
       "GridSearchCV(cv=5, estimator=RandomForestRegressor(random_state=42), n_jobs=4,\n",
       "             param_grid={'bootstrap': [True, False], 'max_depth': [35, 55],\n",
       "                         'max_features': ['auto', 'sqrt'],\n",
       "                         'min_samples_leaf': [0.001, 0.005],\n",
       "                         'min_samples_split': [0.001, 0.005],\n",
       "                         'n_estimators': [130, 160, 190]},\n",
       "             return_train_score=True, verbose=2)"
      ]
     },
     "execution_count": 94,
     "metadata": {},
     "output_type": "execute_result"
    }
   ],
   "source": [
    "rf_grid.fit(x_train, y_train)"
   ]
  },
  {
   "cell_type": "code",
   "execution_count": 95,
   "id": "0b506b67",
   "metadata": {},
   "outputs": [
    {
     "data": {
      "text/plain": [
       "{'bootstrap': True,\n",
       " 'max_depth': 35,\n",
       " 'max_features': 'auto',\n",
       " 'min_samples_leaf': 0.005,\n",
       " 'min_samples_split': 0.001,\n",
       " 'n_estimators': 130}"
      ]
     },
     "execution_count": 95,
     "metadata": {},
     "output_type": "execute_result"
    }
   ],
   "source": [
    "rf_grid.best_params_"
   ]
  },
  {
   "cell_type": "code",
   "execution_count": 96,
   "id": "1a479899",
   "metadata": {},
   "outputs": [
    {
     "data": {
      "text/plain": [
       "0.8590935815224631"
      ]
     },
     "execution_count": 96,
     "metadata": {},
     "output_type": "execute_result"
    }
   ],
   "source": [
    "rf_grid.best_score_"
   ]
  },
  {
   "cell_type": "code",
   "execution_count": 97,
   "id": "f9d954b8",
   "metadata": {},
   "outputs": [],
   "source": [
    "rf_grid_pred = rf_grid.predict(x_test)"
   ]
  },
  {
   "cell_type": "markdown",
   "id": "3edc445f",
   "metadata": {},
   "source": [
    "### Evaluating the Model with hyperparameter Tuning"
   ]
  },
  {
   "cell_type": "code",
   "execution_count": 98,
   "id": "3216e785",
   "metadata": {},
   "outputs": [
    {
     "name": "stdout",
     "output_type": "stream",
     "text": [
      "Mean Absolute Error: 0.90543196052277\n",
      "Mean Squared Error: 2.6952452389567965\n",
      "Root Mean Squared Error: 1.641720207269435\n"
     ]
    }
   ],
   "source": [
    "# Evaluating the Algorithm with hyperparameter Tuning\n",
    "from sklearn import metrics\n",
    "print('Mean Absolute Error:', metrics.mean_absolute_error(y_test, rf_grid_pred))  \n",
    "print('Mean Squared Error:', metrics.mean_squared_error(y_test, rf_grid_pred))  \n",
    "print('Root Mean Squared Error:', np.sqrt(metrics.mean_squared_error(y_test,rf_grid_pred)))"
   ]
  },
  {
   "cell_type": "markdown",
   "id": "d58d0e56",
   "metadata": {},
   "source": [
    "## Check Accuracy of Tuning"
   ]
  },
  {
   "cell_type": "code",
   "execution_count": 99,
   "id": "f9b95bd7",
   "metadata": {},
   "outputs": [
    {
     "name": "stdout",
     "output_type": "stream",
     "text": [
      "Train Accuracy - :0.93\n",
      "Test Accuracy - :0.83\n"
     ]
    }
   ],
   "source": [
    "print(f'Train Accuracy - :{rf_grid.score(x_train,y_train):.2f}')\n",
    "print(f'Test Accuracy - :{rf_grid.score(x_test,y_test):.2f}')\n"
   ]
  },
  {
   "cell_type": "markdown",
   "id": "c535d16d",
   "metadata": {},
   "source": [
    "# WITH RandomizedSearchCV"
   ]
  },
  {
   "cell_type": "code",
   "execution_count": 100,
   "id": "d520de0c",
   "metadata": {},
   "outputs": [],
   "source": [
    "from sklearn.model_selection import RandomizedSearchCV\n",
    "\n",
    "# Number of trees in random forest\n",
    "n_estimators = [int(x) for x in np.linspace(start = 10, stop = 200, num = 10)]\n",
    "# Number of features to consider at every split\n",
    "max_features = ['auto', 'sqrt']\n",
    "# Maximum number of levels in tree\n",
    "max_depth = [int(x) for x in np.linspace(10, 110, num = 11)]\n",
    "max_depth.append(None)\n",
    "# Minimum number of samples required to split a node\n",
    "min_samples_split = [2, 5, 10]\n",
    "# Minimum number of samples required at each leaf node\n",
    "min_samples_leaf = [1, 2, 4]\n",
    "# Method of selecting samples for training each tree\n",
    "bootstrap = [True, False]"
   ]
  },
  {
   "cell_type": "code",
   "execution_count": 101,
   "id": "96dc2b93",
   "metadata": {},
   "outputs": [
    {
     "name": "stdout",
     "output_type": "stream",
     "text": [
      "{'n_estimators': [10, 31, 52, 73, 94, 115, 136, 157, 178, 200], 'max_features': ['auto', 'sqrt'], 'max_depth': [10, 20, 30, 40, 50, 60, 70, 80, 90, 100, 110, None], 'min_samples_split': [2, 5, 10], 'min_samples_leaf': [1, 2, 4], 'bootstrap': [True, False]}\n"
     ]
    }
   ],
   "source": [
    "# Create the random grid\n",
    "#converting the above list to dictionary to be used for the randomised search cv\n",
    "param_random_grid = {'n_estimators': n_estimators,\n",
    "               'max_features': max_features,\n",
    "               'max_depth': max_depth,\n",
    "               'min_samples_split': min_samples_split,\n",
    "               'min_samples_leaf': min_samples_leaf,\n",
    "               'bootstrap': bootstrap}\n",
    "\n",
    "print(param_random_grid)"
   ]
  },
  {
   "cell_type": "code",
   "execution_count": 102,
   "id": "043d8ac8",
   "metadata": {},
   "outputs": [],
   "source": [
    "from sklearn.model_selection import RandomizedSearchCV\n",
    "rf_randomgrid = RandomizedSearchCV(estimator = rf_model, param_distributions = param_random_grid, cv = 5, verbose = 2, n_jobs = 4, return_train_score = True)"
   ]
  },
  {
   "cell_type": "code",
   "execution_count": 103,
   "id": "069a6b2f",
   "metadata": {},
   "outputs": [
    {
     "name": "stdout",
     "output_type": "stream",
     "text": [
      "Fitting 5 folds for each of 10 candidates, totalling 50 fits\n"
     ]
    },
    {
     "data": {
      "text/plain": [
       "RandomizedSearchCV(cv=5, estimator=RandomForestRegressor(random_state=42),\n",
       "                   n_jobs=4,\n",
       "                   param_distributions={'bootstrap': [True, False],\n",
       "                                        'max_depth': [10, 20, 30, 40, 50, 60,\n",
       "                                                      70, 80, 90, 100, 110,\n",
       "                                                      None],\n",
       "                                        'max_features': ['auto', 'sqrt'],\n",
       "                                        'min_samples_leaf': [1, 2, 4],\n",
       "                                        'min_samples_split': [2, 5, 10],\n",
       "                                        'n_estimators': [10, 31, 52, 73, 94,\n",
       "                                                         115, 136, 157, 178,\n",
       "                                                         200]},\n",
       "                   return_train_score=True, verbose=2)"
      ]
     },
     "execution_count": 103,
     "metadata": {},
     "output_type": "execute_result"
    }
   ],
   "source": [
    "rf_randomgrid.fit(x_train,y_train)"
   ]
  },
  {
   "cell_type": "code",
   "execution_count": 104,
   "id": "f8743bab",
   "metadata": {},
   "outputs": [
    {
     "data": {
      "text/plain": [
       "{'n_estimators': 115,\n",
       " 'min_samples_split': 2,\n",
       " 'min_samples_leaf': 4,\n",
       " 'max_features': 'auto',\n",
       " 'max_depth': 100,\n",
       " 'bootstrap': True}"
      ]
     },
     "execution_count": 104,
     "metadata": {},
     "output_type": "execute_result"
    }
   ],
   "source": [
    "rf_randomgrid.best_params_"
   ]
  },
  {
   "cell_type": "code",
   "execution_count": 105,
   "id": "4308d3f6",
   "metadata": {},
   "outputs": [
    {
     "data": {
      "text/plain": [
       "0.8586481156121529"
      ]
     },
     "execution_count": 105,
     "metadata": {},
     "output_type": "execute_result"
    }
   ],
   "source": [
    "rf_randomgrid.best_score_"
   ]
  },
  {
   "cell_type": "code",
   "execution_count": 106,
   "id": "4668e090",
   "metadata": {},
   "outputs": [
    {
     "name": "stdout",
     "output_type": "stream",
     "text": [
      "2.746094355915106\n",
      "1.6571343807655148\n"
     ]
    }
   ],
   "source": [
    "# Predict on test data\n",
    "prediction = rf_randomgrid.predict(x_test)# Compute mean squared error\n",
    "mse = mean_squared_error(y_test, prediction)# Print results\n",
    "print(mse)\n",
    "print(mse**.5)"
   ]
  },
  {
   "cell_type": "code",
   "execution_count": 107,
   "id": "6c12aedc",
   "metadata": {},
   "outputs": [
    {
     "name": "stdout",
     "output_type": "stream",
     "text": [
      "Mean Absolute Error: 0.9221193205594633\n",
      "Mean Squared Error: 2.746094355915106\n",
      "Root Mean Squared Error: 1.6571343807655148\n"
     ]
    }
   ],
   "source": [
    "# Evaluating the Algorithm with hyperparameter Tuning\n",
    "from sklearn import metrics\n",
    "print('Mean Absolute Error:', metrics.mean_absolute_error(y_test, prediction))  \n",
    "print('Mean Squared Error:', metrics.mean_squared_error(y_test, prediction))  \n",
    "print('Root Mean Squared Error:', np.sqrt(metrics.mean_squared_error(y_test,prediction)))"
   ]
  },
  {
   "cell_type": "markdown",
   "id": "764fcaca",
   "metadata": {},
   "source": [
    "## Check Accuracy of Tuning"
   ]
  },
  {
   "cell_type": "code",
   "execution_count": 108,
   "id": "13738f65",
   "metadata": {},
   "outputs": [
    {
     "name": "stdout",
     "output_type": "stream",
     "text": [
      "Train Accuracy - :0.94\n",
      "Test Accuracy - :0.82\n"
     ]
    }
   ],
   "source": [
    "print(f'Train Accuracy - :{rf_randomgrid.score(x_train,y_train):.2f}')\n",
    "print(f'Test Accuracy - :{rf_randomgrid.score(x_test,y_test):.2f}')\n"
   ]
  },
  {
   "cell_type": "code",
   "execution_count": null,
   "id": "4cd7a19c",
   "metadata": {},
   "outputs": [],
   "source": []
  },
  {
   "cell_type": "code",
   "execution_count": null,
   "id": "a9534690",
   "metadata": {},
   "outputs": [],
   "source": []
  }
 ],
 "metadata": {
  "kernelspec": {
   "display_name": "Python 3 (ipykernel)",
   "language": "python",
   "name": "python3"
  },
  "language_info": {
   "codemirror_mode": {
    "name": "ipython",
    "version": 3
   },
   "file_extension": ".py",
   "mimetype": "text/x-python",
   "name": "python",
   "nbconvert_exporter": "python",
   "pygments_lexer": "ipython3",
   "version": "3.9.7"
  }
 },
 "nbformat": 4,
 "nbformat_minor": 5
}
